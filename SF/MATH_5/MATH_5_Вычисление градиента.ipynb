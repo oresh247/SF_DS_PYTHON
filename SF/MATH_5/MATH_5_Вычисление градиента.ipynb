{
 "cells": [
  {
   "cell_type": "code",
   "execution_count": 1,
   "metadata": {},
   "outputs": [],
   "source": [
    "import numpy as np"
   ]
  },
  {
   "cell_type": "code",
   "execution_count": 2,
   "metadata": {},
   "outputs": [
    {
     "data": {
      "text/plain": [
       "array([ 4. ,  5.5,  8. , 11. , 12. , 11. ])"
      ]
     },
     "execution_count": 2,
     "metadata": {},
     "output_type": "execute_result"
    }
   ],
   "source": [
    "f = np.array([3, 7, 14, 23, 36, 47], dtype=float)\n",
    " \n",
    "np.gradient(f)\n",
    "\n",
    "# array([ 4. ,  5.5,  8. , 11. , 12. , 11. ])"
   ]
  },
  {
   "cell_type": "code",
   "execution_count": 3,
   "metadata": {},
   "outputs": [
    {
     "name": "stdout",
     "output_type": "stream",
     "text": [
      "4.0 11.0\n"
     ]
    }
   ],
   "source": [
    "print(f[1] - f[0], f[-1] - f[-2])"
   ]
  },
  {
   "cell_type": "code",
   "execution_count": 4,
   "metadata": {},
   "outputs": [
    {
     "data": {
      "text/plain": [
       "np.float64(12.0)"
      ]
     },
     "execution_count": 4,
     "metadata": {},
     "output_type": "execute_result"
    }
   ],
   "source": [
    "(f[2] - f[0])/2 # 5.5\n",
    "(f[3] - f[1])/2 # 8.0\n",
    "(f[4] - f[2])/2 # 11.0\n",
    "(f[5] - f[3])/2 # 12.0"
   ]
  },
  {
   "cell_type": "code",
   "execution_count": 6,
   "metadata": {},
   "outputs": [
    {
     "name": "stdout",
     "output_type": "stream",
     "text": [
      "2.75\n",
      "4.0\n",
      "5.5\n",
      "6.0\n"
     ]
    }
   ],
   "source": [
    "np.gradient(f, 2)\n",
    "\n",
    "# array([2.  , 2.75, 4.  , 5.5 , 6.  , 5.5 ])\n",
    "\n",
    "for i in range(1, len(f) - 1):\n",
    "    print((f[i + 1] - f[i - 1])/(2*2))"
   ]
  },
  {
   "cell_type": "code",
   "execution_count": 8,
   "metadata": {},
   "outputs": [
    {
     "name": "stdout",
     "output_type": "stream",
     "text": [
      "Градиент в точке M(1, 1): (-4, -8)\n"
     ]
    }
   ],
   "source": [
    "import sympy as sp\n",
    "# Определяем переменные\n",
    "a, b = sp.symbols('a b')\n",
    "\n",
    "# Определяем функцию\n",
    "f = (5 - a - 2*b)**2\n",
    "\n",
    "# Вычисляем частные производные\n",
    "df_da = sp.diff(f, a)\n",
    "df_db = sp.diff(f, b)\n",
    "\n",
    "# Вычисляем градиент в точке M(1, 1)\n",
    "point = (1, 1)\n",
    "gradient_at_M = (df_da.subs({a: point[0], b: point[1]}), df_db.subs({a: point[0], b: point[1]}))\n",
    "\n",
    "# Выводим результат\n",
    "print(\"Градиент в точке M(1, 1):\", gradient_at_M)"
   ]
  },
  {
   "cell_type": "code",
   "execution_count": 12,
   "metadata": {},
   "outputs": [
    {
     "name": "stdout",
     "output_type": "stream",
     "text": [
      "6.0*w0 + 18.0*w1 - 18.2\n",
      "18.0*w0 + 70.0*w1 - 62.6\n",
      "[6.0*w0 + 18.0*w1 - 18.2, 18.0*w0 + 70.0*w1 - 62.6]\n",
      "{w0: 1.53333333333333, w1: 0.500000000000000}\n"
     ]
    }
   ],
   "source": [
    "import sympy as sp\n",
    "\n",
    "# Определяем переменные\n",
    "w0, w1 = sp.symbols('w0 w1')\n",
    "\n",
    "# Определяем функцию L\n",
    "L = (2.1 - w0 - w1)**2 + (2.9 - w0 - 3*w1)**2 + (4.1 - w0 - 5*w1)**2\n",
    "\n",
    "# Вычисляем частные производные\n",
    "dL_dw0 = sp.diff(L, w0)\n",
    "print(dL_dw0)\n",
    "dL_dw1 = sp.diff(L, w1)\n",
    "print(dL_dw1)\n",
    "\n",
    "# Устанавливаем градиент в ноль\n",
    "grad_eqs = [dL_dw0, dL_dw1]\n",
    "print(grad_eqs)\n",
    "\n",
    "# Решаем систему уравнений\n",
    "solutions = sp.solve(grad_eqs, (w0, w1))\n",
    "print(solutions)\n"
   ]
  },
  {
   "cell_type": "code",
   "execution_count": 18,
   "metadata": {},
   "outputs": [
    {
     "name": "stdout",
     "output_type": "stream",
     "text": [
      "1.4285714285714286\n"
     ]
    }
   ],
   "source": [
    "f = np.array([8, 2, 8, 3, 5, 6, 5, 15], dtype=float)\n",
    " \n",
    "f_grad = np.gradient(f, 7)\n",
    "print(f_grad[7])\n",
    "\n"
   ]
  }
 ],
 "metadata": {
  "kernelspec": {
   "display_name": "Python 3",
   "language": "python",
   "name": "python3"
  },
  "language_info": {
   "codemirror_mode": {
    "name": "ipython",
    "version": 3
   },
   "file_extension": ".py",
   "mimetype": "text/x-python",
   "name": "python",
   "nbconvert_exporter": "python",
   "pygments_lexer": "ipython3",
   "version": "3.13.1"
  }
 },
 "nbformat": 4,
 "nbformat_minor": 2
}
