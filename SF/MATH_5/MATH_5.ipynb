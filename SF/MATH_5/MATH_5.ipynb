{
 "cells": [
  {
   "cell_type": "code",
   "execution_count": 1,
   "metadata": {},
   "outputs": [],
   "source": [
    "from sympy import Symbol, S\n",
    "from sympy.calculus.util import continuous_domain \n",
    "from sympy.calculus.util import function_range\n",
    "from sympy import solveset, Eq\n",
    "import sympy\n",
    "from sympy import diff\n",
    "from sympy import Symbol, limit, oo"
   ]
  },
  {
   "cell_type": "code",
   "execution_count": 61,
   "metadata": {},
   "outputs": [],
   "source": [
    "def sf(f):\n",
    "  x = sympy.Symbol(\"x\")\n",
    "  #f = x**3 + 4*x - 5\n",
    "  print(f'Иследуем функцию:\\n{f}\\n')\n",
    "  cd = continuous_domain(f, x, S.Reals)\n",
    "  print(f'Область определения f:\\n{cd}\\n')\n",
    "  r = function_range(f, x, S.Reals)\n",
    "  print(f'Область значений функции f:\\n{r}\\n')\n",
    "  y_solveset = solveset(Eq(f, 0), x)\n",
    "  print(f'Пересечение f с осью абсцисс:\\n{y_solveset}\\n')\n",
    "  x_subset = f.subs(x, 0)\n",
    "  print(f'Пересечение f с осью ординат:\\n{x_subset}\\n')\n",
    "  d = f.diff(x)\n",
    "  print(f'Первая производная:\\n{d}\\n')\n",
    "  d_y_solveset = solveset(Eq(d, 0), x)\n",
    "  print(f'Пересечение f` с осью абсцисс:\\n{d_y_solveset}\\n')\n",
    "  d_x_subset = d.subs(x, 0)\n",
    "  print(f'Пересечение f` с осью ординат:\\n{d_x_subset}\\n')\n",
    "  dd = f.diff(x,2)\n",
    "  print(f'Вторая производная:\\n{dd}\\n')\n",
    "  return x,f,d,dd\n"
   ]
  },
  {
   "cell_type": "code",
   "execution_count": 32,
   "metadata": {},
   "outputs": [
    {
     "name": "stdout",
     "output_type": "stream",
     "text": [
      "Иследуем функцию:\n",
      "x**3 + 4*x - 5\n",
      "\n",
      "Область определения f:\n",
      "Reals\n",
      "\n",
      "Область значений функции f:\n",
      "Interval(-oo, oo)\n",
      "\n",
      "Пересечение f с осью абсцисс:\n",
      "{1, -1/2 - sqrt(19)*I/2, -1/2 + sqrt(19)*I/2}\n",
      "\n",
      "Пересечение f с осью ординат:\n",
      "-5\n",
      "\n",
      "Первая производная:\n",
      "3*x**2 + 4\n",
      "\n",
      "Пересечение f` с осью абсцисс:\n",
      "{-2*sqrt(3)*I/3, 2*sqrt(3)*I/3}\n",
      "\n",
      "Пересечение f` с осью ординат:\n",
      "4\n",
      "\n",
      "Вторая производная:\n",
      "6*x\n",
      "\n"
     ]
    },
    {
     "data": {
      "text/latex": [
       "$\\displaystyle 7$"
      ],
      "text/plain": [
       "7"
      ]
     },
     "execution_count": 32,
     "metadata": {},
     "output_type": "execute_result"
    }
   ],
   "source": [
    "x,f,d,dd = sf(x**3 + 4*x - 5)\n",
    "d.subs(x, 1)"
   ]
  },
  {
   "cell_type": "code",
   "execution_count": 10,
   "metadata": {},
   "outputs": [
    {
     "data": {
      "text/latex": [
       "$\\displaystyle 6 x$"
      ],
      "text/plain": [
       "6*x"
      ]
     },
     "execution_count": 10,
     "metadata": {},
     "output_type": "execute_result"
    }
   ],
   "source": [
    "y2 = f.diff(x,2)\n",
    "y2"
   ]
  },
  {
   "cell_type": "code",
   "execution_count": 11,
   "metadata": {},
   "outputs": [
    {
     "data": {
      "text/latex": [
       "$\\displaystyle 6$"
      ],
      "text/plain": [
       "6"
      ]
     },
     "execution_count": 11,
     "metadata": {},
     "output_type": "execute_result"
    }
   ],
   "source": [
    "y2.subs(x, 1)"
   ]
  },
  {
   "cell_type": "code",
   "execution_count": 15,
   "metadata": {},
   "outputs": [],
   "source": [
    "f = x**2 - 5*x +4"
   ]
  },
  {
   "cell_type": "code",
   "execution_count": 16,
   "metadata": {},
   "outputs": [
    {
     "data": {
      "text/latex": [
       "$\\displaystyle 2 x - 5$"
      ],
      "text/plain": [
       "2*x - 5"
      ]
     },
     "execution_count": 16,
     "metadata": {},
     "output_type": "execute_result"
    }
   ],
   "source": [
    "y = f.diff(x)\n",
    "y"
   ]
  },
  {
   "cell_type": "code",
   "execution_count": 17,
   "metadata": {},
   "outputs": [
    {
     "data": {
      "text/latex": [
       "$\\displaystyle \\left\\{\\frac{5}{2}\\right\\}$"
      ],
      "text/plain": [
       "{5/2}"
      ]
     },
     "execution_count": 17,
     "metadata": {},
     "output_type": "execute_result"
    }
   ],
   "source": [
    "solveset(Eq(y, 0), x)"
   ]
  },
  {
   "cell_type": "code",
   "execution_count": 34,
   "metadata": {},
   "outputs": [
    {
     "name": "stdout",
     "output_type": "stream",
     "text": [
      "Иследуем функцию:\n",
      "x**3 - 6*x**2 + 2\n",
      "\n",
      "Область определения f:\n",
      "Reals\n",
      "\n",
      "Область значений функции f:\n",
      "Interval(-oo, oo)\n",
      "\n",
      "Пересечение f с осью абсцисс:\n",
      "{2 + 4*cos(atan(sqrt(15)/7)/3), -cos(atan(sqrt(15)/7)/3) + 4*re(1/((-1/2 - sqrt(3)*I/2)*(7 + sqrt(15)*I)**(1/3))) + sqrt(3)*sin(atan(sqrt(15)/7)/3) + 2 + I*(-sqrt(3)*cos(atan(sqrt(15)/7)/3) - sin(atan(sqrt(15)/7)/3) + 4*im(1/((-1/2 - sqrt(3)*I/2)*(7 + sqrt(15)*I)**(1/3)))), 4*re(1/((-1/2 + sqrt(3)*I/2)*(7 + sqrt(15)*I)**(1/3))) - cos(atan(sqrt(15)/7)/3) - sqrt(3)*sin(atan(sqrt(15)/7)/3) + 2 + I*(4*im(1/((-1/2 + sqrt(3)*I/2)*(7 + sqrt(15)*I)**(1/3))) - sin(atan(sqrt(15)/7)/3) + sqrt(3)*cos(atan(sqrt(15)/7)/3))}\n",
      "\n",
      "Пересечение f с осью ординат:\n",
      "2\n",
      "\n",
      "Первая производная:\n",
      "3*x**2 - 12*x\n",
      "\n",
      "Пересечение f` с осью абсцисс:\n",
      "{0, 4}\n",
      "\n",
      "Пересечение f` с осью ординат:\n",
      "0\n",
      "\n",
      "Вторая производная:\n",
      "6*(x - 2)\n",
      "\n"
     ]
    }
   ],
   "source": [
    "x,f,d,dd = sf(x**3 - 6*x**2 + 2)"
   ]
  },
  {
   "cell_type": "code",
   "execution_count": 35,
   "metadata": {},
   "outputs": [
    {
     "data": {
      "text/latex": [
       "$\\displaystyle -9$"
      ],
      "text/plain": [
       "-9"
      ]
     },
     "execution_count": 35,
     "metadata": {},
     "output_type": "execute_result"
    }
   ],
   "source": [
    "d.subs(x, 1)"
   ]
  },
  {
   "cell_type": "code",
   "execution_count": 36,
   "metadata": {},
   "outputs": [
    {
     "data": {
      "text/latex": [
       "$\\displaystyle 15$"
      ],
      "text/plain": [
       "15"
      ]
     },
     "execution_count": 36,
     "metadata": {},
     "output_type": "execute_result"
    }
   ],
   "source": [
    "d.subs(x, 5)"
   ]
  },
  {
   "cell_type": "code",
   "execution_count": 38,
   "metadata": {},
   "outputs": [
    {
     "name": "stdout",
     "output_type": "stream",
     "text": [
      "Значение метрики L2-loss: 0.5500000000000004\n"
     ]
    }
   ],
   "source": [
    "import numpy as np\n",
    "\n",
    "# Реальные и предсказанные значения\n",
    "real_values = np.array([6, 7, 6, 4, 5, 6, 8])\n",
    "predicted_values = np.array([6.4, 7.1, 5.9, 4.2, 5.2, 6.2, 7.5])\n",
    "\n",
    "# Вычисляем L2-loss\n",
    "l2_loss = np.sum((real_values - predicted_values) ** 2)\n",
    "\n",
    "# Выводим результат\n",
    "print(\"Значение метрики L2-loss:\", l2_loss)"
   ]
  },
  {
   "cell_type": "code",
   "execution_count": 46,
   "metadata": {},
   "outputs": [
    {
     "name": "stdout",
     "output_type": "stream",
     "text": [
      "2.24\n"
     ]
    }
   ],
   "source": [
    "from sympy import sqrt\n",
    "# Вычисляем корень из 5\n",
    "result = sqrt(5)\n",
    "\n",
    "# Вычисляем численное значение корня из 5\n",
    "numeric_result = round(result.evalf(), 2)\n",
    "\n",
    "# Выводим численное значение\n",
    "print(numeric_result)\n"
   ]
  },
  {
   "cell_type": "code",
   "execution_count": 47,
   "metadata": {},
   "outputs": [
    {
     "name": "stdout",
     "output_type": "stream",
     "text": [
      "0.98\n"
     ]
    }
   ],
   "source": [
    "from sympy import exp\n",
    "result = 1/(1+exp(-2*(1+1+0)))\n",
    "\n",
    "# Вычисляем численное значение корня из 5\n",
    "numeric_result = round(result.evalf(), 2)\n",
    "\n",
    "# Выводим численное значение\n",
    "print(numeric_result)\n"
   ]
  },
  {
   "cell_type": "code",
   "execution_count": 48,
   "metadata": {},
   "outputs": [
    {
     "name": "stdout",
     "output_type": "stream",
     "text": [
      "0.88\n"
     ]
    }
   ],
   "source": [
    "result = 1/(1+exp(-2*(0.1+0.3+0.6)))\n",
    "\n",
    "# Вычисляем численное значение корня из 5\n",
    "numeric_result = round(result.evalf(), 2)\n",
    "\n",
    "# Выводим численное значение\n",
    "print(numeric_result)\n"
   ]
  },
  {
   "cell_type": "code",
   "execution_count": 50,
   "metadata": {},
   "outputs": [
    {
     "name": "stdout",
     "output_type": "stream",
     "text": [
      "Коэффициенты:\n",
      "w0 = 1.5333333333333339\n",
      "w1 = 0.4999999999999998\n",
      "Целевая переменная для x=1,2,3: [2.03333333 3.03333333 4.03333333]\n"
     ]
    }
   ],
   "source": [
    "import numpy as np\n",
    "from sklearn.linear_model import LinearRegression\n",
    "\n",
    "# Данные\n",
    "x = np.array([[1], [3], [5]])  # Признаки (должны быть в виде двумерного массива)\n",
    "y = np.array([2.1, 2.9, 4.1])   # Целевая переменная\n",
    "\n",
    "# Создаем модель линейной регрессии\n",
    "model = LinearRegression()\n",
    "\n",
    "# Обучаем модель\n",
    "model.fit(x, y)\n",
    "\n",
    "# Получаем коэффициенты w0 и w1\n",
    "w0 = model.intercept_\n",
    "w1 = model.coef_[0]\n",
    "\n",
    "# Значения x для предсказания\n",
    "x_values = np.array([1, 3, 5])\n",
    "\n",
    "# Вычисляем целевую переменную\n",
    "predicted_values = w0 + w1 * x_values\n",
    "\n",
    "# Выводим результаты\n",
    "print(\"Коэффициенты:\")\n",
    "print(\"w0 =\", w0)\n",
    "print(\"w1 =\", w1)\n",
    "print(\"Целевая переменная для x=1, 3, 5:\", predicted_values)"
   ]
  },
  {
   "cell_type": "code",
   "execution_count": 53,
   "metadata": {},
   "outputs": [
    {
     "name": "stdout",
     "output_type": "stream",
     "text": [
      "8*a**7 + 5*b - cos(c)\n"
     ]
    }
   ],
   "source": [
    "from sympy import symbols, cos, diff\n",
    "\n",
    "a, b, c = symbols('a b c', real=True)\n",
    "f = 5*a*b - a*cos(c) + a**8 + c**2*b\n",
    "\n",
    "print(diff(f, a))"
   ]
  },
  {
   "cell_type": "code",
   "execution_count": 56,
   "metadata": {},
   "outputs": [
    {
     "name": "stdout",
     "output_type": "stream",
     "text": [
      "2*a + 4*b - 10\n",
      "4*a + 8*b - 20\n"
     ]
    }
   ],
   "source": [
    "a, b = symbols('a b', real=True)\n",
    "f = (5-a-2*b)**2\n",
    "print(diff(f, a))\n",
    "print(diff(f, b))"
   ]
  },
  {
   "cell_type": "code",
   "execution_count": 58,
   "metadata": {},
   "outputs": [
    {
     "name": "stdout",
     "output_type": "stream",
     "text": [
      "2*x + 3*y\n",
      "3*x + 8*y\n"
     ]
    }
   ],
   "source": [
    "x, y = symbols('x y', real=True)\n",
    "f = x**2+3*x*y+4*y**2\n",
    "dx = diff(f, x)\n",
    "dy = diff(f, y)\n",
    "print(dx)\n",
    "print(dy)\n"
   ]
  },
  {
   "cell_type": "code",
   "execution_count": 59,
   "metadata": {},
   "outputs": [
    {
     "name": "stdout",
     "output_type": "stream",
     "text": [
      "y*cos(x)\n",
      "sin(x) + cos(y)\n"
     ]
    }
   ],
   "source": [
    "from sympy import Symbol, S, sin \n",
    "x, y = symbols('x y', real=True)\n",
    "f = y*sin(x)+sin(y)\n",
    "dx = diff(f, x)\n",
    "dy = diff(f, y)\n",
    "print(dx)\n",
    "print(dy)"
   ]
  },
  {
   "cell_type": "code",
   "execution_count": 62,
   "metadata": {},
   "outputs": [
    {
     "name": "stdout",
     "output_type": "stream",
     "text": [
      "Иследуем функцию:\n",
      "-2*x**3 - 3*x**2 + 12*x - 4\n",
      "\n",
      "Область определения f:\n",
      "Reals\n",
      "\n",
      "Область значений функции f:\n",
      "Interval(-oo, oo)\n",
      "\n",
      "Пересечение f с осью абсцисс:\n",
      "{-3*cos(atan(4*sqrt(2)/7)/3) - 1/2, -1/2 - 3*sqrt(3)*sin(atan(4*sqrt(2)/7)/3)/4 - 27*re(1/((-1/2 - sqrt(3)*I/2)*(567/8 + 81*sqrt(2)*I/2)**(1/3)))/4 + 3*cos(atan(4*sqrt(2)/7)/3)/4 + I*(-27*im(1/((-1/2 - sqrt(3)*I/2)*(567/8 + 81*sqrt(2)*I/2)**(1/3)))/4 + 3*sin(atan(4*sqrt(2)/7)/3)/4 + 3*sqrt(3)*cos(atan(4*sqrt(2)/7)/3)/4), -1/2 + 3*sqrt(3)*sin(atan(4*sqrt(2)/7)/3)/4 + 3*cos(atan(4*sqrt(2)/7)/3)/4 - 27*re(1/((-1/2 + sqrt(3)*I/2)*(567/8 + 81*sqrt(2)*I/2)**(1/3)))/4 + I*(-3*sqrt(3)*cos(atan(4*sqrt(2)/7)/3)/4 + 3*sin(atan(4*sqrt(2)/7)/3)/4 - 27*im(1/((-1/2 + sqrt(3)*I/2)*(567/8 + 81*sqrt(2)*I/2)**(1/3)))/4)}\n",
      "\n",
      "Пересечение f с осью ординат:\n",
      "-4\n",
      "\n",
      "Первая производная:\n",
      "-6*x**2 - 6*x + 12\n",
      "\n",
      "Пересечение f` с осью абсцисс:\n",
      "{-2, 1}\n",
      "\n",
      "Пересечение f` с осью ординат:\n",
      "12\n",
      "\n",
      "Вторая производная:\n",
      "-6*(2*x + 1)\n",
      "\n"
     ]
    }
   ],
   "source": [
    "x,f,d,dd = sf(-2*x**3-3*x**2+12*x-4)"
   ]
  },
  {
   "cell_type": "code",
   "execution_count": 71,
   "metadata": {},
   "outputs": [],
   "source": [
    "import sympy as sp\n",
    "\n",
    "def hessian(func, vars):\n",
    "    \"\"\"\n",
    "    Вычисляет матрицу Гессе (гессиан) для заданной функции.\n",
    "    \n",
    "    :param func: Символическая функция, для которой нужно найти матрицу Гессе.\n",
    "    :param vars: Список переменных, по которым будет вычисляться матрица Гессе.\n",
    "    :return: Матрица Гессе.\n",
    "    \"\"\"\n",
    "    # Вычисляем вторые производные и формируем матрицу Гессе\n",
    "    hess_matrix = sp.Matrix(len(vars), len(vars), lambda i, j: sp.diff(func, vars[i], vars[j]))\n",
    "    return hess_matrix\n",
    "\n"
   ]
  },
  {
   "cell_type": "code",
   "execution_count": 66,
   "metadata": {},
   "outputs": [
    {
     "name": "stdout",
     "output_type": "stream",
     "text": [
      "Матрица Гессе:\n",
      "⎡2  0⎤\n",
      "⎢    ⎥\n",
      "⎣0  2⎦\n"
     ]
    }
   ],
   "source": [
    "# Пример использования\n",
    "x, y = sp.symbols('x y')\n",
    "# Определяем функцию\n",
    "f = x**2 - 10*x + y**2 - 12*y + 71\n",
    "\n",
    "# Находим матрицу Гессе\n",
    "hessian_matrix = hessian(f, [x, y])\n",
    "\n",
    "# Выводим результат\n",
    "print(\"Матрица Гессе:\")\n",
    "sp.pprint(hessian_matrix)"
   ]
  },
  {
   "cell_type": "code",
   "execution_count": 67,
   "metadata": {},
   "outputs": [
    {
     "name": "stdout",
     "output_type": "stream",
     "text": [
      "Матрица Гессе:\n",
      "⎡  x        2 ⎤\n",
      "⎢ ℯ     15⋅y  ⎥\n",
      "⎢             ⎥\n",
      "⎢    2        ⎥\n",
      "⎣15⋅y   30⋅x⋅y⎦\n"
     ]
    }
   ],
   "source": [
    "# Определяем функцию\n",
    "f = exp(x) + 5*y**3*x\n",
    "\n",
    "# Находим матрицу Гессе\n",
    "hessian_matrix = hessian(f, [x, y])\n",
    "\n",
    "# Выводим результат\n",
    "print(\"Матрица Гессе:\")\n",
    "sp.pprint(hessian_matrix)"
   ]
  },
  {
   "cell_type": "code",
   "execution_count": 91,
   "metadata": {},
   "outputs": [],
   "source": [
    "def is_positive_definite(matrix):\n",
    "    \"\"\"\n",
    "    Проверяет, является ли матрица положительно определенной.\n",
    "    \n",
    "    :param matrix: Матрица для проверки.\n",
    "    :return: True, если матрица положительно определенная; False в противном случае.\n",
    "    \"\"\"\n",
    "    # Получаем собственные значения\n",
    "    eigenvalues = matrix.eigenvals()\n",
    "    eigenvalues_list = list(eigenvalues.keys())  # Извлекаем только собственные значения\n",
    "    print(\"Собственные значения:\", eigenvalues_list)\n",
    "    \n",
    "    # Проверяем все собственные значения\n",
    "    return all(ev > 0 for ev in eigenvalues)\n",
    "\n",
    "def is_negative_definite(matrix):\n",
    "    \"\"\"\n",
    "    Проверяет, является ли матрица отрицательно определенной.\n",
    "    \n",
    "    :param matrix: Матрица для проверки.\n",
    "    :return: True, если матрица отрицательно определенная; False в противном случае.\n",
    "    \"\"\"\n",
    "    # Получаем собственные значения\n",
    "    eigenvalues = matrix.eigenvals()\n",
    "    #eigenvalues_list = list(eigenvalues.keys())  # Извлекаем только собственные значения\n",
    "    #print(\"Собственные значения:\", eigenvalues_list)\n",
    "    \n",
    "    # Проверяем все собственные значения\n",
    "    return all(ev < 0 for ev in eigenvalues)"
   ]
  },
  {
   "cell_type": "code",
   "execution_count": 93,
   "metadata": {},
   "outputs": [
    {
     "name": "stdout",
     "output_type": "stream",
     "text": [
      "Матрица Гессе:\n",
      "⎡8   -6⎤\n",
      "⎢      ⎥\n",
      "⎣-6  10⎦\n",
      "Собственные значения: [9 - sqrt(37), sqrt(37) + 9]\n",
      "Матрица Гессе положительно определена в точке {x: -2, y: -1}.\n"
     ]
    }
   ],
   "source": [
    "x, y = sp.symbols('x y')\n",
    "# Определяем функцию\n",
    "f = 4*x**2-6*x*y-34*x+5*y**2+42*y+7\n",
    "\n",
    "# Находим матрицу Гессе\n",
    "hessian_matrix = hessian(f, [x, y])\n",
    "\n",
    "# Выводим результат\n",
    "print(\"Матрица Гессе:\")\n",
    "sp.pprint(hessian_matrix)\n",
    "# Проверяем определенность в точке \n",
    "c = {x: -2, y: -1}\n",
    "hessian_at_point = hessian_matrix.subs(c)\n",
    "\n",
    "if is_positive_definite(hessian_at_point):\n",
    "    print(f'Матрица Гессе положительно определена в точке {c}.')\n",
    "elif is_negative_definite(hessian_at_point):\n",
    "    print(f'Матрица Гессе отрицательно определена в точке {c}.')\n",
    "else:\n",
    "    print(f'Матрица Гессе не является ни положительно, ни отрицательно определенной в точке {c}.')"
   ]
  },
  {
   "cell_type": "code",
   "execution_count": 123,
   "metadata": {},
   "outputs": [],
   "source": [
    "def find_extrema(func, vars):\n",
    "    \"\"\"\n",
    "    Находит точки минимума и максимума функции нескольких переменных.\n",
    "    \n",
    "    :param func: Символическая функция, для которой нужно найти экстремумы.\n",
    "    :param vars: Список переменных, по которым будет производиться поиск.\n",
    "    :return: Список точек, в которых функция достигает экстремумов.\n",
    "    \"\"\"\n",
    "    # Шаг 1: Находим частные производные\n",
    "    partial_derivatives = [sp.diff(func, var) for var in vars]\n",
    "    \n",
    "    # Шаг 2: Находим точки, где частные производные равны нулю\n",
    "    critical_points = sp.solve(partial_derivatives, vars)\n",
    "    \n",
    "    return critical_points\n"
   ]
  },
  {
   "cell_type": "code",
   "execution_count": 129,
   "metadata": {},
   "outputs": [],
   "source": [
    "x, y = sp.symbols('x y')\n",
    "# Определяем функцию\n",
    "f = 4*x**2-6*x*y-34*x+5*y**2+42*y+7"
   ]
  },
  {
   "cell_type": "code",
   "execution_count": 130,
   "metadata": {},
   "outputs": [
    {
     "name": "stdout",
     "output_type": "stream",
     "text": [
      "Точки экстремумов:\n",
      "x = 2\n",
      "y = -3\n"
     ]
    }
   ],
   "source": [
    "# Находим экстремумы\n",
    "extrema_points = find_extrema(f, [x, y])\n",
    "\n",
    "# Выводим результат\n",
    "print(\"Точки экстремумов:\")\n",
    "for point in extrema_points:\n",
    "    print(f'{point} = {extrema_points[point]}')"
   ]
  },
  {
   "cell_type": "code",
   "execution_count": 131,
   "metadata": {},
   "outputs": [
    {
     "name": "stdout",
     "output_type": "stream",
     "text": [
      "Матрица Гессе:\n",
      "⎡8   -6⎤\n",
      "⎢      ⎥\n",
      "⎣-6  10⎦\n",
      "Собственные значения: [9 - sqrt(37), sqrt(37) + 9]\n",
      "Матрица Гессе положительно определена в точке {x: 2, y: -3}.\n"
     ]
    }
   ],
   "source": [
    "# Находим матрицу Гессе\n",
    "hessian_matrix = hessian(f, [x, y])\n",
    "\n",
    "# Выводим результат\n",
    "print(\"Матрица Гессе:\")\n",
    "sp.pprint(hessian_matrix)\n",
    "# Проверяем определенность в точке \n",
    "c = extrema_points\n",
    "hessian_at_point = hessian_matrix.subs(c)\n",
    "\n",
    "if is_positive_definite(hessian_at_point):\n",
    "    print(f'Матрица Гессе положительно определена в точке {c}.')\n",
    "elif is_negative_definite(hessian_at_point):\n",
    "    print(f'Матрица Гессе отрицательно определена в точке {c}.')\n",
    "else:\n",
    "    print(f'Матрица Гессе не является ни положительно, ни отрицательно определенной в точке {c}.')"
   ]
  },
  {
   "cell_type": "code",
   "execution_count": 132,
   "metadata": {},
   "outputs": [
    {
     "name": "stdout",
     "output_type": "stream",
     "text": [
      "Матрица Гессе:\n",
      "⎡6⋅x    -2  ⎤\n",
      "⎢           ⎥\n",
      "⎢          4⎥\n",
      "⎣-2   -30⋅y ⎦\n",
      "Matrix([[6, -2], [-2, -480]])\n",
      "Собственные значения: [-sqrt(59053) - 237, -237 + sqrt(59053)]\n",
      "Матрица Гессе не является ни положительно, ни отрицательно определенной в точке {x: 1, y: 2}.\n"
     ]
    }
   ],
   "source": [
    "x, y = sp.symbols('x y')\n",
    "# Определяем функцию\n",
    "f = x**3 - 2*x*y - y**6\n",
    "\n",
    "# Находим матрицу Гессе\n",
    "hessian_matrix = hessian(f, [x, y])\n",
    "\n",
    "# Выводим результат\n",
    "print(\"Матрица Гессе:\")\n",
    "sp.pprint(hessian_matrix)\n",
    "\n",
    "# Проверяем определенность в точке \n",
    "c = {x: 1, y: 2}\n",
    "hessian_at_point = hessian_matrix.subs(c)\n",
    "print(hessian_at_point)\n",
    "\n",
    "if is_positive_definite(hessian_at_point):\n",
    "    print(f'Матрица Гессе положительно определена в точке {c}.')\n",
    "elif is_negative_definite(hessian_at_point):\n",
    "    print(f'Матрица Гессе отрицательно определена в точке {c}.')\n",
    "else:\n",
    "    print(f'Матрица Гессе не является ни положительно, ни отрицательно определенной в точке {c}.')"
   ]
  },
  {
   "cell_type": "code",
   "execution_count": 135,
   "metadata": {},
   "outputs": [
    {
     "data": {
      "text/plain": [
       "np.float64(-2884.0000000000014)"
      ]
     },
     "execution_count": 135,
     "metadata": {},
     "output_type": "execute_result"
    }
   ],
   "source": [
    "matrix = [[6, -2],\n",
    "          [-2, -480]]\n",
    "np.linalg.det(matrix)"
   ]
  },
  {
   "cell_type": "code",
   "execution_count": 138,
   "metadata": {},
   "outputs": [
    {
     "name": "stdout",
     "output_type": "stream",
     "text": [
      "[(0, 0), (1, 1), ((-1/2 - sqrt(3)*I/2)**2, -1/2 - sqrt(3)*I/2), ((-1/2 + sqrt(3)*I/2)**2, -1/2 + sqrt(3)*I/2)]\n",
      "Матрица Гессе:\n",
      "⎡6⋅x  -3 ⎤\n",
      "⎢        ⎥\n",
      "⎣-3   6⋅y⎦\n",
      "Matrix([[6*x, -3], [-3, 6*y]])\n"
     ]
    }
   ],
   "source": [
    "x, y = sp.symbols('x y')\n",
    "# Определяем функцию\n",
    "f = x**3 + y**3 - 3*x*y\n",
    "\n",
    "# Находим экстремумы\n",
    "extrema_points = find_extrema(f, [x, y])\n",
    "print(extrema_points)\n",
    "\n",
    "# # Выводим результат\n",
    "# print(\"Точки экстремумов:\")\n",
    "# for point in extrema_points:\n",
    "#     print(f'{point} = {extrema_points[point]}')\n",
    "    \n",
    "# Находим матрицу Гессе\n",
    "hessian_matrix = hessian(f, [x, y])\n",
    "\n",
    "# Выводим результат\n",
    "print(\"Матрица Гессе:\")\n",
    "sp.pprint(hessian_matrix)\n",
    "# Проверяем определенность в точке \n",
    "c = extrema_points\n",
    "hessian_at_point = hessian_matrix.subs(c)\n",
    "\n",
    "print(hessian_at_point)"
   ]
  }
 ],
 "metadata": {
  "kernelspec": {
   "display_name": "Python 3",
   "language": "python",
   "name": "python3"
  },
  "language_info": {
   "codemirror_mode": {
    "name": "ipython",
    "version": 3
   },
   "file_extension": ".py",
   "mimetype": "text/x-python",
   "name": "python",
   "nbconvert_exporter": "python",
   "pygments_lexer": "ipython3",
   "version": "3.13.1"
  }
 },
 "nbformat": 4,
 "nbformat_minor": 2
}
