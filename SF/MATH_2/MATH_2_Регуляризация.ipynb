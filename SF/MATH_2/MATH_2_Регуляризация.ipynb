{
 "cells": [
  {
   "cell_type": "code",
   "execution_count": 1,
   "metadata": {},
   "outputs": [],
   "source": [
    "# Импорт библиотек\n",
    "import numpy as np # для работы с массивами\n",
    "import pandas as pd # для работы с DataFrame \n",
    "import seaborn as sns # библиотека для визуализации статистических данных\n",
    "import matplotlib.pyplot as plt # для построения графиков\n",
    "\n",
    "%matplotlib inline"
   ]
  },
  {
   "cell_type": "code",
   "execution_count": 7,
   "metadata": {},
   "outputs": [],
   "source": [
    "from sklearn.model_selection import cross_validate\n",
    "from sklearn.preprocessing import PolynomialFeatures, StandardScaler\n",
    "from sklearn.linear_model import LinearRegression"
   ]
  },
  {
   "cell_type": "code",
   "execution_count": 3,
   "metadata": {},
   "outputs": [
    {
     "data": {
      "text/html": [
       "<div>\n",
       "<style scoped>\n",
       "    .dataframe tbody tr th:only-of-type {\n",
       "        vertical-align: middle;\n",
       "    }\n",
       "\n",
       "    .dataframe tbody tr th {\n",
       "        vertical-align: top;\n",
       "    }\n",
       "\n",
       "    .dataframe thead th {\n",
       "        text-align: right;\n",
       "    }\n",
       "</style>\n",
       "<table border=\"1\" class=\"dataframe\">\n",
       "  <thead>\n",
       "    <tr style=\"text-align: right;\">\n",
       "      <th></th>\n",
       "      <th>CRIM</th>\n",
       "      <th>ZN</th>\n",
       "      <th>INDUS</th>\n",
       "      <th>CHAS</th>\n",
       "      <th>NOX</th>\n",
       "      <th>RM</th>\n",
       "      <th>AGE</th>\n",
       "      <th>DIS</th>\n",
       "      <th>RAD</th>\n",
       "      <th>TAX</th>\n",
       "      <th>PTRATIO</th>\n",
       "      <th>B</th>\n",
       "      <th>LSTAT</th>\n",
       "      <th>PRICE</th>\n",
       "    </tr>\n",
       "  </thead>\n",
       "  <tbody>\n",
       "    <tr>\n",
       "      <th>0</th>\n",
       "      <td>0.00632</td>\n",
       "      <td>18.0</td>\n",
       "      <td>2.31</td>\n",
       "      <td>0</td>\n",
       "      <td>0.538</td>\n",
       "      <td>6.575</td>\n",
       "      <td>65.2</td>\n",
       "      <td>4.0900</td>\n",
       "      <td>1</td>\n",
       "      <td>296.0</td>\n",
       "      <td>15.3</td>\n",
       "      <td>396.90</td>\n",
       "      <td>4.98</td>\n",
       "      <td>24.0</td>\n",
       "    </tr>\n",
       "    <tr>\n",
       "      <th>1</th>\n",
       "      <td>0.02731</td>\n",
       "      <td>0.0</td>\n",
       "      <td>7.07</td>\n",
       "      <td>0</td>\n",
       "      <td>0.469</td>\n",
       "      <td>6.421</td>\n",
       "      <td>78.9</td>\n",
       "      <td>4.9671</td>\n",
       "      <td>2</td>\n",
       "      <td>242.0</td>\n",
       "      <td>17.8</td>\n",
       "      <td>396.90</td>\n",
       "      <td>9.14</td>\n",
       "      <td>21.6</td>\n",
       "    </tr>\n",
       "    <tr>\n",
       "      <th>2</th>\n",
       "      <td>0.02729</td>\n",
       "      <td>0.0</td>\n",
       "      <td>7.07</td>\n",
       "      <td>0</td>\n",
       "      <td>0.469</td>\n",
       "      <td>7.185</td>\n",
       "      <td>61.1</td>\n",
       "      <td>4.9671</td>\n",
       "      <td>2</td>\n",
       "      <td>242.0</td>\n",
       "      <td>17.8</td>\n",
       "      <td>392.83</td>\n",
       "      <td>4.03</td>\n",
       "      <td>34.7</td>\n",
       "    </tr>\n",
       "    <tr>\n",
       "      <th>3</th>\n",
       "      <td>0.03237</td>\n",
       "      <td>0.0</td>\n",
       "      <td>2.18</td>\n",
       "      <td>0</td>\n",
       "      <td>0.458</td>\n",
       "      <td>6.998</td>\n",
       "      <td>45.8</td>\n",
       "      <td>6.0622</td>\n",
       "      <td>3</td>\n",
       "      <td>222.0</td>\n",
       "      <td>18.7</td>\n",
       "      <td>394.63</td>\n",
       "      <td>2.94</td>\n",
       "      <td>33.4</td>\n",
       "    </tr>\n",
       "    <tr>\n",
       "      <th>4</th>\n",
       "      <td>0.06905</td>\n",
       "      <td>0.0</td>\n",
       "      <td>2.18</td>\n",
       "      <td>0</td>\n",
       "      <td>0.458</td>\n",
       "      <td>7.147</td>\n",
       "      <td>54.2</td>\n",
       "      <td>6.0622</td>\n",
       "      <td>3</td>\n",
       "      <td>222.0</td>\n",
       "      <td>18.7</td>\n",
       "      <td>396.90</td>\n",
       "      <td>5.33</td>\n",
       "      <td>36.2</td>\n",
       "    </tr>\n",
       "  </tbody>\n",
       "</table>\n",
       "</div>"
      ],
      "text/plain": [
       "      CRIM    ZN  INDUS  CHAS    NOX     RM   AGE     DIS  RAD    TAX  \\\n",
       "0  0.00632  18.0   2.31     0  0.538  6.575  65.2  4.0900    1  296.0   \n",
       "1  0.02731   0.0   7.07     0  0.469  6.421  78.9  4.9671    2  242.0   \n",
       "2  0.02729   0.0   7.07     0  0.469  7.185  61.1  4.9671    2  242.0   \n",
       "3  0.03237   0.0   2.18     0  0.458  6.998  45.8  6.0622    3  222.0   \n",
       "4  0.06905   0.0   2.18     0  0.458  7.147  54.2  6.0622    3  222.0   \n",
       "\n",
       "   PTRATIO       B  LSTAT  PRICE  \n",
       "0     15.3  396.90   4.98   24.0  \n",
       "1     17.8  396.90   9.14   21.6  \n",
       "2     17.8  392.83   4.03   34.7  \n",
       "3     18.7  394.63   2.94   33.4  \n",
       "4     18.7  396.90   5.33   36.2  "
      ]
     },
     "execution_count": 3,
     "metadata": {},
     "output_type": "execute_result"
    }
   ],
   "source": [
    "column_names = ['CRIM', 'ZN', 'INDUS', 'CHAS', 'NOX', 'RM', 'AGE', 'DIS', 'RAD', 'TAX', 'PTRATIO', 'B', 'LSTAT', 'PRICE']\n",
    "boston_data = pd.read_csv('data/housing.csv', header=None, delimiter=r\"\\s+\", names=column_names)\n",
    "boston_data.head()"
   ]
  },
  {
   "cell_type": "code",
   "execution_count": 13,
   "metadata": {},
   "outputs": [
    {
     "name": "stdout",
     "output_type": "stream",
     "text": [
      "degree=1\n",
      "MAPE на тренировочных фолдах: 17.93 %\n",
      "MAPE на валидационных фолдах: 20.18 %\n",
      "degree=2\n",
      "MAPE на тренировочных фолдах: 13.47 %\n",
      "MAPE на валидационных фолдах: 17.34 %\n",
      "degree=3\n",
      "MAPE на тренировочных фолдах: 12.64 %\n",
      "MAPE на валидационных фолдах: 24.16 %\n",
      "degree=4\n",
      "MAPE на тренировочных фолдах: 10.13 %\n",
      "MAPE на валидационных фолдах: 98.19 %\n",
      "degree=5\n",
      "MAPE на тренировочных фолдах: 8.13 %\n",
      "MAPE на валидационных фолдах: 1659.54 %\n",
      "degree=6\n",
      "MAPE на тренировочных фолдах: 6.43 %\n",
      "MAPE на валидационных фолдах: 201047.21 %\n"
     ]
    }
   ],
   "source": [
    "# выделяем интересующие нас факторы\n",
    "x = boston_data[['LSTAT', 'PTRATIO', 'RM','CRIM']]\n",
    "y = boston_data[['PRICE']]\n",
    "\n",
    "for d in range(1, 7):\n",
    "  # добавляем полиномиальные признаки\n",
    "  poly = PolynomialFeatures(degree=d, include_bias=False)\n",
    "  X = poly.fit_transform(x)\n",
    "  \n",
    "  # создаём модель линейной регрессии\n",
    "  lr = LinearRegression()\n",
    "  \n",
    "  # оцениваем качество модели на кросс-валидации, метрика — MAPE\n",
    "  cv_results = cross_validate(lr, X, y, scoring='neg_mean_absolute_percentage_error', cv=5, return_train_score=True)\n",
    "  print(f'degree={d}')\n",
    "  print('MAPE на тренировочных фолдах: {:.2f} %'.format(-cv_results['train_score'].mean()* 100))\n",
    "  print('MAPE на валидационных фолдах: {:.2f} %'.format(-cv_results['test_score'].mean() * 100))\t\n",
    " \n",
    "## MAPE на тренировочных фолдах: 12.64 %\n",
    "## MAPE на валидационных фолдах: 24.16 %"
   ]
  },
  {
   "cell_type": "code",
   "execution_count": 14,
   "metadata": {},
   "outputs": [
    {
     "name": "stdout",
     "output_type": "stream",
     "text": [
      "[0.6122449  0.29387755 0.5877551 ]\n"
     ]
    }
   ],
   "source": [
    "# матрица наблюдений (включая столбец единиц)\n",
    "A = np.array([\n",
    "    [1, 1, 1, 1, 1],\n",
    "    [1, 0, -3, 2, 4],\n",
    "    [2, 0, -6, 4, 8]\n",
    "]).T\n",
    "# вектор целевого признака\n",
    "y = np.array([4, 3, -4, 2, 7])\n",
    "# единичная матрица\n",
    "E = np.eye(3)\n",
    "# коэффициент регуляризации \n",
    "alpha = 5\n",
    "# получаем оценку коэффициентов регрессии по МНК с регуляризацией Тихонова\n",
    "w_hat_ridge = np.linalg.inv(A.T@A+alpha*E)@A.T@y\n",
    "print(w_hat_ridge) \n",
    "## [0.6122449  0.29387755 0.5877551 ]"
   ]
  },
  {
   "cell_type": "code",
   "execution_count": 15,
   "metadata": {},
   "outputs": [],
   "source": [
    "from sklearn.linear_model import Ridge"
   ]
  },
  {
   "cell_type": "code",
   "execution_count": 16,
   "metadata": {},
   "outputs": [
    {
     "name": "stdout",
     "output_type": "stream",
     "text": [
      "[0.6122449  0.29387755 0.5877551 ]\n"
     ]
    }
   ],
   "source": [
    "# матрица наблюдений (включая столбец единиц)\n",
    "A = np.array([\n",
    "    [1, 1, 1, 1, 1],\n",
    "    [1, 0, -3, 2, 4],\n",
    "    [2, 0, -6, 4, 8]\n",
    "]).T\n",
    "# вектор целевого признака\n",
    "y = np.array([4, 3, -4, 2, 7])\n",
    "# получаем оценку коэффициентов регрессии по МНК с регуляризацией Тихонова\n",
    "ridge = Ridge(alpha=5, fit_intercept=False)\n",
    "ridge.fit(A, y)\n",
    "print(ridge.coef_) \n",
    "## [0.6122449  0.29387755 0.5877551 ]"
   ]
  },
  {
   "cell_type": "code",
   "execution_count": 17,
   "metadata": {},
   "outputs": [],
   "source": [
    "from sklearn.preprocessing import StandardScaler"
   ]
  },
  {
   "cell_type": "code",
   "execution_count": 18,
   "metadata": {},
   "outputs": [
    {
     "name": "stdout",
     "output_type": "stream",
     "text": [
      "MAPE на тренировочных фолдах: 12.54 %\n",
      "MAPE на валидационных фолдах: 17.02 %\n"
     ]
    }
   ],
   "source": [
    "# выделяем интересующие нас факторы\n",
    "X = boston_data[['LSTAT', 'PTRATIO', 'RM','CRIM']]\n",
    "y = boston_data[['PRICE']]\n",
    "# инициализируем стандартизатор StandardScaler\n",
    "scaler = StandardScaler()\n",
    "# подгоняем параметры стандартизатора (вычисляем среднее и СКО)\n",
    "X = scaler.fit_transform(X)\n",
    "# добавляем полиномиальные признаки\n",
    "poly = PolynomialFeatures(degree=3, include_bias=False)\n",
    "X = poly.fit_transform(X)\n",
    "# создаём модель линейной регрессии c L2-регуляризацией\n",
    "ridge = Ridge(alpha=20, solver='svd')\n",
    "# оцениваем качество модели на кросс-валидации\n",
    "cv_results = cross_validate(ridge, X, y, scoring='neg_mean_absolute_percentage_error', cv=5, return_train_score=True)\n",
    "print('MAPE на тренировочных фолдах: {:.2f} %'.format(-cv_results['train_score'].mean()* 100))\n",
    "print('MAPE на валидационных фолдах: {:.2f} %'.format(-cv_results['test_score'].mean() * 100))\n",
    "## MAPE на тренировочных фолдах: 12.54 %\n",
    "## MAPE на валидационных фолдах: 17.02 %"
   ]
  },
  {
   "cell_type": "code",
   "execution_count": 23,
   "metadata": {},
   "outputs": [
    {
     "name": "stdout",
     "output_type": "stream",
     "text": [
      "[-0.08523045 -1.70784126  1.91141216  0.7293992 ]\n"
     ]
    }
   ],
   "source": [
    "# матрица наблюдений (включая столбец единиц)\n",
    "A = np.array([\n",
    "    [1, 1, 1, 1, 1],\n",
    "    [5, 9, 4, 3, 5],\n",
    "    [15, 18, 18, 19, 19],\n",
    "    [7, 6, 7, 7, 7]\n",
    "]).T\n",
    "# вектор целевого признака\n",
    "y = np.array([24, 22, 35, 33, 36])\n",
    "# получаем оценку коэффициентов регрессии по МНК с регуляризацией Тихонова\n",
    "ridge = Ridge(alpha=1, fit_intercept=False)\n",
    "ridge.fit(A, y)\n",
    "print(ridge.coef_) "
   ]
  },
  {
   "cell_type": "code",
   "execution_count": 24,
   "metadata": {},
   "outputs": [],
   "source": [
    "from sklearn.linear_model import Lasso"
   ]
  },
  {
   "cell_type": "code",
   "execution_count": 25,
   "metadata": {},
   "outputs": [
    {
     "name": "stdout",
     "output_type": "stream",
     "text": [
      "[1.14925373 0.         0.71921642]\n"
     ]
    }
   ],
   "source": [
    "# матрица наблюдений (включая столбец единиц)\n",
    "A = np.array([\n",
    "    [1, 1, 1, 1, 1],\n",
    "    [1, 0, -3, 2, 4],\n",
    "    [2, 0, -6, 4, 8]\n",
    "]).T\n",
    "# вектор целевого признака\n",
    "y = np.array([4, 3, -4, 2, 7])\n",
    "# получаем оценку коэффициентов регрессии с помощью L1-регуляризации\n",
    "lasso = Lasso(alpha=0.1, fit_intercept=False)\n",
    "lasso.fit(A, y)\n",
    "print(lasso.coef_)\n",
    "## [1.14925373 0.         0.71921642]"
   ]
  },
  {
   "cell_type": "code",
   "execution_count": 26,
   "metadata": {},
   "outputs": [
    {
     "name": "stdout",
     "output_type": "stream",
     "text": [
      "MAPE на тренировочных фолдах: 12.44 %\n",
      "MAPE на валидационных фолдах: 16.44 %\n"
     ]
    }
   ],
   "source": [
    "# выделяем интересующие нас факторы\n",
    "X = boston_data[['LSTAT', 'PTRATIO', 'RM','CRIM']]\n",
    "y = boston_data[['PRICE']]\n",
    "\n",
    "# инициализируем стандартизатор StandardScaler\n",
    "scaler = StandardScaler()\n",
    "# подгоняем параметры стандартизатора (вычисляем среднее и СКО)\n",
    "X = scaler.fit_transform(X)\n",
    "\n",
    "# добавляем полиномиальные признаки\n",
    "poly = PolynomialFeatures(degree=3, include_bias=False)\n",
    "X = poly.fit_transform(X)\n",
    "\n",
    "# создаём модель линейной регрессии c L1-регуляризацией\n",
    "lasso = Lasso(alpha=0.1, max_iter=10000)\n",
    "\n",
    "# оцениваем качество модели на кросс-валидации\n",
    "cv_results = cross_validate(lasso, X, y, scoring='neg_mean_absolute_percentage_error', cv=5, return_train_score=True)\n",
    "print('MAPE на тренировочных фолдах: {:.2f} %'.format(-cv_results['train_score'].mean()* 100))\n",
    "print('MAPE на валидационных фолдах: {:.2f} %'.format(-cv_results['test_score'].mean() * 100))\n",
    "## MAPE на тренировочных фолдах: 12.44 %\n",
    "## MAPE на валидационных фолдах: 16.44 %"
   ]
  },
  {
   "cell_type": "code",
   "execution_count": 27,
   "metadata": {},
   "outputs": [],
   "source": [
    "from sklearn.linear_model import ElasticNet"
   ]
  },
  {
   "cell_type": "code",
   "execution_count": 28,
   "metadata": {},
   "outputs": [
    {
     "name": "stdout",
     "output_type": "stream",
     "text": [
      "[1.13492457 0.19525842 0.6237965 ]\n"
     ]
    }
   ],
   "source": [
    "# матрица наблюдений (включая столбец единиц)\n",
    "A = np.array([\n",
    "    [1, 1, 1, 1, 1],\n",
    "    [1, 0, -3, 2, 4],\n",
    "    [2, 0, -6, 4, 8]\n",
    "]).T\n",
    "# вектор целевого признака\n",
    "y = np.array([4, 3, -4, 2, 7])\n",
    "# получаем оценку коэффициентов регрессии \n",
    "elasticnet = ElasticNet(alpha=0.1, l1_ratio=0.2, fit_intercept=False)\n",
    "elasticnet.fit(A, y)\n",
    "print(elasticnet.coef_)\n",
    "## [1.13492457 0.19525842 0.6237965 ]"
   ]
  },
  {
   "cell_type": "code",
   "execution_count": 29,
   "metadata": {},
   "outputs": [
    {
     "name": "stdout",
     "output_type": "stream",
     "text": [
      "[1.14379753 0.         0.71993025]\n"
     ]
    }
   ],
   "source": [
    "# получаем оценку коэффициентов регрессии\n",
    "elasticnet = ElasticNet(alpha=0.1, l1_ratio=0.7, fit_intercept=False)\n",
    "elasticnet.fit(A, y)\n",
    "print(elasticnet.coef_)\n",
    "## [1.14379753 0.         0.71993025]"
   ]
  },
  {
   "cell_type": "code",
   "execution_count": 30,
   "metadata": {},
   "outputs": [
    {
     "name": "stdout",
     "output_type": "stream",
     "text": [
      "[1.14925373 0.         0.71921642]\n"
     ]
    }
   ],
   "source": [
    "# получаем оценку коэффициентов регрессии\n",
    "elasticnet = ElasticNet(alpha=0.1, l1_ratio=1, fit_intercept=False)\n",
    "elasticnet.fit(A, y)\n",
    "print(elasticnet.coef_)\n",
    "## [1.14925373 0.         0.71921642]"
   ]
  },
  {
   "cell_type": "code",
   "execution_count": 66,
   "metadata": {},
   "outputs": [
    {
     "name": "stdout",
     "output_type": "stream",
     "text": [
      "MAPE на тренировочных фолдах: 12.65 %\n",
      "MAPE на валидационных фолдах: 15.70 %\n"
     ]
    }
   ],
   "source": [
    "# выделяем интересующие нас факторы\n",
    "X = boston_data[['LSTAT', 'PTRATIO', 'RM','CRIM']]\n",
    "y = boston_data[['PRICE']]\n",
    "# инициализируем стандартизатор StandardScaler\n",
    "scaler = StandardScaler()\n",
    "# подгоняем параметры стандартизатора (вычисляем среднее и СКО)\n",
    "X = scaler.fit_transform(X)\n",
    "# добавляем полиномиальные признаки\n",
    "poly = PolynomialFeatures(degree=3, include_bias=False)\n",
    "X = poly.fit_transform(X)\n",
    "# создаём модель линейной регрессии c L1- и L2-регуляризациями\n",
    "lasso = ElasticNet(alpha=0.1, l1_ratio=0.5, max_iter=10000)\n",
    "# оцениваем качество модели на кросс-валидации\n",
    "cv_results = cross_validate(lasso, X, y, scoring='neg_mean_absolute_percentage_error', cv=5, return_train_score=True)\n",
    "print('MAPE на тренировочных фолдах: {:.2f} %'.format(-cv_results['train_score'].mean()* 100))\n",
    "print('MAPE на валидационных фолдах: {:.2f} %'.format(-cv_results['test_score'].mean() * 100)) \n",
    "## MAPE на тренировочных фолдах: 12.65 %\n",
    "## MAPE на валидационных фолдах: 15.70 %"
   ]
  },
  {
   "cell_type": "code",
   "execution_count": 60,
   "metadata": {},
   "outputs": [
    {
     "name": "stdout",
     "output_type": "stream",
     "text": [
      "Версия Optuna: 4.1.0\n"
     ]
    }
   ],
   "source": [
    "import optuna\n",
    "from optuna.visualization import plot_optimization_history\n",
    "import matplotlib.pyplot as plt\n",
    "from sklearn.linear_model import ElasticNet\n",
    "from sklearn.preprocessing import StandardScaler, PolynomialFeatures\n",
    "from sklearn.model_selection import cross_val_score\n",
    "import matplotlib\n",
    "matplotlib.use('TkAgg')  # или 'Qt5Agg', 'GTK3Agg' в зависимости \n",
    "print(\"Версия Optuna: {}\".format(optuna.__version__))"
   ]
  },
  {
   "cell_type": "code",
   "execution_count": 61,
   "metadata": {},
   "outputs": [
    {
     "data": {
      "text/plain": [
       "True"
      ]
     },
     "execution_count": 61,
     "metadata": {},
     "output_type": "execute_result"
    }
   ],
   "source": [
    "optuna.visualization.is_available()"
   ]
  },
  {
   "cell_type": "code",
   "execution_count": 64,
   "metadata": {},
   "outputs": [
    {
     "name": "stderr",
     "output_type": "stream",
     "text": [
      "[I 2024-12-21 19:24:02,018] A new study created in memory with name: no-name-acd423cd-eb17-4461-abd7-19ce47c7ca29\n"
     ]
    },
    {
     "name": "stderr",
     "output_type": "stream",
     "text": [
      "C:\\Users\\aoreshkin.IT-ONE\\AppData\\Local\\Temp\\ipykernel_12736\\4205060413.py:16: FutureWarning:\n",
      "\n",
      "suggest_loguniform has been deprecated in v3.0.0. This feature will be removed in v6.0.0. See https://github.com/optuna/optuna/releases/tag/v3.0.0. Use suggest_float(..., log=True) instead.\n",
      "\n",
      "C:\\Users\\aoreshkin.IT-ONE\\AppData\\Local\\Temp\\ipykernel_12736\\4205060413.py:17: FutureWarning:\n",
      "\n",
      "suggest_uniform has been deprecated in v3.0.0. This feature will be removed in v6.0.0. See https://github.com/optuna/optuna/releases/tag/v3.0.0. Use suggest_float instead.\n",
      "\n",
      "[I 2024-12-21 19:24:02,367] Trial 0 finished with value: -0.2020104374107449 and parameters: {'alpha': 1.1781361289118852, 'l1_ratio': 0.9794093643774459}. Best is trial 0 with value: -0.2020104374107449.\n",
      "C:\\Users\\aoreshkin.IT-ONE\\AppData\\Local\\Temp\\ipykernel_12736\\4205060413.py:16: FutureWarning:\n",
      "\n",
      "suggest_loguniform has been deprecated in v3.0.0. This feature will be removed in v6.0.0. See https://github.com/optuna/optuna/releases/tag/v3.0.0. Use suggest_float(..., log=True) instead.\n",
      "\n",
      "C:\\Users\\aoreshkin.IT-ONE\\AppData\\Local\\Temp\\ipykernel_12736\\4205060413.py:17: FutureWarning:\n",
      "\n",
      "suggest_uniform has been deprecated in v3.0.0. This feature will be removed in v6.0.0. See https://github.com/optuna/optuna/releases/tag/v3.0.0. Use suggest_float instead.\n",
      "\n",
      "[I 2024-12-21 19:24:02,662] Trial 1 finished with value: -0.20610225347231523 and parameters: {'alpha': 1.1691232887144836, 'l1_ratio': 0.0445831871199176}. Best is trial 0 with value: -0.2020104374107449.\n",
      "C:\\Users\\aoreshkin.IT-ONE\\AppData\\Local\\Temp\\ipykernel_12736\\4205060413.py:16: FutureWarning:\n",
      "\n",
      "suggest_loguniform has been deprecated in v3.0.0. This feature will be removed in v6.0.0. See https://github.com/optuna/optuna/releases/tag/v3.0.0. Use suggest_float(..., log=True) instead.\n",
      "\n",
      "C:\\Users\\aoreshkin.IT-ONE\\AppData\\Local\\Temp\\ipykernel_12736\\4205060413.py:17: FutureWarning:\n",
      "\n",
      "suggest_uniform has been deprecated in v3.0.0. This feature will be removed in v6.0.0. See https://github.com/optuna/optuna/releases/tag/v3.0.0. Use suggest_float instead.\n",
      "\n",
      "[I 2024-12-21 19:24:02,843] Trial 2 finished with value: -0.3097136691717658 and parameters: {'alpha': 5.9493001419096645, 'l1_ratio': 0.5852366316079881}. Best is trial 0 with value: -0.2020104374107449.\n",
      "C:\\Users\\aoreshkin.IT-ONE\\AppData\\Local\\Temp\\ipykernel_12736\\4205060413.py:16: FutureWarning:\n",
      "\n",
      "suggest_loguniform has been deprecated in v3.0.0. This feature will be removed in v6.0.0. See https://github.com/optuna/optuna/releases/tag/v3.0.0. Use suggest_float(..., log=True) instead.\n",
      "\n",
      "C:\\Users\\aoreshkin.IT-ONE\\AppData\\Local\\Temp\\ipykernel_12736\\4205060413.py:17: FutureWarning:\n",
      "\n",
      "suggest_uniform has been deprecated in v3.0.0. This feature will be removed in v6.0.0. See https://github.com/optuna/optuna/releases/tag/v3.0.0. Use suggest_float instead.\n",
      "\n",
      "[I 2024-12-21 19:24:03,045] Trial 3 finished with value: -0.3210707965209857 and parameters: {'alpha': 8.587699546053159, 'l1_ratio': 0.5111585782837611}. Best is trial 0 with value: -0.2020104374107449.\n",
      "C:\\Users\\aoreshkin.IT-ONE\\AppData\\Local\\Temp\\ipykernel_12736\\4205060413.py:16: FutureWarning:\n",
      "\n",
      "suggest_loguniform has been deprecated in v3.0.0. This feature will be removed in v6.0.0. See https://github.com/optuna/optuna/releases/tag/v3.0.0. Use suggest_float(..., log=True) instead.\n",
      "\n",
      "C:\\Users\\aoreshkin.IT-ONE\\AppData\\Local\\Temp\\ipykernel_12736\\4205060413.py:17: FutureWarning:\n",
      "\n",
      "suggest_uniform has been deprecated in v3.0.0. This feature will be removed in v6.0.0. See https://github.com/optuna/optuna/releases/tag/v3.0.0. Use suggest_float instead.\n",
      "\n",
      "[I 2024-12-21 19:24:03,452] Trial 4 finished with value: -0.163637193891843 and parameters: {'alpha': 0.23214189239074, 'l1_ratio': 0.9872088735312171}. Best is trial 4 with value: -0.163637193891843.\n",
      "C:\\Users\\aoreshkin.IT-ONE\\AppData\\Local\\Temp\\ipykernel_12736\\4205060413.py:16: FutureWarning:\n",
      "\n",
      "suggest_loguniform has been deprecated in v3.0.0. This feature will be removed in v6.0.0. See https://github.com/optuna/optuna/releases/tag/v3.0.0. Use suggest_float(..., log=True) instead.\n",
      "\n",
      "C:\\Users\\aoreshkin.IT-ONE\\AppData\\Local\\Temp\\ipykernel_12736\\4205060413.py:17: FutureWarning:\n",
      "\n",
      "suggest_uniform has been deprecated in v3.0.0. This feature will be removed in v6.0.0. See https://github.com/optuna/optuna/releases/tag/v3.0.0. Use suggest_float instead.\n",
      "\n",
      "[I 2024-12-21 19:24:03,877] Trial 5 finished with value: -0.19219809777334043 and parameters: {'alpha': 0.8076059586751777, 'l1_ratio': 0.03082533397810472}. Best is trial 4 with value: -0.163637193891843.\n",
      "C:\\Users\\aoreshkin.IT-ONE\\AppData\\Local\\Temp\\ipykernel_12736\\4205060413.py:16: FutureWarning:\n",
      "\n",
      "suggest_loguniform has been deprecated in v3.0.0. This feature will be removed in v6.0.0. See https://github.com/optuna/optuna/releases/tag/v3.0.0. Use suggest_float(..., log=True) instead.\n",
      "\n",
      "C:\\Users\\aoreshkin.IT-ONE\\AppData\\Local\\Temp\\ipykernel_12736\\4205060413.py:17: FutureWarning:\n",
      "\n",
      "suggest_uniform has been deprecated in v3.0.0. This feature will be removed in v6.0.0. See https://github.com/optuna/optuna/releases/tag/v3.0.0. Use suggest_float instead.\n",
      "\n",
      "[I 2024-12-21 19:24:04,498] Trial 6 finished with value: -0.1801711799049223 and parameters: {'alpha': 0.02300838929106906, 'l1_ratio': 0.1895335473292532}. Best is trial 4 with value: -0.163637193891843.\n",
      "C:\\Users\\aoreshkin.IT-ONE\\AppData\\Local\\Temp\\ipykernel_12736\\4205060413.py:16: FutureWarning:\n",
      "\n",
      "suggest_loguniform has been deprecated in v3.0.0. This feature will be removed in v6.0.0. See https://github.com/optuna/optuna/releases/tag/v3.0.0. Use suggest_float(..., log=True) instead.\n",
      "\n",
      "C:\\Users\\aoreshkin.IT-ONE\\AppData\\Local\\Temp\\ipykernel_12736\\4205060413.py:17: FutureWarning:\n",
      "\n",
      "suggest_uniform has been deprecated in v3.0.0. This feature will be removed in v6.0.0. See https://github.com/optuna/optuna/releases/tag/v3.0.0. Use suggest_float instead.\n",
      "\n",
      "[I 2024-12-21 19:24:04,707] Trial 7 finished with value: -0.22268781009566757 and parameters: {'alpha': 1.5768708031171186, 'l1_ratio': 0.19140193249612114}. Best is trial 4 with value: -0.163637193891843.\n",
      "C:\\Users\\aoreshkin.IT-ONE\\AppData\\Local\\Temp\\ipykernel_12736\\4205060413.py:16: FutureWarning:\n",
      "\n",
      "suggest_loguniform has been deprecated in v3.0.0. This feature will be removed in v6.0.0. See https://github.com/optuna/optuna/releases/tag/v3.0.0. Use suggest_float(..., log=True) instead.\n",
      "\n",
      "C:\\Users\\aoreshkin.IT-ONE\\AppData\\Local\\Temp\\ipykernel_12736\\4205060413.py:17: FutureWarning:\n",
      "\n",
      "suggest_uniform has been deprecated in v3.0.0. This feature will be removed in v6.0.0. See https://github.com/optuna/optuna/releases/tag/v3.0.0. Use suggest_float instead.\n",
      "\n",
      "[I 2024-12-21 19:24:05,277] Trial 8 finished with value: -0.1633993795438595 and parameters: {'alpha': 0.06335510757751053, 'l1_ratio': 0.5090449957487863}. Best is trial 8 with value: -0.1633993795438595.\n",
      "C:\\Users\\aoreshkin.IT-ONE\\AppData\\Local\\Temp\\ipykernel_12736\\4205060413.py:16: FutureWarning:\n",
      "\n",
      "suggest_loguniform has been deprecated in v3.0.0. This feature will be removed in v6.0.0. See https://github.com/optuna/optuna/releases/tag/v3.0.0. Use suggest_float(..., log=True) instead.\n",
      "\n",
      "C:\\Users\\aoreshkin.IT-ONE\\AppData\\Local\\Temp\\ipykernel_12736\\4205060413.py:17: FutureWarning:\n",
      "\n",
      "suggest_uniform has been deprecated in v3.0.0. This feature will be removed in v6.0.0. See https://github.com/optuna/optuna/releases/tag/v3.0.0. Use suggest_float instead.\n",
      "\n",
      "[I 2024-12-21 19:24:05,465] Trial 9 finished with value: -0.21064537182800197 and parameters: {'alpha': 1.185452719475782, 'l1_ratio': 0.7236822582068624}. Best is trial 8 with value: -0.1633993795438595.\n",
      "C:\\Users\\aoreshkin.IT-ONE\\AppData\\Local\\Temp\\ipykernel_12736\\4205060413.py:16: FutureWarning:\n",
      "\n",
      "suggest_loguniform has been deprecated in v3.0.0. This feature will be removed in v6.0.0. See https://github.com/optuna/optuna/releases/tag/v3.0.0. Use suggest_float(..., log=True) instead.\n",
      "\n",
      "C:\\Users\\aoreshkin.IT-ONE\\AppData\\Local\\Temp\\ipykernel_12736\\4205060413.py:17: FutureWarning:\n",
      "\n",
      "suggest_uniform has been deprecated in v3.0.0. This feature will be removed in v6.0.0. See https://github.com/optuna/optuna/releases/tag/v3.0.0. Use suggest_float instead.\n",
      "\n",
      "[I 2024-12-21 19:24:06,729] Trial 10 finished with value: -0.18020485652786783 and parameters: {'alpha': 0.0239180995038557, 'l1_ratio': 0.2993711210037227}. Best is trial 8 with value: -0.1633993795438595.\n",
      "C:\\Users\\aoreshkin.IT-ONE\\AppData\\Local\\Temp\\ipykernel_12736\\4205060413.py:16: FutureWarning:\n",
      "\n",
      "suggest_loguniform has been deprecated in v3.0.0. This feature will be removed in v6.0.0. See https://github.com/optuna/optuna/releases/tag/v3.0.0. Use suggest_float(..., log=True) instead.\n",
      "\n",
      "C:\\Users\\aoreshkin.IT-ONE\\AppData\\Local\\Temp\\ipykernel_12736\\4205060413.py:17: FutureWarning:\n",
      "\n",
      "suggest_uniform has been deprecated in v3.0.0. This feature will be removed in v6.0.0. See https://github.com/optuna/optuna/releases/tag/v3.0.0. Use suggest_float instead.\n",
      "\n",
      "[I 2024-12-21 19:24:07,191] Trial 11 finished with value: -0.16283496016186905 and parameters: {'alpha': 0.09990412320808943, 'l1_ratio': 0.9811591299453666}. Best is trial 11 with value: -0.16283496016186905.\n",
      "C:\\Users\\aoreshkin.IT-ONE\\AppData\\Local\\Temp\\ipykernel_12736\\4205060413.py:16: FutureWarning:\n",
      "\n",
      "suggest_loguniform has been deprecated in v3.0.0. This feature will be removed in v6.0.0. See https://github.com/optuna/optuna/releases/tag/v3.0.0. Use suggest_float(..., log=True) instead.\n",
      "\n",
      "C:\\Users\\aoreshkin.IT-ONE\\AppData\\Local\\Temp\\ipykernel_12736\\4205060413.py:17: FutureWarning:\n",
      "\n",
      "suggest_uniform has been deprecated in v3.0.0. This feature will be removed in v6.0.0. See https://github.com/optuna/optuna/releases/tag/v3.0.0. Use suggest_float instead.\n",
      "\n",
      "[I 2024-12-21 19:24:07,858] Trial 12 finished with value: -0.15931197861857252 and parameters: {'alpha': 0.09099392362696589, 'l1_ratio': 0.7687464832991164}. Best is trial 12 with value: -0.15931197861857252.\n",
      "C:\\Users\\aoreshkin.IT-ONE\\AppData\\Local\\Temp\\ipykernel_12736\\4205060413.py:16: FutureWarning:\n",
      "\n",
      "suggest_loguniform has been deprecated in v3.0.0. This feature will be removed in v6.0.0. See https://github.com/optuna/optuna/releases/tag/v3.0.0. Use suggest_float(..., log=True) instead.\n",
      "\n",
      "C:\\Users\\aoreshkin.IT-ONE\\AppData\\Local\\Temp\\ipykernel_12736\\4205060413.py:17: FutureWarning:\n",
      "\n",
      "suggest_uniform has been deprecated in v3.0.0. This feature will be removed in v6.0.0. See https://github.com/optuna/optuna/releases/tag/v3.0.0. Use suggest_float instead.\n",
      "\n",
      "[I 2024-12-21 19:24:08,783] Trial 13 finished with value: -0.15979206244828462 and parameters: {'alpha': 0.09086231855692609, 'l1_ratio': 0.8080708232172076}. Best is trial 12 with value: -0.15931197861857252.\n",
      "C:\\Users\\aoreshkin.IT-ONE\\AppData\\Local\\Temp\\ipykernel_12736\\4205060413.py:16: FutureWarning:\n",
      "\n",
      "suggest_loguniform has been deprecated in v3.0.0. This feature will be removed in v6.0.0. See https://github.com/optuna/optuna/releases/tag/v3.0.0. Use suggest_float(..., log=True) instead.\n",
      "\n",
      "C:\\Users\\aoreshkin.IT-ONE\\AppData\\Local\\Temp\\ipykernel_12736\\4205060413.py:17: FutureWarning:\n",
      "\n",
      "suggest_uniform has been deprecated in v3.0.0. This feature will be removed in v6.0.0. See https://github.com/optuna/optuna/releases/tag/v3.0.0. Use suggest_float instead.\n",
      "\n",
      "[I 2024-12-21 19:24:09,347] Trial 14 finished with value: -0.15933727676293136 and parameters: {'alpha': 0.0923808634799183, 'l1_ratio': 0.7899804325909658}. Best is trial 12 with value: -0.15931197861857252.\n",
      "C:\\Users\\aoreshkin.IT-ONE\\AppData\\Local\\Temp\\ipykernel_12736\\4205060413.py:16: FutureWarning:\n",
      "\n",
      "suggest_loguniform has been deprecated in v3.0.0. This feature will be removed in v6.0.0. See https://github.com/optuna/optuna/releases/tag/v3.0.0. Use suggest_float(..., log=True) instead.\n",
      "\n",
      "C:\\Users\\aoreshkin.IT-ONE\\AppData\\Local\\Temp\\ipykernel_12736\\4205060413.py:17: FutureWarning:\n",
      "\n",
      "suggest_uniform has been deprecated in v3.0.0. This feature will be removed in v6.0.0. See https://github.com/optuna/optuna/releases/tag/v3.0.0. Use suggest_float instead.\n",
      "\n",
      "[I 2024-12-21 19:24:09,694] Trial 15 finished with value: -0.1658173886442343 and parameters: {'alpha': 0.2737154543366117, 'l1_ratio': 0.7617874705279231}. Best is trial 12 with value: -0.15931197861857252.\n",
      "C:\\Users\\aoreshkin.IT-ONE\\AppData\\Local\\Temp\\ipykernel_12736\\4205060413.py:16: FutureWarning:\n",
      "\n",
      "suggest_loguniform has been deprecated in v3.0.0. This feature will be removed in v6.0.0. See https://github.com/optuna/optuna/releases/tag/v3.0.0. Use suggest_float(..., log=True) instead.\n",
      "\n",
      "C:\\Users\\aoreshkin.IT-ONE\\AppData\\Local\\Temp\\ipykernel_12736\\4205060413.py:17: FutureWarning:\n",
      "\n",
      "suggest_uniform has been deprecated in v3.0.0. This feature will be removed in v6.0.0. See https://github.com/optuna/optuna/releases/tag/v3.0.0. Use suggest_float instead.\n",
      "\n",
      "C:\\Users\\aoreshkin.IT-ONE\\AppData\\Roaming\\Python\\Python313\\site-packages\\sklearn\\linear_model\\_coordinate_descent.py:697: ConvergenceWarning:\n",
      "\n",
      "Objective did not converge. You might want to increase the number of iterations, check the scale of the features or consider increasing regularisation. Duality gap: 2.499e+01, tolerance: 3.919e+00\n",
      "\n",
      "C:\\Users\\aoreshkin.IT-ONE\\AppData\\Roaming\\Python\\Python313\\site-packages\\sklearn\\linear_model\\_coordinate_descent.py:697: ConvergenceWarning:\n",
      "\n",
      "Objective did not converge. You might want to increase the number of iterations, check the scale of the features or consider increasing regularisation. Duality gap: 1.451e+01, tolerance: 3.307e+00\n",
      "\n",
      "C:\\Users\\aoreshkin.IT-ONE\\AppData\\Roaming\\Python\\Python313\\site-packages\\sklearn\\linear_model\\_coordinate_descent.py:697: ConvergenceWarning:\n",
      "\n",
      "Objective did not converge. You might want to increase the number of iterations, check the scale of the features or consider increasing regularisation. Duality gap: 4.755e+01, tolerance: 2.814e+00\n",
      "\n",
      "[I 2024-12-21 19:24:11,797] Trial 16 finished with value: -0.19805673884205988 and parameters: {'alpha': 0.010800061663594311, 'l1_ratio': 0.652280946350401}. Best is trial 12 with value: -0.15931197861857252.\n",
      "C:\\Users\\aoreshkin.IT-ONE\\AppData\\Local\\Temp\\ipykernel_12736\\4205060413.py:16: FutureWarning:\n",
      "\n",
      "suggest_loguniform has been deprecated in v3.0.0. This feature will be removed in v6.0.0. See https://github.com/optuna/optuna/releases/tag/v3.0.0. Use suggest_float(..., log=True) instead.\n",
      "\n",
      "C:\\Users\\aoreshkin.IT-ONE\\AppData\\Local\\Temp\\ipykernel_12736\\4205060413.py:17: FutureWarning:\n",
      "\n",
      "suggest_uniform has been deprecated in v3.0.0. This feature will be removed in v6.0.0. See https://github.com/optuna/optuna/releases/tag/v3.0.0. Use suggest_float instead.\n",
      "\n",
      "[I 2024-12-21 19:24:13,445] Trial 17 finished with value: -0.1704306921933576 and parameters: {'alpha': 0.053731798692774356, 'l1_ratio': 0.859232932771726}. Best is trial 12 with value: -0.15931197861857252.\n",
      "C:\\Users\\aoreshkin.IT-ONE\\AppData\\Local\\Temp\\ipykernel_12736\\4205060413.py:16: FutureWarning:\n",
      "\n",
      "suggest_loguniform has been deprecated in v3.0.0. This feature will be removed in v6.0.0. See https://github.com/optuna/optuna/releases/tag/v3.0.0. Use suggest_float(..., log=True) instead.\n",
      "\n",
      "C:\\Users\\aoreshkin.IT-ONE\\AppData\\Local\\Temp\\ipykernel_12736\\4205060413.py:17: FutureWarning:\n",
      "\n",
      "suggest_uniform has been deprecated in v3.0.0. This feature will be removed in v6.0.0. See https://github.com/optuna/optuna/releases/tag/v3.0.0. Use suggest_float instead.\n",
      "\n",
      "[I 2024-12-21 19:24:13,741] Trial 18 finished with value: -0.17866304439506386 and parameters: {'alpha': 0.45497117010163585, 'l1_ratio': 0.3911333603223308}. Best is trial 12 with value: -0.15931197861857252.\n",
      "C:\\Users\\aoreshkin.IT-ONE\\AppData\\Local\\Temp\\ipykernel_12736\\4205060413.py:16: FutureWarning:\n",
      "\n",
      "suggest_loguniform has been deprecated in v3.0.0. This feature will be removed in v6.0.0. See https://github.com/optuna/optuna/releases/tag/v3.0.0. Use suggest_float(..., log=True) instead.\n",
      "\n",
      "C:\\Users\\aoreshkin.IT-ONE\\AppData\\Local\\Temp\\ipykernel_12736\\4205060413.py:17: FutureWarning:\n",
      "\n",
      "suggest_uniform has been deprecated in v3.0.0. This feature will be removed in v6.0.0. See https://github.com/optuna/optuna/releases/tag/v3.0.0. Use suggest_float instead.\n",
      "\n",
      "[I 2024-12-21 19:24:14,080] Trial 19 finished with value: -0.15804927799038718 and parameters: {'alpha': 0.1757965255072944, 'l1_ratio': 0.8741454484731044}. Best is trial 19 with value: -0.15804927799038718.\n",
      "C:\\Users\\aoreshkin.IT-ONE\\AppData\\Local\\Temp\\ipykernel_12736\\4205060413.py:16: FutureWarning:\n",
      "\n",
      "suggest_loguniform has been deprecated in v3.0.0. This feature will be removed in v6.0.0. See https://github.com/optuna/optuna/releases/tag/v3.0.0. Use suggest_float(..., log=True) instead.\n",
      "\n",
      "C:\\Users\\aoreshkin.IT-ONE\\AppData\\Local\\Temp\\ipykernel_12736\\4205060413.py:17: FutureWarning:\n",
      "\n",
      "suggest_uniform has been deprecated in v3.0.0. This feature will be removed in v6.0.0. See https://github.com/optuna/optuna/releases/tag/v3.0.0. Use suggest_float instead.\n",
      "\n",
      "[I 2024-12-21 19:24:14,351] Trial 20 finished with value: -0.16214240479538589 and parameters: {'alpha': 0.19999386889697235, 'l1_ratio': 0.6541584648318526}. Best is trial 19 with value: -0.15804927799038718.\n",
      "C:\\Users\\aoreshkin.IT-ONE\\AppData\\Local\\Temp\\ipykernel_12736\\4205060413.py:16: FutureWarning:\n",
      "\n",
      "suggest_loguniform has been deprecated in v3.0.0. This feature will be removed in v6.0.0. See https://github.com/optuna/optuna/releases/tag/v3.0.0. Use suggest_float(..., log=True) instead.\n",
      "\n",
      "C:\\Users\\aoreshkin.IT-ONE\\AppData\\Local\\Temp\\ipykernel_12736\\4205060413.py:17: FutureWarning:\n",
      "\n",
      "suggest_uniform has been deprecated in v3.0.0. This feature will be removed in v6.0.0. See https://github.com/optuna/optuna/releases/tag/v3.0.0. Use suggest_float instead.\n",
      "\n",
      "[I 2024-12-21 19:24:14,812] Trial 21 finished with value: -0.1553092831252354 and parameters: {'alpha': 0.14061556059181085, 'l1_ratio': 0.8749141798152232}. Best is trial 21 with value: -0.1553092831252354.\n",
      "C:\\Users\\aoreshkin.IT-ONE\\AppData\\Local\\Temp\\ipykernel_12736\\4205060413.py:16: FutureWarning:\n",
      "\n",
      "suggest_loguniform has been deprecated in v3.0.0. This feature will be removed in v6.0.0. See https://github.com/optuna/optuna/releases/tag/v3.0.0. Use suggest_float(..., log=True) instead.\n",
      "\n",
      "C:\\Users\\aoreshkin.IT-ONE\\AppData\\Local\\Temp\\ipykernel_12736\\4205060413.py:17: FutureWarning:\n",
      "\n",
      "suggest_uniform has been deprecated in v3.0.0. This feature will be removed in v6.0.0. See https://github.com/optuna/optuna/releases/tag/v3.0.0. Use suggest_float instead.\n",
      "\n",
      "[I 2024-12-21 19:24:15,157] Trial 22 finished with value: -0.1569952656350973 and parameters: {'alpha': 0.15987077105117897, 'l1_ratio': 0.8599852388222077}. Best is trial 21 with value: -0.1553092831252354.\n",
      "C:\\Users\\aoreshkin.IT-ONE\\AppData\\Local\\Temp\\ipykernel_12736\\4205060413.py:16: FutureWarning:\n",
      "\n",
      "suggest_loguniform has been deprecated in v3.0.0. This feature will be removed in v6.0.0. See https://github.com/optuna/optuna/releases/tag/v3.0.0. Use suggest_float(..., log=True) instead.\n",
      "\n",
      "C:\\Users\\aoreshkin.IT-ONE\\AppData\\Local\\Temp\\ipykernel_12736\\4205060413.py:17: FutureWarning:\n",
      "\n",
      "suggest_uniform has been deprecated in v3.0.0. This feature will be removed in v6.0.0. See https://github.com/optuna/optuna/releases/tag/v3.0.0. Use suggest_float instead.\n",
      "\n",
      "[I 2024-12-21 19:24:15,339] Trial 23 finished with value: -0.17799566977082942 and parameters: {'alpha': 0.4710386499019443, 'l1_ratio': 0.8957632571983095}. Best is trial 21 with value: -0.1553092831252354.\n",
      "C:\\Users\\aoreshkin.IT-ONE\\AppData\\Local\\Temp\\ipykernel_12736\\4205060413.py:16: FutureWarning:\n",
      "\n",
      "suggest_loguniform has been deprecated in v3.0.0. This feature will be removed in v6.0.0. See https://github.com/optuna/optuna/releases/tag/v3.0.0. Use suggest_float(..., log=True) instead.\n",
      "\n",
      "C:\\Users\\aoreshkin.IT-ONE\\AppData\\Local\\Temp\\ipykernel_12736\\4205060413.py:17: FutureWarning:\n",
      "\n",
      "suggest_uniform has been deprecated in v3.0.0. This feature will be removed in v6.0.0. See https://github.com/optuna/optuna/releases/tag/v3.0.0. Use suggest_float instead.\n",
      "\n",
      "[I 2024-12-21 19:24:15,715] Trial 24 finished with value: -0.15525464195404548 and parameters: {'alpha': 0.13896707707771808, 'l1_ratio': 0.8958456471978458}. Best is trial 24 with value: -0.15525464195404548.\n",
      "C:\\Users\\aoreshkin.IT-ONE\\AppData\\Local\\Temp\\ipykernel_12736\\4205060413.py:16: FutureWarning:\n",
      "\n",
      "suggest_loguniform has been deprecated in v3.0.0. This feature will be removed in v6.0.0. See https://github.com/optuna/optuna/releases/tag/v3.0.0. Use suggest_float(..., log=True) instead.\n",
      "\n",
      "C:\\Users\\aoreshkin.IT-ONE\\AppData\\Local\\Temp\\ipykernel_12736\\4205060413.py:17: FutureWarning:\n",
      "\n",
      "suggest_uniform has been deprecated in v3.0.0. This feature will be removed in v6.0.0. See https://github.com/optuna/optuna/releases/tag/v3.0.0. Use suggest_float instead.\n",
      "\n",
      "C:\\Users\\aoreshkin.IT-ONE\\AppData\\Roaming\\Python\\Python313\\site-packages\\sklearn\\linear_model\\_coordinate_descent.py:697: ConvergenceWarning:\n",
      "\n",
      "Objective did not converge. You might want to increase the number of iterations, check the scale of the features or consider increasing regularisation. Duality gap: 1.972e+01, tolerance: 3.919e+00\n",
      "\n",
      "C:\\Users\\aoreshkin.IT-ONE\\AppData\\Roaming\\Python\\Python313\\site-packages\\sklearn\\linear_model\\_coordinate_descent.py:697: ConvergenceWarning:\n",
      "\n",
      "Objective did not converge. You might want to increase the number of iterations, check the scale of the features or consider increasing regularisation. Duality gap: 1.677e+01, tolerance: 3.307e+00\n",
      "\n",
      "C:\\Users\\aoreshkin.IT-ONE\\AppData\\Roaming\\Python\\Python313\\site-packages\\sklearn\\linear_model\\_coordinate_descent.py:697: ConvergenceWarning:\n",
      "\n",
      "Objective did not converge. You might want to increase the number of iterations, check the scale of the features or consider increasing regularisation. Duality gap: 2.597e+01, tolerance: 2.814e+00\n",
      "\n",
      "[I 2024-12-21 19:24:17,234] Trial 25 finished with value: -0.18177956536738868 and parameters: {'alpha': 0.03417624470490009, 'l1_ratio': 0.9206945336168553}. Best is trial 24 with value: -0.15525464195404548.\n",
      "C:\\Users\\aoreshkin.IT-ONE\\AppData\\Local\\Temp\\ipykernel_12736\\4205060413.py:16: FutureWarning:\n",
      "\n",
      "suggest_loguniform has been deprecated in v3.0.0. This feature will be removed in v6.0.0. See https://github.com/optuna/optuna/releases/tag/v3.0.0. Use suggest_float(..., log=True) instead.\n",
      "\n",
      "C:\\Users\\aoreshkin.IT-ONE\\AppData\\Local\\Temp\\ipykernel_12736\\4205060413.py:17: FutureWarning:\n",
      "\n",
      "suggest_uniform has been deprecated in v3.0.0. This feature will be removed in v6.0.0. See https://github.com/optuna/optuna/releases/tag/v3.0.0. Use suggest_float instead.\n",
      "\n",
      "[I 2024-12-21 19:24:17,626] Trial 26 finished with value: -0.15853810539622354 and parameters: {'alpha': 0.1604500962263171, 'l1_ratio': 0.702053702201983}. Best is trial 24 with value: -0.15525464195404548.\n",
      "C:\\Users\\aoreshkin.IT-ONE\\AppData\\Local\\Temp\\ipykernel_12736\\4205060413.py:16: FutureWarning:\n",
      "\n",
      "suggest_loguniform has been deprecated in v3.0.0. This feature will be removed in v6.0.0. See https://github.com/optuna/optuna/releases/tag/v3.0.0. Use suggest_float(..., log=True) instead.\n",
      "\n",
      "C:\\Users\\aoreshkin.IT-ONE\\AppData\\Local\\Temp\\ipykernel_12736\\4205060413.py:17: FutureWarning:\n",
      "\n",
      "suggest_uniform has been deprecated in v3.0.0. This feature will be removed in v6.0.0. See https://github.com/optuna/optuna/releases/tag/v3.0.0. Use suggest_float instead.\n",
      "\n",
      "[I 2024-12-21 19:24:17,843] Trial 27 finished with value: -0.18163313744022788 and parameters: {'alpha': 0.5094346739485225, 'l1_ratio': 0.841202230130045}. Best is trial 24 with value: -0.15525464195404548.\n",
      "C:\\Users\\aoreshkin.IT-ONE\\AppData\\Local\\Temp\\ipykernel_12736\\4205060413.py:16: FutureWarning:\n",
      "\n",
      "suggest_loguniform has been deprecated in v3.0.0. This feature will be removed in v6.0.0. See https://github.com/optuna/optuna/releases/tag/v3.0.0. Use suggest_float(..., log=True) instead.\n",
      "\n",
      "C:\\Users\\aoreshkin.IT-ONE\\AppData\\Local\\Temp\\ipykernel_12736\\4205060413.py:17: FutureWarning:\n",
      "\n",
      "suggest_uniform has been deprecated in v3.0.0. This feature will be removed in v6.0.0. See https://github.com/optuna/optuna/releases/tag/v3.0.0. Use suggest_float instead.\n",
      "\n",
      "[I 2024-12-21 19:24:18,012] Trial 28 finished with value: -0.2569895554061078 and parameters: {'alpha': 2.6972352114418587, 'l1_ratio': 0.6062151525765276}. Best is trial 24 with value: -0.15525464195404548.\n",
      "C:\\Users\\aoreshkin.IT-ONE\\AppData\\Local\\Temp\\ipykernel_12736\\4205060413.py:16: FutureWarning:\n",
      "\n",
      "suggest_loguniform has been deprecated in v3.0.0. This feature will be removed in v6.0.0. See https://github.com/optuna/optuna/releases/tag/v3.0.0. Use suggest_float(..., log=True) instead.\n",
      "\n",
      "C:\\Users\\aoreshkin.IT-ONE\\AppData\\Local\\Temp\\ipykernel_12736\\4205060413.py:17: FutureWarning:\n",
      "\n",
      "suggest_uniform has been deprecated in v3.0.0. This feature will be removed in v6.0.0. See https://github.com/optuna/optuna/releases/tag/v3.0.0. Use suggest_float instead.\n",
      "\n",
      "C:\\Users\\aoreshkin.IT-ONE\\AppData\\Roaming\\Python\\Python313\\site-packages\\sklearn\\linear_model\\_coordinate_descent.py:697: ConvergenceWarning:\n",
      "\n",
      "Objective did not converge. You might want to increase the number of iterations, check the scale of the features or consider increasing regularisation. Duality gap: 1.222e+01, tolerance: 3.307e+00\n",
      "\n",
      "[I 2024-12-21 19:24:19,694] Trial 29 finished with value: -0.1748049244395648 and parameters: {'alpha': 0.04669073809541376, 'l1_ratio': 0.9270420075065177}. Best is trial 24 with value: -0.15525464195404548.\n",
      "C:\\Users\\aoreshkin.IT-ONE\\AppData\\Local\\Temp\\ipykernel_12736\\4205060413.py:16: FutureWarning:\n",
      "\n",
      "suggest_loguniform has been deprecated in v3.0.0. This feature will be removed in v6.0.0. See https://github.com/optuna/optuna/releases/tag/v3.0.0. Use suggest_float(..., log=True) instead.\n",
      "\n",
      "C:\\Users\\aoreshkin.IT-ONE\\AppData\\Local\\Temp\\ipykernel_12736\\4205060413.py:17: FutureWarning:\n",
      "\n",
      "suggest_uniform has been deprecated in v3.0.0. This feature will be removed in v6.0.0. See https://github.com/optuna/optuna/releases/tag/v3.0.0. Use suggest_float instead.\n",
      "\n",
      "[I 2024-12-21 19:24:20,101] Trial 30 finished with value: -0.15659391599599334 and parameters: {'alpha': 0.121033739950638, 'l1_ratio': 0.934581004983038}. Best is trial 24 with value: -0.15525464195404548.\n",
      "C:\\Users\\aoreshkin.IT-ONE\\AppData\\Local\\Temp\\ipykernel_12736\\4205060413.py:16: FutureWarning:\n",
      "\n",
      "suggest_loguniform has been deprecated in v3.0.0. This feature will be removed in v6.0.0. See https://github.com/optuna/optuna/releases/tag/v3.0.0. Use suggest_float(..., log=True) instead.\n",
      "\n",
      "C:\\Users\\aoreshkin.IT-ONE\\AppData\\Local\\Temp\\ipykernel_12736\\4205060413.py:17: FutureWarning:\n",
      "\n",
      "suggest_uniform has been deprecated in v3.0.0. This feature will be removed in v6.0.0. See https://github.com/optuna/optuna/releases/tag/v3.0.0. Use suggest_float instead.\n",
      "\n",
      "[I 2024-12-21 19:24:20,373] Trial 31 finished with value: -0.15887720153654522 and parameters: {'alpha': 0.12381031773937466, 'l1_ratio': 0.9997069563659942}. Best is trial 24 with value: -0.15525464195404548.\n",
      "C:\\Users\\aoreshkin.IT-ONE\\AppData\\Local\\Temp\\ipykernel_12736\\4205060413.py:16: FutureWarning:\n",
      "\n",
      "suggest_loguniform has been deprecated in v3.0.0. This feature will be removed in v6.0.0. See https://github.com/optuna/optuna/releases/tag/v3.0.0. Use suggest_float(..., log=True) instead.\n",
      "\n",
      "C:\\Users\\aoreshkin.IT-ONE\\AppData\\Local\\Temp\\ipykernel_12736\\4205060413.py:17: FutureWarning:\n",
      "\n",
      "suggest_uniform has been deprecated in v3.0.0. This feature will be removed in v6.0.0. See https://github.com/optuna/optuna/releases/tag/v3.0.0. Use suggest_float instead.\n",
      "\n",
      "[I 2024-12-21 19:24:20,751] Trial 32 finished with value: -0.15542071994313175 and parameters: {'alpha': 0.13260922443884604, 'l1_ratio': 0.9000151949461767}. Best is trial 24 with value: -0.15525464195404548.\n",
      "C:\\Users\\aoreshkin.IT-ONE\\AppData\\Local\\Temp\\ipykernel_12736\\4205060413.py:16: FutureWarning:\n",
      "\n",
      "suggest_loguniform has been deprecated in v3.0.0. This feature will be removed in v6.0.0. See https://github.com/optuna/optuna/releases/tag/v3.0.0. Use suggest_float(..., log=True) instead.\n",
      "\n",
      "C:\\Users\\aoreshkin.IT-ONE\\AppData\\Local\\Temp\\ipykernel_12736\\4205060413.py:17: FutureWarning:\n",
      "\n",
      "suggest_uniform has been deprecated in v3.0.0. This feature will be removed in v6.0.0. See https://github.com/optuna/optuna/releases/tag/v3.0.0. Use suggest_float instead.\n",
      "\n",
      "[I 2024-12-21 19:24:20,988] Trial 33 finished with value: -0.1664392238702385 and parameters: {'alpha': 0.31291670306198316, 'l1_ratio': 0.943596098982045}. Best is trial 24 with value: -0.15525464195404548.\n",
      "C:\\Users\\aoreshkin.IT-ONE\\AppData\\Local\\Temp\\ipykernel_12736\\4205060413.py:16: FutureWarning:\n",
      "\n",
      "suggest_loguniform has been deprecated in v3.0.0. This feature will be removed in v6.0.0. See https://github.com/optuna/optuna/releases/tag/v3.0.0. Use suggest_float(..., log=True) instead.\n",
      "\n",
      "C:\\Users\\aoreshkin.IT-ONE\\AppData\\Local\\Temp\\ipykernel_12736\\4205060413.py:17: FutureWarning:\n",
      "\n",
      "suggest_uniform has been deprecated in v3.0.0. This feature will be removed in v6.0.0. See https://github.com/optuna/optuna/releases/tag/v3.0.0. Use suggest_float instead.\n",
      "\n",
      "[I 2024-12-21 19:24:21,208] Trial 34 finished with value: -0.17406893219964972 and parameters: {'alpha': 0.377682747076185, 'l1_ratio': 0.8183616090224589}. Best is trial 24 with value: -0.15525464195404548.\n",
      "C:\\Users\\aoreshkin.IT-ONE\\AppData\\Local\\Temp\\ipykernel_12736\\4205060413.py:16: FutureWarning:\n",
      "\n",
      "suggest_loguniform has been deprecated in v3.0.0. This feature will be removed in v6.0.0. See https://github.com/optuna/optuna/releases/tag/v3.0.0. Use suggest_float(..., log=True) instead.\n",
      "\n",
      "C:\\Users\\aoreshkin.IT-ONE\\AppData\\Local\\Temp\\ipykernel_12736\\4205060413.py:17: FutureWarning:\n",
      "\n",
      "suggest_uniform has been deprecated in v3.0.0. This feature will be removed in v6.0.0. See https://github.com/optuna/optuna/releases/tag/v3.0.0. Use suggest_float instead.\n",
      "\n",
      "C:\\Users\\aoreshkin.IT-ONE\\AppData\\Roaming\\Python\\Python313\\site-packages\\sklearn\\linear_model\\_coordinate_descent.py:697: ConvergenceWarning:\n",
      "\n",
      "Objective did not converge. You might want to increase the number of iterations, check the scale of the features or consider increasing regularisation. Duality gap: 8.906e+00, tolerance: 3.307e+00\n",
      "\n",
      "[I 2024-12-21 19:24:22,505] Trial 35 finished with value: -0.1687038059652844 and parameters: {'alpha': 0.062267654436301986, 'l1_ratio': 0.9367256669740747}. Best is trial 24 with value: -0.15525464195404548.\n",
      "C:\\Users\\aoreshkin.IT-ONE\\AppData\\Local\\Temp\\ipykernel_12736\\4205060413.py:16: FutureWarning:\n",
      "\n",
      "suggest_loguniform has been deprecated in v3.0.0. This feature will be removed in v6.0.0. See https://github.com/optuna/optuna/releases/tag/v3.0.0. Use suggest_float(..., log=True) instead.\n",
      "\n",
      "C:\\Users\\aoreshkin.IT-ONE\\AppData\\Local\\Temp\\ipykernel_12736\\4205060413.py:17: FutureWarning:\n",
      "\n",
      "suggest_uniform has been deprecated in v3.0.0. This feature will be removed in v6.0.0. See https://github.com/optuna/optuna/releases/tag/v3.0.0. Use suggest_float instead.\n",
      "\n",
      "[I 2024-12-21 19:24:22,685] Trial 36 finished with value: -0.19427725326373468 and parameters: {'alpha': 0.7527210200820755, 'l1_ratio': 0.7124182625839478}. Best is trial 24 with value: -0.15525464195404548.\n",
      "C:\\Users\\aoreshkin.IT-ONE\\AppData\\Local\\Temp\\ipykernel_12736\\4205060413.py:16: FutureWarning:\n",
      "\n",
      "suggest_loguniform has been deprecated in v3.0.0. This feature will be removed in v6.0.0. See https://github.com/optuna/optuna/releases/tag/v3.0.0. Use suggest_float(..., log=True) instead.\n",
      "\n",
      "C:\\Users\\aoreshkin.IT-ONE\\AppData\\Local\\Temp\\ipykernel_12736\\4205060413.py:17: FutureWarning:\n",
      "\n",
      "suggest_uniform has been deprecated in v3.0.0. This feature will be removed in v6.0.0. See https://github.com/optuna/optuna/releases/tag/v3.0.0. Use suggest_float instead.\n",
      "\n",
      "[I 2024-12-21 19:24:23,310] Trial 37 finished with value: -0.1579996687884959 and parameters: {'alpha': 0.13727836459537665, 'l1_ratio': 0.4341053235623306}. Best is trial 24 with value: -0.15525464195404548.\n",
      "C:\\Users\\aoreshkin.IT-ONE\\AppData\\Local\\Temp\\ipykernel_12736\\4205060413.py:16: FutureWarning:\n",
      "\n",
      "suggest_loguniform has been deprecated in v3.0.0. This feature will be removed in v6.0.0. See https://github.com/optuna/optuna/releases/tag/v3.0.0. Use suggest_float(..., log=True) instead.\n",
      "\n",
      "C:\\Users\\aoreshkin.IT-ONE\\AppData\\Local\\Temp\\ipykernel_12736\\4205060413.py:17: FutureWarning:\n",
      "\n",
      "suggest_uniform has been deprecated in v3.0.0. This feature will be removed in v6.0.0. See https://github.com/optuna/optuna/releases/tag/v3.0.0. Use suggest_float instead.\n",
      "\n",
      "C:\\Users\\aoreshkin.IT-ONE\\AppData\\Roaming\\Python\\Python313\\site-packages\\sklearn\\linear_model\\_coordinate_descent.py:697: ConvergenceWarning:\n",
      "\n",
      "Objective did not converge. You might want to increase the number of iterations, check the scale of the features or consider increasing regularisation. Duality gap: 1.679e+01, tolerance: 3.919e+00\n",
      "\n",
      "C:\\Users\\aoreshkin.IT-ONE\\AppData\\Roaming\\Python\\Python313\\site-packages\\sklearn\\linear_model\\_coordinate_descent.py:697: ConvergenceWarning:\n",
      "\n",
      "Objective did not converge. You might want to increase the number of iterations, check the scale of the features or consider increasing regularisation. Duality gap: 1.386e+01, tolerance: 3.307e+00\n",
      "\n",
      "C:\\Users\\aoreshkin.IT-ONE\\AppData\\Roaming\\Python\\Python313\\site-packages\\sklearn\\linear_model\\_coordinate_descent.py:697: ConvergenceWarning:\n",
      "\n",
      "Objective did not converge. You might want to increase the number of iterations, check the scale of the features or consider increasing regularisation. Duality gap: 2.797e+01, tolerance: 2.814e+00\n",
      "\n",
      "[I 2024-12-21 19:24:25,391] Trial 38 finished with value: -0.18479521174627106 and parameters: {'alpha': 0.030285449636769934, 'l1_ratio': 0.8978985493957028}. Best is trial 24 with value: -0.15525464195404548.\n",
      "C:\\Users\\aoreshkin.IT-ONE\\AppData\\Local\\Temp\\ipykernel_12736\\4205060413.py:16: FutureWarning:\n",
      "\n",
      "suggest_loguniform has been deprecated in v3.0.0. This feature will be removed in v6.0.0. See https://github.com/optuna/optuna/releases/tag/v3.0.0. Use suggest_float(..., log=True) instead.\n",
      "\n",
      "C:\\Users\\aoreshkin.IT-ONE\\AppData\\Local\\Temp\\ipykernel_12736\\4205060413.py:17: FutureWarning:\n",
      "\n",
      "suggest_uniform has been deprecated in v3.0.0. This feature will be removed in v6.0.0. See https://github.com/optuna/optuna/releases/tag/v3.0.0. Use suggest_float instead.\n",
      "\n",
      "C:\\Users\\aoreshkin.IT-ONE\\AppData\\Roaming\\Python\\Python313\\site-packages\\sklearn\\linear_model\\_coordinate_descent.py:697: ConvergenceWarning:\n",
      "\n",
      "Objective did not converge. You might want to increase the number of iterations, check the scale of the features or consider increasing regularisation. Duality gap: 2.799e+01, tolerance: 3.919e+00\n",
      "\n",
      "C:\\Users\\aoreshkin.IT-ONE\\AppData\\Roaming\\Python\\Python313\\site-packages\\sklearn\\linear_model\\_coordinate_descent.py:697: ConvergenceWarning:\n",
      "\n",
      "Objective did not converge. You might want to increase the number of iterations, check the scale of the features or consider increasing regularisation. Duality gap: 1.386e+01, tolerance: 3.307e+00\n",
      "\n",
      "C:\\Users\\aoreshkin.IT-ONE\\AppData\\Roaming\\Python\\Python313\\site-packages\\sklearn\\linear_model\\_coordinate_descent.py:697: ConvergenceWarning:\n",
      "\n",
      "Objective did not converge. You might want to increase the number of iterations, check the scale of the features or consider increasing regularisation. Duality gap: 4.821e+01, tolerance: 2.814e+00\n",
      "\n",
      "[I 2024-12-21 19:24:27,624] Trial 39 finished with value: -0.19769576379649767 and parameters: {'alpha': 0.01014312787408609, 'l1_ratio': 0.6008194507612613}. Best is trial 24 with value: -0.15525464195404548.\n",
      "C:\\Users\\aoreshkin.IT-ONE\\AppData\\Local\\Temp\\ipykernel_12736\\4205060413.py:16: FutureWarning:\n",
      "\n",
      "suggest_loguniform has been deprecated in v3.0.0. This feature will be removed in v6.0.0. See https://github.com/optuna/optuna/releases/tag/v3.0.0. Use suggest_float(..., log=True) instead.\n",
      "\n",
      "C:\\Users\\aoreshkin.IT-ONE\\AppData\\Local\\Temp\\ipykernel_12736\\4205060413.py:17: FutureWarning:\n",
      "\n",
      "suggest_uniform has been deprecated in v3.0.0. This feature will be removed in v6.0.0. See https://github.com/optuna/optuna/releases/tag/v3.0.0. Use suggest_float instead.\n",
      "\n",
      "[I 2024-12-21 19:24:28,009] Trial 40 finished with value: -0.16501728167166752 and parameters: {'alpha': 0.2181130756546865, 'l1_ratio': 0.09183054724483408}. Best is trial 24 with value: -0.15525464195404548.\n",
      "C:\\Users\\aoreshkin.IT-ONE\\AppData\\Local\\Temp\\ipykernel_12736\\4205060413.py:16: FutureWarning:\n",
      "\n",
      "suggest_loguniform has been deprecated in v3.0.0. This feature will be removed in v6.0.0. See https://github.com/optuna/optuna/releases/tag/v3.0.0. Use suggest_float(..., log=True) instead.\n",
      "\n",
      "C:\\Users\\aoreshkin.IT-ONE\\AppData\\Local\\Temp\\ipykernel_12736\\4205060413.py:17: FutureWarning:\n",
      "\n",
      "suggest_uniform has been deprecated in v3.0.0. This feature will be removed in v6.0.0. See https://github.com/optuna/optuna/releases/tag/v3.0.0. Use suggest_float instead.\n",
      "\n",
      "[I 2024-12-21 19:24:28,403] Trial 41 finished with value: -0.1556217958570487 and parameters: {'alpha': 0.13761447000958096, 'l1_ratio': 0.8372966880017598}. Best is trial 24 with value: -0.15525464195404548.\n",
      "C:\\Users\\aoreshkin.IT-ONE\\AppData\\Local\\Temp\\ipykernel_12736\\4205060413.py:16: FutureWarning:\n",
      "\n",
      "suggest_loguniform has been deprecated in v3.0.0. This feature will be removed in v6.0.0. See https://github.com/optuna/optuna/releases/tag/v3.0.0. Use suggest_float(..., log=True) instead.\n",
      "\n",
      "C:\\Users\\aoreshkin.IT-ONE\\AppData\\Local\\Temp\\ipykernel_12736\\4205060413.py:17: FutureWarning:\n",
      "\n",
      "suggest_uniform has been deprecated in v3.0.0. This feature will be removed in v6.0.0. See https://github.com/optuna/optuna/releases/tag/v3.0.0. Use suggest_float instead.\n",
      "\n",
      "[I 2024-12-21 19:24:28,627] Trial 42 finished with value: -0.1649156144827253 and parameters: {'alpha': 0.2672782897808988, 'l1_ratio': 0.9536474861130618}. Best is trial 24 with value: -0.15525464195404548.\n",
      "C:\\Users\\aoreshkin.IT-ONE\\AppData\\Local\\Temp\\ipykernel_12736\\4205060413.py:16: FutureWarning:\n",
      "\n",
      "suggest_loguniform has been deprecated in v3.0.0. This feature will be removed in v6.0.0. See https://github.com/optuna/optuna/releases/tag/v3.0.0. Use suggest_float(..., log=True) instead.\n",
      "\n",
      "C:\\Users\\aoreshkin.IT-ONE\\AppData\\Local\\Temp\\ipykernel_12736\\4205060413.py:17: FutureWarning:\n",
      "\n",
      "suggest_uniform has been deprecated in v3.0.0. This feature will be removed in v6.0.0. See https://github.com/optuna/optuna/releases/tag/v3.0.0. Use suggest_float instead.\n",
      "\n",
      "[I 2024-12-21 19:24:29,241] Trial 43 finished with value: -0.16245571223062297 and parameters: {'alpha': 0.07747487454140697, 'l1_ratio': 0.8116315859449782}. Best is trial 24 with value: -0.15525464195404548.\n",
      "C:\\Users\\aoreshkin.IT-ONE\\AppData\\Local\\Temp\\ipykernel_12736\\4205060413.py:16: FutureWarning:\n",
      "\n",
      "suggest_loguniform has been deprecated in v3.0.0. This feature will be removed in v6.0.0. See https://github.com/optuna/optuna/releases/tag/v3.0.0. Use suggest_float(..., log=True) instead.\n",
      "\n",
      "C:\\Users\\aoreshkin.IT-ONE\\AppData\\Local\\Temp\\ipykernel_12736\\4205060413.py:17: FutureWarning:\n",
      "\n",
      "suggest_uniform has been deprecated in v3.0.0. This feature will be removed in v6.0.0. See https://github.com/optuna/optuna/releases/tag/v3.0.0. Use suggest_float instead.\n",
      "\n",
      "[I 2024-12-21 19:24:29,699] Trial 44 finished with value: -0.15608766727813372 and parameters: {'alpha': 0.1133035282691089, 'l1_ratio': 0.7527743728724232}. Best is trial 24 with value: -0.15525464195404548.\n",
      "C:\\Users\\aoreshkin.IT-ONE\\AppData\\Local\\Temp\\ipykernel_12736\\4205060413.py:16: FutureWarning:\n",
      "\n",
      "suggest_loguniform has been deprecated in v3.0.0. This feature will be removed in v6.0.0. See https://github.com/optuna/optuna/releases/tag/v3.0.0. Use suggest_float(..., log=True) instead.\n",
      "\n",
      "C:\\Users\\aoreshkin.IT-ONE\\AppData\\Local\\Temp\\ipykernel_12736\\4205060413.py:17: FutureWarning:\n",
      "\n",
      "suggest_uniform has been deprecated in v3.0.0. This feature will be removed in v6.0.0. See https://github.com/optuna/optuna/releases/tag/v3.0.0. Use suggest_float instead.\n",
      "\n",
      "[I 2024-12-21 19:24:30,292] Trial 45 finished with value: -0.17395174848397899 and parameters: {'alpha': 0.04087078385967134, 'l1_ratio': 0.7196660759185439}. Best is trial 24 with value: -0.15525464195404548.\n",
      "C:\\Users\\aoreshkin.IT-ONE\\AppData\\Local\\Temp\\ipykernel_12736\\4205060413.py:16: FutureWarning:\n",
      "\n",
      "suggest_loguniform has been deprecated in v3.0.0. This feature will be removed in v6.0.0. See https://github.com/optuna/optuna/releases/tag/v3.0.0. Use suggest_float(..., log=True) instead.\n",
      "\n",
      "C:\\Users\\aoreshkin.IT-ONE\\AppData\\Local\\Temp\\ipykernel_12736\\4205060413.py:17: FutureWarning:\n",
      "\n",
      "suggest_uniform has been deprecated in v3.0.0. This feature will be removed in v6.0.0. See https://github.com/optuna/optuna/releases/tag/v3.0.0. Use suggest_float instead.\n",
      "\n",
      "[I 2024-12-21 19:24:31,359] Trial 46 finished with value: -0.1652206849484824 and parameters: {'alpha': 0.062061326432077624, 'l1_ratio': 0.7595045609206128}. Best is trial 24 with value: -0.15525464195404548.\n",
      "C:\\Users\\aoreshkin.IT-ONE\\AppData\\Local\\Temp\\ipykernel_12736\\4205060413.py:16: FutureWarning:\n",
      "\n",
      "suggest_loguniform has been deprecated in v3.0.0. This feature will be removed in v6.0.0. See https://github.com/optuna/optuna/releases/tag/v3.0.0. Use suggest_float(..., log=True) instead.\n",
      "\n",
      "C:\\Users\\aoreshkin.IT-ONE\\AppData\\Local\\Temp\\ipykernel_12736\\4205060413.py:17: FutureWarning:\n",
      "\n",
      "suggest_uniform has been deprecated in v3.0.0. This feature will be removed in v6.0.0. See https://github.com/optuna/optuna/releases/tag/v3.0.0. Use suggest_float instead.\n",
      "\n",
      "[I 2024-12-21 19:24:31,754] Trial 47 finished with value: -0.1559918236270083 and parameters: {'alpha': 0.10975271996988074, 'l1_ratio': 0.6727927651195116}. Best is trial 24 with value: -0.15525464195404548.\n",
      "C:\\Users\\aoreshkin.IT-ONE\\AppData\\Local\\Temp\\ipykernel_12736\\4205060413.py:16: FutureWarning:\n",
      "\n",
      "suggest_loguniform has been deprecated in v3.0.0. This feature will be removed in v6.0.0. See https://github.com/optuna/optuna/releases/tag/v3.0.0. Use suggest_float(..., log=True) instead.\n",
      "\n",
      "C:\\Users\\aoreshkin.IT-ONE\\AppData\\Local\\Temp\\ipykernel_12736\\4205060413.py:17: FutureWarning:\n",
      "\n",
      "suggest_uniform has been deprecated in v3.0.0. This feature will be removed in v6.0.0. See https://github.com/optuna/optuna/releases/tag/v3.0.0. Use suggest_float instead.\n",
      "\n",
      "[I 2024-12-21 19:24:31,943] Trial 48 finished with value: -0.19325276398507016 and parameters: {'alpha': 0.709693019950397, 'l1_ratio': 0.6661664955950614}. Best is trial 24 with value: -0.15525464195404548.\n",
      "C:\\Users\\aoreshkin.IT-ONE\\AppData\\Local\\Temp\\ipykernel_12736\\4205060413.py:16: FutureWarning:\n",
      "\n",
      "suggest_loguniform has been deprecated in v3.0.0. This feature will be removed in v6.0.0. See https://github.com/optuna/optuna/releases/tag/v3.0.0. Use suggest_float(..., log=True) instead.\n",
      "\n",
      "C:\\Users\\aoreshkin.IT-ONE\\AppData\\Local\\Temp\\ipykernel_12736\\4205060413.py:17: FutureWarning:\n",
      "\n",
      "suggest_uniform has been deprecated in v3.0.0. This feature will be removed in v6.0.0. See https://github.com/optuna/optuna/releases/tag/v3.0.0. Use suggest_float instead.\n",
      "\n",
      "[I 2024-12-21 19:24:33,615] Trial 49 finished with value: -0.18822576139356392 and parameters: {'alpha': 0.018010067055053137, 'l1_ratio': 0.5659152218945043}. Best is trial 24 with value: -0.15525464195404548.\n"
     ]
    },
    {
     "name": "stdout",
     "output_type": "stream",
     "text": [
      "Лучшие гиперпараметры: {'alpha': 0.13896707707771808, 'l1_ratio': 0.8958456471978458}\n",
      "Лучшее значение MAPE: -0.15525464195404548\n"
     ]
    },
    {
     "data": {
      "application/vnd.plotly.v1+json": {
       "config": {
        "plotlyServerURL": "https://plot.ly"
       },
       "data": [
        {
         "mode": "markers",
         "name": "Objective Value",
         "type": "scatter",
         "x": [
          0,
          1,
          2,
          3,
          4,
          5,
          6,
          7,
          8,
          9,
          10,
          11,
          12,
          13,
          14,
          15,
          16,
          17,
          18,
          19,
          20,
          21,
          22,
          23,
          24,
          25,
          26,
          27,
          28,
          29,
          30,
          31,
          32,
          33,
          34,
          35,
          36,
          37,
          38,
          39,
          40,
          41,
          42,
          43,
          44,
          45,
          46,
          47,
          48,
          49
         ],
         "y": [
          -0.2020104374107449,
          -0.20610225347231523,
          -0.3097136691717658,
          -0.3210707965209857,
          -0.163637193891843,
          -0.19219809777334043,
          -0.1801711799049223,
          -0.22268781009566757,
          -0.1633993795438595,
          -0.21064537182800197,
          -0.18020485652786783,
          -0.16283496016186905,
          -0.15931197861857252,
          -0.15979206244828462,
          -0.15933727676293136,
          -0.1658173886442343,
          -0.19805673884205988,
          -0.1704306921933576,
          -0.17866304439506386,
          -0.15804927799038718,
          -0.16214240479538589,
          -0.1553092831252354,
          -0.1569952656350973,
          -0.17799566977082942,
          -0.15525464195404548,
          -0.18177956536738868,
          -0.15853810539622354,
          -0.18163313744022788,
          -0.2569895554061078,
          -0.1748049244395648,
          -0.15659391599599334,
          -0.15887720153654522,
          -0.15542071994313175,
          -0.1664392238702385,
          -0.17406893219964972,
          -0.1687038059652844,
          -0.19427725326373468,
          -0.1579996687884959,
          -0.18479521174627106,
          -0.19769576379649767,
          -0.16501728167166752,
          -0.1556217958570487,
          -0.1649156144827253,
          -0.16245571223062297,
          -0.15608766727813372,
          -0.17395174848397899,
          -0.1652206849484824,
          -0.1559918236270083,
          -0.19325276398507016,
          -0.18822576139356392
         ]
        },
        {
         "mode": "lines",
         "name": "Best Value",
         "type": "scatter",
         "x": [
          0,
          1,
          2,
          3,
          4,
          5,
          6,
          7,
          8,
          9,
          10,
          11,
          12,
          13,
          14,
          15,
          16,
          17,
          18,
          19,
          20,
          21,
          22,
          23,
          24,
          25,
          26,
          27,
          28,
          29,
          30,
          31,
          32,
          33,
          34,
          35,
          36,
          37,
          38,
          39,
          40,
          41,
          42,
          43,
          44,
          45,
          46,
          47,
          48,
          49
         ],
         "y": [
          -0.2020104374107449,
          -0.2020104374107449,
          -0.2020104374107449,
          -0.2020104374107449,
          -0.163637193891843,
          -0.163637193891843,
          -0.163637193891843,
          -0.163637193891843,
          -0.1633993795438595,
          -0.1633993795438595,
          -0.1633993795438595,
          -0.16283496016186905,
          -0.15931197861857252,
          -0.15931197861857252,
          -0.15931197861857252,
          -0.15931197861857252,
          -0.15931197861857252,
          -0.15931197861857252,
          -0.15931197861857252,
          -0.15804927799038718,
          -0.15804927799038718,
          -0.1553092831252354,
          -0.1553092831252354,
          -0.1553092831252354,
          -0.15525464195404548,
          -0.15525464195404548,
          -0.15525464195404548,
          -0.15525464195404548,
          -0.15525464195404548,
          -0.15525464195404548,
          -0.15525464195404548,
          -0.15525464195404548,
          -0.15525464195404548,
          -0.15525464195404548,
          -0.15525464195404548,
          -0.15525464195404548,
          -0.15525464195404548,
          -0.15525464195404548,
          -0.15525464195404548,
          -0.15525464195404548,
          -0.15525464195404548,
          -0.15525464195404548,
          -0.15525464195404548,
          -0.15525464195404548,
          -0.15525464195404548,
          -0.15525464195404548,
          -0.15525464195404548,
          -0.15525464195404548,
          -0.15525464195404548,
          -0.15525464195404548
         ]
        },
        {
         "marker": {
          "color": "#cccccc"
         },
         "mode": "markers",
         "name": "Infeasible Trial",
         "showlegend": false,
         "type": "scatter",
         "x": [],
         "y": []
        }
       ],
       "layout": {
        "template": {
         "data": {
          "bar": [
           {
            "error_x": {
             "color": "#2a3f5f"
            },
            "error_y": {
             "color": "#2a3f5f"
            },
            "marker": {
             "line": {
              "color": "#E5ECF6",
              "width": 0.5
             },
             "pattern": {
              "fillmode": "overlay",
              "size": 10,
              "solidity": 0.2
             }
            },
            "type": "bar"
           }
          ],
          "barpolar": [
           {
            "marker": {
             "line": {
              "color": "#E5ECF6",
              "width": 0.5
             },
             "pattern": {
              "fillmode": "overlay",
              "size": 10,
              "solidity": 0.2
             }
            },
            "type": "barpolar"
           }
          ],
          "carpet": [
           {
            "aaxis": {
             "endlinecolor": "#2a3f5f",
             "gridcolor": "white",
             "linecolor": "white",
             "minorgridcolor": "white",
             "startlinecolor": "#2a3f5f"
            },
            "baxis": {
             "endlinecolor": "#2a3f5f",
             "gridcolor": "white",
             "linecolor": "white",
             "minorgridcolor": "white",
             "startlinecolor": "#2a3f5f"
            },
            "type": "carpet"
           }
          ],
          "choropleth": [
           {
            "colorbar": {
             "outlinewidth": 0,
             "ticks": ""
            },
            "type": "choropleth"
           }
          ],
          "contour": [
           {
            "colorbar": {
             "outlinewidth": 0,
             "ticks": ""
            },
            "colorscale": [
             [
              0,
              "#0d0887"
             ],
             [
              0.1111111111111111,
              "#46039f"
             ],
             [
              0.2222222222222222,
              "#7201a8"
             ],
             [
              0.3333333333333333,
              "#9c179e"
             ],
             [
              0.4444444444444444,
              "#bd3786"
             ],
             [
              0.5555555555555556,
              "#d8576b"
             ],
             [
              0.6666666666666666,
              "#ed7953"
             ],
             [
              0.7777777777777778,
              "#fb9f3a"
             ],
             [
              0.8888888888888888,
              "#fdca26"
             ],
             [
              1,
              "#f0f921"
             ]
            ],
            "type": "contour"
           }
          ],
          "contourcarpet": [
           {
            "colorbar": {
             "outlinewidth": 0,
             "ticks": ""
            },
            "type": "contourcarpet"
           }
          ],
          "heatmap": [
           {
            "colorbar": {
             "outlinewidth": 0,
             "ticks": ""
            },
            "colorscale": [
             [
              0,
              "#0d0887"
             ],
             [
              0.1111111111111111,
              "#46039f"
             ],
             [
              0.2222222222222222,
              "#7201a8"
             ],
             [
              0.3333333333333333,
              "#9c179e"
             ],
             [
              0.4444444444444444,
              "#bd3786"
             ],
             [
              0.5555555555555556,
              "#d8576b"
             ],
             [
              0.6666666666666666,
              "#ed7953"
             ],
             [
              0.7777777777777778,
              "#fb9f3a"
             ],
             [
              0.8888888888888888,
              "#fdca26"
             ],
             [
              1,
              "#f0f921"
             ]
            ],
            "type": "heatmap"
           }
          ],
          "heatmapgl": [
           {
            "colorbar": {
             "outlinewidth": 0,
             "ticks": ""
            },
            "colorscale": [
             [
              0,
              "#0d0887"
             ],
             [
              0.1111111111111111,
              "#46039f"
             ],
             [
              0.2222222222222222,
              "#7201a8"
             ],
             [
              0.3333333333333333,
              "#9c179e"
             ],
             [
              0.4444444444444444,
              "#bd3786"
             ],
             [
              0.5555555555555556,
              "#d8576b"
             ],
             [
              0.6666666666666666,
              "#ed7953"
             ],
             [
              0.7777777777777778,
              "#fb9f3a"
             ],
             [
              0.8888888888888888,
              "#fdca26"
             ],
             [
              1,
              "#f0f921"
             ]
            ],
            "type": "heatmapgl"
           }
          ],
          "histogram": [
           {
            "marker": {
             "pattern": {
              "fillmode": "overlay",
              "size": 10,
              "solidity": 0.2
             }
            },
            "type": "histogram"
           }
          ],
          "histogram2d": [
           {
            "colorbar": {
             "outlinewidth": 0,
             "ticks": ""
            },
            "colorscale": [
             [
              0,
              "#0d0887"
             ],
             [
              0.1111111111111111,
              "#46039f"
             ],
             [
              0.2222222222222222,
              "#7201a8"
             ],
             [
              0.3333333333333333,
              "#9c179e"
             ],
             [
              0.4444444444444444,
              "#bd3786"
             ],
             [
              0.5555555555555556,
              "#d8576b"
             ],
             [
              0.6666666666666666,
              "#ed7953"
             ],
             [
              0.7777777777777778,
              "#fb9f3a"
             ],
             [
              0.8888888888888888,
              "#fdca26"
             ],
             [
              1,
              "#f0f921"
             ]
            ],
            "type": "histogram2d"
           }
          ],
          "histogram2dcontour": [
           {
            "colorbar": {
             "outlinewidth": 0,
             "ticks": ""
            },
            "colorscale": [
             [
              0,
              "#0d0887"
             ],
             [
              0.1111111111111111,
              "#46039f"
             ],
             [
              0.2222222222222222,
              "#7201a8"
             ],
             [
              0.3333333333333333,
              "#9c179e"
             ],
             [
              0.4444444444444444,
              "#bd3786"
             ],
             [
              0.5555555555555556,
              "#d8576b"
             ],
             [
              0.6666666666666666,
              "#ed7953"
             ],
             [
              0.7777777777777778,
              "#fb9f3a"
             ],
             [
              0.8888888888888888,
              "#fdca26"
             ],
             [
              1,
              "#f0f921"
             ]
            ],
            "type": "histogram2dcontour"
           }
          ],
          "mesh3d": [
           {
            "colorbar": {
             "outlinewidth": 0,
             "ticks": ""
            },
            "type": "mesh3d"
           }
          ],
          "parcoords": [
           {
            "line": {
             "colorbar": {
              "outlinewidth": 0,
              "ticks": ""
             }
            },
            "type": "parcoords"
           }
          ],
          "pie": [
           {
            "automargin": true,
            "type": "pie"
           }
          ],
          "scatter": [
           {
            "fillpattern": {
             "fillmode": "overlay",
             "size": 10,
             "solidity": 0.2
            },
            "type": "scatter"
           }
          ],
          "scatter3d": [
           {
            "line": {
             "colorbar": {
              "outlinewidth": 0,
              "ticks": ""
             }
            },
            "marker": {
             "colorbar": {
              "outlinewidth": 0,
              "ticks": ""
             }
            },
            "type": "scatter3d"
           }
          ],
          "scattercarpet": [
           {
            "marker": {
             "colorbar": {
              "outlinewidth": 0,
              "ticks": ""
             }
            },
            "type": "scattercarpet"
           }
          ],
          "scattergeo": [
           {
            "marker": {
             "colorbar": {
              "outlinewidth": 0,
              "ticks": ""
             }
            },
            "type": "scattergeo"
           }
          ],
          "scattergl": [
           {
            "marker": {
             "colorbar": {
              "outlinewidth": 0,
              "ticks": ""
             }
            },
            "type": "scattergl"
           }
          ],
          "scattermapbox": [
           {
            "marker": {
             "colorbar": {
              "outlinewidth": 0,
              "ticks": ""
             }
            },
            "type": "scattermapbox"
           }
          ],
          "scatterpolar": [
           {
            "marker": {
             "colorbar": {
              "outlinewidth": 0,
              "ticks": ""
             }
            },
            "type": "scatterpolar"
           }
          ],
          "scatterpolargl": [
           {
            "marker": {
             "colorbar": {
              "outlinewidth": 0,
              "ticks": ""
             }
            },
            "type": "scatterpolargl"
           }
          ],
          "scatterternary": [
           {
            "marker": {
             "colorbar": {
              "outlinewidth": 0,
              "ticks": ""
             }
            },
            "type": "scatterternary"
           }
          ],
          "surface": [
           {
            "colorbar": {
             "outlinewidth": 0,
             "ticks": ""
            },
            "colorscale": [
             [
              0,
              "#0d0887"
             ],
             [
              0.1111111111111111,
              "#46039f"
             ],
             [
              0.2222222222222222,
              "#7201a8"
             ],
             [
              0.3333333333333333,
              "#9c179e"
             ],
             [
              0.4444444444444444,
              "#bd3786"
             ],
             [
              0.5555555555555556,
              "#d8576b"
             ],
             [
              0.6666666666666666,
              "#ed7953"
             ],
             [
              0.7777777777777778,
              "#fb9f3a"
             ],
             [
              0.8888888888888888,
              "#fdca26"
             ],
             [
              1,
              "#f0f921"
             ]
            ],
            "type": "surface"
           }
          ],
          "table": [
           {
            "cells": {
             "fill": {
              "color": "#EBF0F8"
             },
             "line": {
              "color": "white"
             }
            },
            "header": {
             "fill": {
              "color": "#C8D4E3"
             },
             "line": {
              "color": "white"
             }
            },
            "type": "table"
           }
          ]
         },
         "layout": {
          "annotationdefaults": {
           "arrowcolor": "#2a3f5f",
           "arrowhead": 0,
           "arrowwidth": 1
          },
          "autotypenumbers": "strict",
          "coloraxis": {
           "colorbar": {
            "outlinewidth": 0,
            "ticks": ""
           }
          },
          "colorscale": {
           "diverging": [
            [
             0,
             "#8e0152"
            ],
            [
             0.1,
             "#c51b7d"
            ],
            [
             0.2,
             "#de77ae"
            ],
            [
             0.3,
             "#f1b6da"
            ],
            [
             0.4,
             "#fde0ef"
            ],
            [
             0.5,
             "#f7f7f7"
            ],
            [
             0.6,
             "#e6f5d0"
            ],
            [
             0.7,
             "#b8e186"
            ],
            [
             0.8,
             "#7fbc41"
            ],
            [
             0.9,
             "#4d9221"
            ],
            [
             1,
             "#276419"
            ]
           ],
           "sequential": [
            [
             0,
             "#0d0887"
            ],
            [
             0.1111111111111111,
             "#46039f"
            ],
            [
             0.2222222222222222,
             "#7201a8"
            ],
            [
             0.3333333333333333,
             "#9c179e"
            ],
            [
             0.4444444444444444,
             "#bd3786"
            ],
            [
             0.5555555555555556,
             "#d8576b"
            ],
            [
             0.6666666666666666,
             "#ed7953"
            ],
            [
             0.7777777777777778,
             "#fb9f3a"
            ],
            [
             0.8888888888888888,
             "#fdca26"
            ],
            [
             1,
             "#f0f921"
            ]
           ],
           "sequentialminus": [
            [
             0,
             "#0d0887"
            ],
            [
             0.1111111111111111,
             "#46039f"
            ],
            [
             0.2222222222222222,
             "#7201a8"
            ],
            [
             0.3333333333333333,
             "#9c179e"
            ],
            [
             0.4444444444444444,
             "#bd3786"
            ],
            [
             0.5555555555555556,
             "#d8576b"
            ],
            [
             0.6666666666666666,
             "#ed7953"
            ],
            [
             0.7777777777777778,
             "#fb9f3a"
            ],
            [
             0.8888888888888888,
             "#fdca26"
            ],
            [
             1,
             "#f0f921"
            ]
           ]
          },
          "colorway": [
           "#636efa",
           "#EF553B",
           "#00cc96",
           "#ab63fa",
           "#FFA15A",
           "#19d3f3",
           "#FF6692",
           "#B6E880",
           "#FF97FF",
           "#FECB52"
          ],
          "font": {
           "color": "#2a3f5f"
          },
          "geo": {
           "bgcolor": "white",
           "lakecolor": "white",
           "landcolor": "#E5ECF6",
           "showlakes": true,
           "showland": true,
           "subunitcolor": "white"
          },
          "hoverlabel": {
           "align": "left"
          },
          "hovermode": "closest",
          "mapbox": {
           "style": "light"
          },
          "paper_bgcolor": "white",
          "plot_bgcolor": "#E5ECF6",
          "polar": {
           "angularaxis": {
            "gridcolor": "white",
            "linecolor": "white",
            "ticks": ""
           },
           "bgcolor": "#E5ECF6",
           "radialaxis": {
            "gridcolor": "white",
            "linecolor": "white",
            "ticks": ""
           }
          },
          "scene": {
           "xaxis": {
            "backgroundcolor": "#E5ECF6",
            "gridcolor": "white",
            "gridwidth": 2,
            "linecolor": "white",
            "showbackground": true,
            "ticks": "",
            "zerolinecolor": "white"
           },
           "yaxis": {
            "backgroundcolor": "#E5ECF6",
            "gridcolor": "white",
            "gridwidth": 2,
            "linecolor": "white",
            "showbackground": true,
            "ticks": "",
            "zerolinecolor": "white"
           },
           "zaxis": {
            "backgroundcolor": "#E5ECF6",
            "gridcolor": "white",
            "gridwidth": 2,
            "linecolor": "white",
            "showbackground": true,
            "ticks": "",
            "zerolinecolor": "white"
           }
          },
          "shapedefaults": {
           "line": {
            "color": "#2a3f5f"
           }
          },
          "ternary": {
           "aaxis": {
            "gridcolor": "white",
            "linecolor": "white",
            "ticks": ""
           },
           "baxis": {
            "gridcolor": "white",
            "linecolor": "white",
            "ticks": ""
           },
           "bgcolor": "#E5ECF6",
           "caxis": {
            "gridcolor": "white",
            "linecolor": "white",
            "ticks": ""
           }
          },
          "title": {
           "x": 0.05
          },
          "xaxis": {
           "automargin": true,
           "gridcolor": "white",
           "linecolor": "white",
           "ticks": "",
           "title": {
            "standoff": 15
           },
           "zerolinecolor": "white",
           "zerolinewidth": 2
          },
          "yaxis": {
           "automargin": true,
           "gridcolor": "white",
           "linecolor": "white",
           "ticks": "",
           "title": {
            "standoff": 15
           },
           "zerolinecolor": "white",
           "zerolinewidth": 2
          }
         }
        },
        "title": {
         "text": "Optimization History Plot"
        },
        "xaxis": {
         "title": {
          "text": "Trial"
         }
        },
        "yaxis": {
         "title": {
          "text": "Objective Value"
         }
        }
       }
      }
     },
     "metadata": {},
     "output_type": "display_data"
    }
   ],
   "source": [
    "# Выделение интересующих факторов\n",
    "X = boston_data[['LSTAT', 'PTRATIO', 'RM', 'CRIM']]\n",
    "y = boston_data[['PRICE']]\n",
    "\n",
    "# Инициализация стандартизатора\n",
    "scaler = StandardScaler()\n",
    "X = scaler.fit_transform(X)\n",
    "\n",
    "# Добавление полиномиальных признаков\n",
    "poly = PolynomialFeatures(degree=3, include_bias=False)\n",
    "X = poly.fit_transform(X)\n",
    "\n",
    "# Определение функции для оптимизации\n",
    "def optimize_model(trial):\n",
    "    # Определение гиперпараметров для оптимизации\n",
    "    alpha = trial.suggest_loguniform('alpha', 0.01, 10.0)\n",
    "    l1_ratio = trial.suggest_uniform('l1_ratio', 0.0, 1.0)\n",
    "    \n",
    "    # Создание модели с оптимизируемыми гиперпараметрами\n",
    "    model = ElasticNet(alpha=alpha, l1_ratio=l1_ratio, max_iter=10000)\n",
    "    \n",
    "    # Оценка модели на кросс-валидации\n",
    "    scores = cross_val_score(model, X, y, scoring='neg_mean_absolute_percentage_error', cv=5)\n",
    "    \n",
    "    # Возвращение среднего значения MAPE\n",
    "    return scores.mean()\n",
    "\n",
    "# Запуск оптимизации\n",
    "study = optuna.create_study(direction='maximize')\n",
    "study.optimize(optimize_model, n_trials=50)\n",
    "\n",
    "# Вывод лучших гиперпараметров и соответствующего MAPE\n",
    "print('Лучшие гиперпараметры:', study.best_params)\n",
    "print('Лучшее значение MAPE:', study.best_value)\n",
    "\n",
    "# Визуализация истории оптимизации\n",
    "optuna.visualization.plot_optimization_history(study)"
   ]
  }
 ],
 "metadata": {
  "kernelspec": {
   "display_name": "Python 3",
   "language": "python",
   "name": "python3"
  },
  "language_info": {
   "codemirror_mode": {
    "name": "ipython",
    "version": 3
   },
   "file_extension": ".py",
   "mimetype": "text/x-python",
   "name": "python",
   "nbconvert_exporter": "python",
   "pygments_lexer": "ipython3",
   "version": "3.13.1"
  }
 },
 "nbformat": 4,
 "nbformat_minor": 2
}
