{
 "cells": [
  {
   "cell_type": "markdown",
   "metadata": {
    "_cell_guid": "9631385a-8e31-4600-b207-bca33c81e0de",
    "_execution_state": "idle",
    "_uuid": "d9163d403d777f932311c57e27a9bdc2a771e90a"
   },
   "source": [
    "**New York City Taxi Trip Duration**\n",
    "\n",
    "This notebook goes through a simple process of extracting basic features, building a model and then make predictions.\n",
    "\n",
    "I am using the TPOT package to create a pipeline. TPOT is a Python Automated Machine Learning tool that optimizes machine learning pipelines using genetic programming. I thought it is useful to add this to the list of kernels available in this competition."
   ]
  },
  {
   "cell_type": "markdown",
   "metadata": {
    "_cell_guid": "b896ae0a-1ad1-4472-95e7-ffbaf296f196",
    "_execution_state": "idle",
    "_uuid": "a1481fd13c682a054e31df2da430fd7fc20e655f"
   },
   "source": [
    "**Objective:**\n",
    "\n",
    "The challenge is to build a model that predicts the total ride duration of taxi trips in New York City. The primary data set is released by the NYC Taxi and Limousine Commission, which includes pickup time, geo-coordinates, number of passengers, and several other variables.\n",
    "This challenge is a little different from most because kagglers are encouraged to publish additional training data that other participants can use for their predictions.\n",
    "\n",
    "First things first, lets look at the data.\n",
    "\n",
    "I borrowed some feature engineering codes from Nir Mabin's [\"Dark Taxi - TripDurationPrediction\"](https://www.kaggle.com/donniedarko/darktaxi-tripdurationprediction-lb-0-385)\n",
    "and Beluga's [\"From EDA to the Top\"](https://www.kaggle.com/gaborfodor/from-eda-to-the-top-lb-0-367).\n",
    "\n",
    "**If this helped you, some up-votes would be very much appreciated - it would keep me motivated.**"
   ]
  },
  {
   "cell_type": "code",
   "execution_count": 1,
   "metadata": {
    "_cell_guid": "c6ca08fe-ba84-4292-9c09-4d6720e10af2",
    "_execution_state": "idle",
    "_uuid": "bc3cb35d1c95b5f81407156c85d691559df4c2fb"
   },
   "outputs": [
    {
     "name": "stdout",
     "output_type": "stream",
     "text": [
      "accidents_2016.csv\n",
      "fastest_routes_test.csv\n",
      "fastest_routes_train_part_1.csv\n",
      "fastest_routes_train_part_2.csv\n",
      "second_fastest_routes_test.csv\n",
      "second_fastest_routes_train.csv\n",
      "test.csv\n",
      "train.csv\n",
      "\n"
     ]
    }
   ],
   "source": [
    "# Import libraries\n",
    "import os\n",
    "mingw_path = 'g:/mingw64/bin'\n",
    "os.environ['PATH'] = mingw_path + ';' + os.environ['PATH']\n",
    "import xgboost as xgb\n",
    "\n",
    "import numpy as np\n",
    "import os\n",
    "import pandas as pd\n",
    "import matplotlib.pyplot as plt\n",
    "import seaborn as sns\n",
    "color = sns.color_palette()\n",
    "%matplotlib inline\n",
    "from haversine import haversine\n",
    "import datetime as dt\n",
    "\n",
    "from subprocess import check_output\n",
    "print(check_output([\"ls\", \"../input/new-york-city-taxi-with-osrm/\"]).decode(\"utf8\"))"
   ]
  },
  {
   "cell_type": "markdown",
   "metadata": {
    "_cell_guid": "cbea5ce4-b349-42db-8762-c123ed704a6a",
    "_execution_state": "idle",
    "_uuid": "62ab351c1741632952aa349cb52c91e305e3d190"
   },
   "source": [
    "****Load the data****"
   ]
  },
  {
   "cell_type": "code",
   "execution_count": 2,
   "metadata": {
    "_cell_guid": "dcd8b901-2123-4f5f-ab71-b9706df5f792",
    "_execution_state": "idle",
    "_uuid": "cc8143e47759a830349c82045653235ad9e3f97b"
   },
   "outputs": [
    {
     "name": "stdout",
     "output_type": "stream",
     "text": [
      "Size of the training set is: 50000 rows and 11 columns\n",
      "\n",
      "           id  vendor_id      pickup_datetime     dropoff_datetime  \\\n",
      "0  id2875421          2  2016-03-14 17:24:55  2016-03-14 17:32:30   \n",
      "1  id2377394          1  2016-06-12 00:43:35  2016-06-12 00:54:38   \n",
      "2  id3858529          2  2016-01-19 11:35:24  2016-01-19 12:10:48   \n",
      "3  id3504673          2  2016-04-06 19:32:31  2016-04-06 19:39:40   \n",
      "4  id2181028          2  2016-03-26 13:30:55  2016-03-26 13:38:10   \n",
      "\n",
      "   passenger_count  pickup_longitude  pickup_latitude  dropoff_longitude  \\\n",
      "0                1        -73.982155        40.767937         -73.964630   \n",
      "1                1        -73.980415        40.738564         -73.999481   \n",
      "2                1        -73.979027        40.763939         -74.005333   \n",
      "3                1        -74.010040        40.719971         -74.012268   \n",
      "4                1        -73.973053        40.793209         -73.972923   \n",
      "\n",
      "   dropoff_latitude store_and_fwd_flag  trip_duration  \n",
      "0         40.765602                  N            455  \n",
      "1         40.731152                  N            663  \n",
      "2         40.710087                  N           2124  \n",
      "3         40.706718                  N            429  \n",
      "4         40.782520                  N            435  \n"
     ]
    }
   ],
   "source": [
    "# Load training data as train\n",
    "#trainDF = pd.read_csv('../input/train.csv')\n",
    "#Use the line above instead of the one below if not running on Kaggle i.e. running locally.\n",
    "trainDF = pd.read_csv('../input/new-york-city-taxi-with-osrm/train.csv', nrows=50000)\n",
    "\n",
    "# Load testing data as test\n",
    "testDF = pd.read_csv('../input/new-york-city-taxi-with-osrm/test.csv')\n",
    "\n",
    "# Print size as well as the top 5 observation of training dataset\n",
    "print('Size of the training set is: {} rows and {} columns'.format(*trainDF.shape))\n",
    "print (\"\\n\", trainDF.head(5))"
   ]
  },
  {
   "cell_type": "markdown",
   "metadata": {
    "_cell_guid": "b4f97a85-79ac-4dd2-ad17-853fa59f1aa8",
    "_execution_state": "idle",
    "_uuid": "a5830681606fa6057a6ac5ce8b8ab6fec101aa3e"
   },
   "source": [
    "We have only 11 columns but 1458644 rows which is a reasonable size. We also have two types of ids namely id and vendor_id. Lets try to understand this data.\n",
    "\n",
    "NOTE:\n",
    "This statement reflects if you load the whole training data. In order to be able to run the whole script on Kaggle, I had to load only 50,000 rows of the training data to show the notebook in action."
   ]
  },
  {
   "cell_type": "markdown",
   "metadata": {
    "_cell_guid": "19117eee-b89a-4a91-a71a-40922ecb318c",
    "_execution_state": "idle",
    "_uuid": "78c5c414e2aa9aead7a639ee4793d064a643d7e8"
   },
   "source": [
    "****Understanding Data****"
   ]
  },
  {
   "cell_type": "code",
   "execution_count": 3,
   "metadata": {
    "_cell_guid": "126c91ff-1488-4852-af9f-b915cde786fa",
    "_execution_state": "idle",
    "_uuid": "9099489cd1c546977df6a8ec00eb59faf9e78d48",
    "scrolled": true
   },
   "outputs": [
    {
     "name": "stdout",
     "output_type": "stream",
     "text": [
      "          vendor_id  passenger_count  pickup_longitude  pickup_latitude  \\\n",
      "count  50000.000000     50000.000000      50000.000000     50000.000000   \n",
      "mean       1.529440         1.667260        -73.973477        40.751211   \n",
      "std        0.499138         1.316442          0.037974         0.027994   \n",
      "min        1.000000         1.000000        -74.393555        40.449749   \n",
      "25%        1.000000         1.000000        -73.991760        40.737579   \n",
      "50%        2.000000         1.000000        -73.981644        40.754425   \n",
      "75%        2.000000         2.000000        -73.967079        40.768513   \n",
      "max        2.000000         6.000000        -73.518051        41.091171   \n",
      "\n",
      "       dropoff_longitude  dropoff_latitude  trip_duration  \n",
      "count       50000.000000      50000.000000   50000.000000  \n",
      "mean          -73.973374         40.752025     949.708280  \n",
      "std             0.036672          0.032536    3175.391374  \n",
      "min           -74.398514         40.444698       1.000000  \n",
      "25%           -73.991348         40.736086     395.000000  \n",
      "50%           -73.979698         40.754610     659.000000  \n",
      "75%           -73.962868         40.769985    1071.000000  \n",
      "max           -72.711395         41.311520   86357.000000  \n"
     ]
    }
   ],
   "source": [
    "# Look at the summary of numerical variables for train data set\n",
    "df = trainDF.describe()\n",
    "print (df)"
   ]
  },
  {
   "cell_type": "code",
   "execution_count": 4,
   "metadata": {
    "_cell_guid": "f2e90c7b-0a11-40f1-b1f6-ab7c0708ede1",
    "_execution_state": "idle",
    "_uuid": "25fc29b2ad674f3d46741bb3de18e77cc8905813"
   },
   "outputs": [
    {
     "name": "stdout",
     "output_type": "stream",
     "text": [
      "Train shape :  (50000, 11)\n",
      "Test shape :  (625134, 9)\n"
     ]
    }
   ],
   "source": [
    "# Print the shape of the data\n",
    "print(\"Train shape : \", trainDF.shape)\n",
    "print(\"Test shape : \", testDF.shape)"
   ]
  },
  {
   "cell_type": "markdown",
   "metadata": {
    "_cell_guid": "7b7efd88-9742-4537-882b-9b6c4dc6db51",
    "_execution_state": "idle",
    "_uuid": "3f14dd4ad48140155bc9db2dae667e3984f13bf8"
   },
   "source": [
    "**What are the data types ?**"
   ]
  },
  {
   "cell_type": "code",
   "execution_count": 5,
   "metadata": {
    "_cell_guid": "111ef821-d49a-4a88-9c64-0db1207f3c48",
    "_execution_state": "idle",
    "_uuid": "b853e6e929a3ae90e40118d10be8fb1a7e46cc9e"
   },
   "outputs": [
    {
     "data": {
      "text/html": [
       "<div>\n",
       "<style>\n",
       "    .dataframe thead tr:only-child th {\n",
       "        text-align: right;\n",
       "    }\n",
       "\n",
       "    .dataframe thead th {\n",
       "        text-align: left;\n",
       "    }\n",
       "\n",
       "    .dataframe tbody tr th {\n",
       "        vertical-align: top;\n",
       "    }\n",
       "</style>\n",
       "<table border=\"1\" class=\"dataframe\">\n",
       "  <thead>\n",
       "    <tr style=\"text-align: right;\">\n",
       "      <th></th>\n",
       "      <th>Column Type</th>\n",
       "      <th>Count</th>\n",
       "    </tr>\n",
       "  </thead>\n",
       "  <tbody>\n",
       "    <tr>\n",
       "      <th>0</th>\n",
       "      <td>int64</td>\n",
       "      <td>3</td>\n",
       "    </tr>\n",
       "    <tr>\n",
       "      <th>1</th>\n",
       "      <td>float64</td>\n",
       "      <td>4</td>\n",
       "    </tr>\n",
       "    <tr>\n",
       "      <th>2</th>\n",
       "      <td>object</td>\n",
       "      <td>4</td>\n",
       "    </tr>\n",
       "  </tbody>\n",
       "</table>\n",
       "</div>"
      ],
      "text/plain": [
       "  Column Type  Count\n",
       "0       int64      3\n",
       "1     float64      4\n",
       "2      object      4"
      ]
     },
     "execution_count": 5,
     "metadata": {},
     "output_type": "execute_result"
    }
   ],
   "source": [
    "dtypeDF = trainDF.dtypes.reset_index()\n",
    "dtypeDF.columns = [\"Count\", \"Column Type\"]\n",
    "dtypeDF.groupby(\"Column Type\").aggregate('count').reset_index()"
   ]
  },
  {
   "cell_type": "markdown",
   "metadata": {
    "_cell_guid": "9a6952ab-11de-40a1-b3ee-2a34ba5b01b0",
    "_execution_state": "idle",
    "_uuid": "1b81a39c4261b0b4183c58755f212ceae5081145"
   },
   "source": [
    "There are 3 integers, 4 floats and four categorical variables."
   ]
  },
  {
   "cell_type": "markdown",
   "metadata": {
    "_cell_guid": "27d127dc-f6d9-4f78-9415-f5cacbc8f423",
    "_execution_state": "idle",
    "_uuid": "3f42d244578085349383ed65e49848986eb47f81"
   },
   "source": [
    "****Understanding distribution of target variable i.e trip duration.****"
   ]
  },
  {
   "cell_type": "code",
   "execution_count": 6,
   "metadata": {
    "_cell_guid": "bdbe5553-b1ef-4fc8-a3fd-c9209e358def",
    "_execution_state": "idle",
    "_uuid": "28810e6fb387ee629e4fa2211a90396cb2668ddd"
   },
   "outputs": [
    {
     "data": {
      "image/png": "[encoded data removed]",
      "text/plain": [
       "<matplotlib.figure.Figure at 0x7f996522cf60>"
      ]
     },
     "metadata": {},
     "output_type": "display_data"
    }
   ],
   "source": [
    "# Plot the trip duration\n",
    "plt.figure(figsize=(8,6))\n",
    "plt.scatter(range(trainDF.shape[0]), np.sort(trainDF.trip_duration.values))\n",
    "plt.xlabel('index', fontsize=12)\n",
    "plt.ylabel('trip duration', fontsize=12)\n",
    "plt.show()"
   ]
  },
  {
   "cell_type": "markdown",
   "metadata": {
    "_cell_guid": "7e720e22-60d6-4dc9-a75f-1ab4ac800e84",
    "_execution_state": "idle",
    "_uuid": "cbcb72cd175bd1b7c2b7d8272d542955ba3266ae"
   },
   "source": [
    "We can see a few outliers with one way out there compared to the other 3 outliers. Lets remove those points so that we can zoom in."
   ]
  },
  {
   "cell_type": "code",
   "execution_count": 7,
   "metadata": {
    "_cell_guid": "8a2c8f87-bff5-468c-85e1-c5f7bc065274",
    "_execution_state": "idle",
    "_uuid": "ba00d0d2b723f12f7b02d93b7ec3f7b280b98114"
   },
   "outputs": [
    {
     "data": {
      "image/png": "[encoded data removed]",
      "text/plain": [
       "<matplotlib.figure.Figure at 0x7f9964b54518>"
      ]
     },
     "metadata": {},
     "output_type": "display_data"
    }
   ],
   "source": [
    "# in train dataset some trip duration are very high (I consider them outliers and remove them before replotting it)\n",
    "th = trainDF.trip_duration.quantile(0.99)\n",
    "tempDF = trainDF\n",
    "tempDF = tempDF[tempDF['trip_duration'] < th]\n",
    "plt.figure(figsize=(8,6))\n",
    "plt.scatter(range(tempDF.shape[0]), np.sort(tempDF.trip_duration.values))\n",
    "plt.xlabel('index', fontsize=12)\n",
    "plt.ylabel('trip duration', fontsize=12)\n",
    "plt.show()\n",
    "\n",
    "del tempDF"
   ]
  },
  {
   "cell_type": "code",
   "execution_count": 8,
   "metadata": {
    "_cell_guid": "3e48b250-389c-4d4a-9f68-c23712eb37c1",
    "_execution_state": "idle",
    "_uuid": "406447b01bc8f9879a36815974fdc8d494de7b0a",
    "collapsed": true
   },
   "outputs": [],
   "source": [
    "# Lets remove the outliers from the train data target\n",
    "trainDF = trainDF[trainDF['trip_duration'] < th]"
   ]
  },
  {
   "cell_type": "markdown",
   "metadata": {
    "_cell_guid": "e7a0a6e6-d0d9-4cc8-9f9b-a84a28cc605b",
    "_execution_state": "idle",
    "_uuid": "3bde232817e116ad3e5a2723e65840a8a920bc47"
   },
   "source": [
    "Dealing with missing values"
   ]
  },
  {
   "cell_type": "code",
   "execution_count": 9,
   "metadata": {
    "_cell_guid": "e2e1463b-4fcc-446e-9e52-8cdeb922f891",
    "_execution_state": "idle",
    "_uuid": "8a30f78d5efbb2a3062d3f40474855ade2d5d2ae"
   },
   "outputs": [
    {
     "data": {
      "text/plain": [
       "id                    0\n",
       "vendor_id             0\n",
       "pickup_datetime       0\n",
       "dropoff_datetime      0\n",
       "passenger_count       0\n",
       "pickup_longitude      0\n",
       "pickup_latitude       0\n",
       "dropoff_longitude     0\n",
       "dropoff_latitude      0\n",
       "store_and_fwd_flag    0\n",
       "trip_duration         0\n",
       "dtype: int64"
      ]
     },
     "execution_count": 9,
     "metadata": {},
     "output_type": "execute_result"
    }
   ],
   "source": [
    "# Number of variables with missing values\n",
    "variables_missing_value = trainDF.isnull().sum()\n",
    "variables_missing_value "
   ]
  },
  {
   "cell_type": "markdown",
   "metadata": {
    "_cell_guid": "8b68d25b-05b5-4949-9c23-23110af1ae80",
    "_execution_state": "idle",
    "_uuid": "f9e1b25035a3b98b34a2e5abe6127aa0cb504d20"
   },
   "source": [
    "Nice, there are no missing values in the training data. What about the test data?"
   ]
  },
  {
   "cell_type": "code",
   "execution_count": 10,
   "metadata": {
    "_cell_guid": "b785004b-94b9-4aac-9f50-3a691e1ba8bd",
    "_execution_state": "idle",
    "_uuid": "94cf2e30978d5d279268f7166db39f6b33716108"
   },
   "outputs": [
    {
     "data": {
      "text/plain": [
       "id                    0\n",
       "vendor_id             0\n",
       "pickup_datetime       0\n",
       "passenger_count       0\n",
       "pickup_longitude      0\n",
       "pickup_latitude       0\n",
       "dropoff_longitude     0\n",
       "dropoff_latitude      0\n",
       "store_and_fwd_flag    0\n",
       "dtype: int64"
      ]
     },
     "execution_count": 10,
     "metadata": {},
     "output_type": "execute_result"
    }
   ],
   "source": [
    "variables_missing_value = testDF.isnull().sum()\n",
    "variables_missing_value "
   ]
  },
  {
   "cell_type": "markdown",
   "metadata": {
    "_cell_guid": "e3fd1357-f702-4d72-9517-2d86b4475f9d",
    "_execution_state": "idle",
    "_uuid": "9d7cc45a9f840931de9d4601106905c36bdb8321"
   },
   "source": [
    "There are no missing values in the test data either. So lets get to the modelling bit and brew that tea for NYC.\n",
    "\n",
    "First we have to do a quick data pre-processing and feature selection."
   ]
  },
  {
   "cell_type": "markdown",
   "metadata": {
    "_cell_guid": "73fd5d9c-db98-4a7c-9860-777c052db459",
    "_execution_state": "idle",
    "_uuid": "d287f589fb044e91701ecfbdc76df8825827a800"
   },
   "source": [
    "****Feature Generation****\n",
    "\n",
    "Here we make a very simple data pre-processing and feature selection."
   ]
  },
  {
   "cell_type": "code",
   "execution_count": 11,
   "metadata": {
    "_cell_guid": "db13e472-90de-41b4-8a67-588bca58d737",
    "_uuid": "34db7cb4bc2f7175a634e065edb328f781bac53d"
   },
   "outputs": [
    {
     "name": "stdout",
     "output_type": "stream",
     "text": [
      "Trip_duration and datetimes are ok.\n",
      "Time till clustering: 14 seconds\n"
     ]
    }
   ],
   "source": [
    "from sklearn.decomposition import PCA\n",
    "from sklearn.cluster import MiniBatchKMeans\n",
    "\n",
    "t0 = dt.datetime.now()\n",
    "\n",
    "train = trainDF\n",
    "test = testDF\n",
    "del trainDF, testDF\n",
    "\n",
    "train['pickup_datetime'] = pd.to_datetime(train.pickup_datetime)\n",
    "test['pickup_datetime'] = pd.to_datetime(test.pickup_datetime)\n",
    "train.loc[:, 'pickup_date'] = train['pickup_datetime'].dt.date\n",
    "test.loc[:, 'pickup_date'] = test['pickup_datetime'].dt.date\n",
    "train['dropoff_datetime'] = pd.to_datetime(train.dropoff_datetime)\n",
    "train['store_and_fwd_flag'] = 1 * (train.store_and_fwd_flag.values == 'Y')\n",
    "test['store_and_fwd_flag'] = 1 * (test.store_and_fwd_flag.values == 'Y')\n",
    "train['check_trip_duration'] = (train['dropoff_datetime'] - train['pickup_datetime']).map(lambda x: x.total_seconds())\n",
    "duration_difference = train[np.abs(train['check_trip_duration'].values  - train['trip_duration'].values) > 1]\n",
    "print('Trip_duration and datetimes are ok.') if len(duration_difference[['pickup_datetime', 'dropoff_datetime', 'trip_duration', 'check_trip_duration']]) == 0 else print('Ooops.')\n",
    "\n",
    "train['trip_duration'].describe()\n",
    "\n",
    "train['log_trip_duration'] = np.log(train['trip_duration'].values + 1)\n",
    "\n",
    "# Feature Extraction\n",
    "coords = np.vstack((train[['pickup_latitude', 'pickup_longitude']].values,\n",
    "                    train[['dropoff_latitude', 'dropoff_longitude']].values,\n",
    "                    test[['pickup_latitude', 'pickup_longitude']].values,\n",
    "                    test[['dropoff_latitude', 'dropoff_longitude']].values))\n",
    "\n",
    "pca = PCA().fit(coords)\n",
    "train['pickup_pca0'] = pca.transform(train[['pickup_latitude', 'pickup_longitude']])[:, 0]\n",
    "train['pickup_pca1'] = pca.transform(train[['pickup_latitude', 'pickup_longitude']])[:, 1]\n",
    "train['dropoff_pca0'] = pca.transform(train[['dropoff_latitude', 'dropoff_longitude']])[:, 0]\n",
    "train['dropoff_pca1'] = pca.transform(train[['dropoff_latitude', 'dropoff_longitude']])[:, 1]\n",
    "test['pickup_pca0'] = pca.transform(test[['pickup_latitude', 'pickup_longitude']])[:, 0]\n",
    "test['pickup_pca1'] = pca.transform(test[['pickup_latitude', 'pickup_longitude']])[:, 1]\n",
    "test['dropoff_pca0'] = pca.transform(test[['dropoff_latitude', 'dropoff_longitude']])[:, 0]\n",
    "test['dropoff_pca1'] = pca.transform(test[['dropoff_latitude', 'dropoff_longitude']])[:, 1]\n",
    "\n",
    "# Distance\n",
    "def haversine_array(lat1, lng1, lat2, lng2):\n",
    "    lat1, lng1, lat2, lng2 = map(np.radians, (lat1, lng1, lat2, lng2))\n",
    "    AVG_EARTH_RADIUS = 6371  # in km\n",
    "    lat = lat2 - lat1\n",
    "    lng = lng2 - lng1\n",
    "    d = np.sin(lat * 0.5) ** 2 + np.cos(lat1) * np.cos(lat2) * np.sin(lng * 0.5) ** 2\n",
    "    h = 2 * AVG_EARTH_RADIUS * np.arcsin(np.sqrt(d))\n",
    "    return h\n",
    "\n",
    "def dummy_manhattan_distance(lat1, lng1, lat2, lng2):\n",
    "    a = haversine_array(lat1, lng1, lat1, lng2)\n",
    "    b = haversine_array(lat1, lng1, lat2, lng1)\n",
    "    return a + b\n",
    "\n",
    "def bearing_array(lat1, lng1, lat2, lng2):\n",
    "    AVG_EARTH_RADIUS = 6371  # in km\n",
    "    lng_delta_rad = np.radians(lng2 - lng1)\n",
    "    lat1, lng1, lat2, lng2 = map(np.radians, (lat1, lng1, lat2, lng2))\n",
    "    y = np.sin(lng_delta_rad) * np.cos(lat2)\n",
    "    x = np.cos(lat1) * np.sin(lat2) - np.sin(lat1) * np.cos(lat2) * np.cos(lng_delta_rad)\n",
    "    return np.degrees(np.arctan2(y, x))\n",
    "\n",
    "train.loc[:, 'distance_haversine'] = haversine_array(train['pickup_latitude'].values, train['pickup_longitude'].values, train['dropoff_latitude'].values, train['dropoff_longitude'].values)\n",
    "train.loc[:, 'distance_dummy_manhattan'] = dummy_manhattan_distance(train['pickup_latitude'].values, train['pickup_longitude'].values, train['dropoff_latitude'].values, train['dropoff_longitude'].values)\n",
    "train.loc[:, 'direction'] = bearing_array(train['pickup_latitude'].values, train['pickup_longitude'].values, train['dropoff_latitude'].values, train['dropoff_longitude'].values)\n",
    "train.loc[:, 'pca_manhattan'] = np.abs(train['dropoff_pca1'] - train['pickup_pca1']) + np.abs(train['dropoff_pca0'] - train['pickup_pca0'])\n",
    "\n",
    "test.loc[:, 'distance_haversine'] = haversine_array(test['pickup_latitude'].values, test['pickup_longitude'].values, test['dropoff_latitude'].values, test['dropoff_longitude'].values)\n",
    "test.loc[:, 'distance_dummy_manhattan'] = dummy_manhattan_distance(test['pickup_latitude'].values, test['pickup_longitude'].values, test['dropoff_latitude'].values, test['dropoff_longitude'].values)\n",
    "test.loc[:, 'direction'] = bearing_array(test['pickup_latitude'].values, test['pickup_longitude'].values, test['dropoff_latitude'].values, test['dropoff_longitude'].values)\n",
    "test.loc[:, 'pca_manhattan'] = np.abs(test['dropoff_pca1'] - test['pickup_pca1']) + np.abs(test['dropoff_pca0'] - test['pickup_pca0'])\n",
    "\n",
    "train.loc[:, 'center_latitude'] = (train['pickup_latitude'].values + train['dropoff_latitude'].values) / 2\n",
    "train.loc[:, 'center_longitude'] = (train['pickup_longitude'].values + train['dropoff_longitude'].values) / 2\n",
    "test.loc[:, 'center_latitude'] = (test['pickup_latitude'].values + test['dropoff_latitude'].values) / 2\n",
    "test.loc[:, 'center_longitude'] = (test['pickup_longitude'].values + test['dropoff_longitude'].values) / 2\n",
    "\n",
    "# Datetime features\n",
    "train.loc[:, 'pickup_weekday'] = train['pickup_datetime'].dt.weekday\n",
    "train.loc[:, 'pickup_hour_weekofyear'] = train['pickup_datetime'].dt.weekofyear\n",
    "train.loc[:, 'pickup_hour'] = train['pickup_datetime'].dt.hour\n",
    "train.loc[:, 'pickup_minute'] = train['pickup_datetime'].dt.minute\n",
    "train.loc[:, 'pickup_dt'] = (train['pickup_datetime'] - train['pickup_datetime'].min()).dt.total_seconds()\n",
    "train.loc[:, 'pickup_week_hour'] = train['pickup_weekday'] * 24 + train['pickup_hour']\n",
    "\n",
    "test.loc[:, 'pickup_weekday'] = test['pickup_datetime'].dt.weekday\n",
    "test.loc[:, 'pickup_hour_weekofyear'] = test['pickup_datetime'].dt.weekofyear\n",
    "test.loc[:, 'pickup_hour'] = test['pickup_datetime'].dt.hour\n",
    "test.loc[:, 'pickup_minute'] = test['pickup_datetime'].dt.minute\n",
    "test.loc[:, 'pickup_dt'] = (test['pickup_datetime'] - train['pickup_datetime'].min()).dt.total_seconds()\n",
    "test.loc[:, 'pickup_week_hour'] = test['pickup_weekday'] * 24 + test['pickup_hour']\n",
    "\n",
    "train.loc[:,'week_delta'] = train['pickup_datetime'].dt.weekday + \\\n",
    "    ((train['pickup_datetime'].dt.hour + (train['pickup_datetime'].dt.minute / 60.0)) / 24.0)\n",
    "test.loc[:,'week_delta'] = test['pickup_datetime'].dt.weekday + \\\n",
    "    ((test['pickup_datetime'].dt.hour + (test['pickup_datetime'].dt.minute / 60.0)) / 24.0)\n",
    "\n",
    "# Make time features cyclic\n",
    "train.loc[:,'week_delta_sin'] = np.sin((train['week_delta'] / 7) * np.pi)**2\n",
    "train.loc[:,'hour_sin'] = np.sin((train['pickup_hour'] / 24) * np.pi)**2\n",
    "\n",
    "test.loc[:,'week_delta_sin'] = np.sin((test['week_delta'] / 7) * np.pi)**2\n",
    "test.loc[:,'hour_sin'] = np.sin((test['pickup_hour'] / 24) * np.pi)**2\n",
    "\n",
    "# Speed\n",
    "train.loc[:, 'avg_speed_h'] = 1000 * train['distance_haversine'] / train['trip_duration']\n",
    "train.loc[:, 'avg_speed_m'] = 1000 * train['distance_dummy_manhattan'] / train['trip_duration']\n",
    "\n",
    "train.loc[:, 'pickup_lat_bin'] = np.round(train['pickup_latitude'], 3)\n",
    "train.loc[:, 'pickup_long_bin'] = np.round(train['pickup_longitude'], 3)\n",
    "# Average speed for regions\n",
    "gby_cols = ['pickup_lat_bin', 'pickup_long_bin']\n",
    "coord_speed = train.groupby(gby_cols).mean()[['avg_speed_h']].reset_index()\n",
    "coord_count = train.groupby(gby_cols).count()[['id']].reset_index()\n",
    "coord_stats = pd.merge(coord_speed, coord_count, on=gby_cols)\n",
    "coord_stats = coord_stats[coord_stats['id'] > 100]\n",
    "\n",
    "train.loc[:, 'pickup_lat_bin'] = np.round(train['pickup_latitude'], 2)\n",
    "train.loc[:, 'pickup_long_bin'] = np.round(train['pickup_longitude'], 2)\n",
    "train.loc[:, 'center_lat_bin'] = np.round(train['center_latitude'], 2)\n",
    "train.loc[:, 'center_long_bin'] = np.round(train['center_longitude'], 2)\n",
    "train.loc[:, 'pickup_dt_bin'] = (train['pickup_dt'] // (3 * 3600))\n",
    "test.loc[:, 'pickup_lat_bin'] = np.round(test['pickup_latitude'], 2)\n",
    "test.loc[:, 'pickup_long_bin'] = np.round(test['pickup_longitude'], 2)\n",
    "test.loc[:, 'center_lat_bin'] = np.round(test['center_latitude'], 2)\n",
    "test.loc[:, 'center_long_bin'] = np.round(test['center_longitude'], 2)\n",
    "test.loc[:, 'pickup_dt_bin'] = (test['pickup_dt'] // (3 * 3600))\n",
    "\n",
    "# Clustering\n",
    "sample_ind = np.random.permutation(len(coords))[:500000]\n",
    "kmeans = MiniBatchKMeans(n_clusters=100, batch_size=10000).fit(coords[sample_ind])\n",
    "\n",
    "train.loc[:, 'pickup_cluster'] = kmeans.predict(train[['pickup_latitude', 'pickup_longitude']])\n",
    "train.loc[:, 'dropoff_cluster'] = kmeans.predict(train[['dropoff_latitude', 'dropoff_longitude']])\n",
    "test.loc[:, 'pickup_cluster'] = kmeans.predict(test[['pickup_latitude', 'pickup_longitude']])\n",
    "test.loc[:, 'dropoff_cluster'] = kmeans.predict(test[['dropoff_latitude', 'dropoff_longitude']])\n",
    "t1 = dt.datetime.now()\n",
    "print('Time till clustering: %i seconds' % (t1 - t0).seconds)\n",
    "\n",
    "# Temporal and geospatial aggregation\n",
    "for gby_col in ['pickup_hour', 'pickup_date', 'pickup_dt_bin',\n",
    "               'pickup_week_hour', 'pickup_cluster', 'dropoff_cluster']:\n",
    "    gby = train.groupby(gby_col).mean()[['avg_speed_h', 'avg_speed_m', 'log_trip_duration']]\n",
    "    gby.columns = ['%s_gby_%s' % (col, gby_col) for col in gby.columns]\n",
    "    train = pd.merge(train, gby, how='left', left_on=gby_col, right_index=True)\n",
    "    test = pd.merge(test, gby, how='left', left_on=gby_col, right_index=True)\n",
    "\n",
    "for gby_cols in [['center_lat_bin', 'center_long_bin'],\n",
    "                 ['pickup_hour', 'center_lat_bin', 'center_long_bin'],\n",
    "                 ['pickup_hour', 'pickup_cluster'],  ['pickup_hour', 'dropoff_cluster'],\n",
    "                 ['pickup_cluster', 'dropoff_cluster']]:\n",
    "    coord_speed = train.groupby(gby_cols).mean()[['avg_speed_h']].reset_index()\n",
    "    coord_count = train.groupby(gby_cols).count()[['id']].reset_index()\n",
    "    coord_stats = pd.merge(coord_speed, coord_count, on=gby_cols)\n",
    "    coord_stats = coord_stats[coord_stats['id'] > 100]\n",
    "    coord_stats.columns = gby_cols + ['avg_speed_h_%s' % '_'.join(gby_cols), 'cnt_%s' %  '_'.join(gby_cols)]\n",
    "    train = pd.merge(train, coord_stats, how='left', on=gby_cols)\n",
    "    test = pd.merge(test, coord_stats, how='left', on=gby_cols)\n",
    "\n",
    "group_freq = '60min'\n",
    "df_all = pd.concat((train, test))[['id', 'pickup_datetime', 'pickup_cluster', 'dropoff_cluster']]\n",
    "train.loc[:, 'pickup_datetime_group'] = train['pickup_datetime'].dt.round(group_freq)\n",
    "test.loc[:, 'pickup_datetime_group'] = test['pickup_datetime'].dt.round(group_freq)\n",
    "\n",
    "# Count trips over 60min\n",
    "df_counts = df_all.set_index('pickup_datetime')[['id']].sort_index()\n",
    "df_counts['count_60min'] = df_counts.isnull().rolling(group_freq).count()['id']\n",
    "train = train.merge(df_counts, on='id', how='left')\n",
    "test = test.merge(df_counts, on='id', how='left')\n",
    "\n",
    "# Count how many trips are going to each cluster over time\n",
    "dropoff_counts = df_all \\\n",
    "    .set_index('pickup_datetime') \\\n",
    "    .groupby([pd.TimeGrouper(group_freq), 'dropoff_cluster']) \\\n",
    "    .agg({'id': 'count'}) \\\n",
    "    .reset_index().set_index('pickup_datetime') \\\n",
    "    .groupby('dropoff_cluster').rolling('240min').mean() \\\n",
    "    .drop('dropoff_cluster', axis=1) \\\n",
    "    .reset_index().set_index('pickup_datetime').shift(freq='-120min').reset_index() \\\n",
    "    .rename(columns={'pickup_datetime': 'pickup_datetime_group', 'id': 'dropoff_cluster_count'})\n",
    "\n",
    "train['dropoff_cluster_count'] = train[['pickup_datetime_group', 'dropoff_cluster']].merge(dropoff_counts, on=['pickup_datetime_group', 'dropoff_cluster'], how='left')['dropoff_cluster_count'].fillna(0)\n",
    "test['dropoff_cluster_count'] = test[['pickup_datetime_group', 'dropoff_cluster']].merge(dropoff_counts, on=['pickup_datetime_group', 'dropoff_cluster'], how='left')['dropoff_cluster_count'].fillna(0)\n",
    "\n",
    "# Count how many trips are going from each cluster over time\n",
    "df_all = pd.concat((train, test))[['id', 'pickup_datetime', 'pickup_cluster', 'dropoff_cluster']]\n",
    "pickup_counts = df_all \\\n",
    "    .set_index('pickup_datetime') \\\n",
    "    .groupby([pd.TimeGrouper(group_freq), 'pickup_cluster']) \\\n",
    "    .agg({'id': 'count'}) \\\n",
    "    .reset_index().set_index('pickup_datetime') \\\n",
    "    .groupby('pickup_cluster').rolling('240min').mean() \\\n",
    "    .drop('pickup_cluster', axis=1) \\\n",
    "    .reset_index().set_index('pickup_datetime').shift(freq='-120min').reset_index() \\\n",
    "    .rename(columns={'pickup_datetime': 'pickup_datetime_group', 'id': 'pickup_cluster_count'})\n",
    "\n",
    "train['pickup_cluster_count'] = train[['pickup_datetime_group', 'pickup_cluster']].merge(pickup_counts, on=['pickup_datetime_group', 'pickup_cluster'], how='left')['pickup_cluster_count'].fillna(0)\n",
    "test['pickup_cluster_count'] = test[['pickup_datetime_group', 'pickup_cluster']].merge(pickup_counts, on=['pickup_datetime_group', 'pickup_cluster'], how='left')['pickup_cluster_count'].fillna(0)\n",
    "\n",
    "# For this particular problem we can add OSRM ([Open Source Routing Machine](http://project-osrm.org/ \n",
    "# \"OSRM\")) features. This data contains the fastest routes from specific starting points in NY.\n",
    "fr1 = pd.read_csv('../input/new-york-city-taxi-with-osrm/fastest_routes_train_part_1.csv', usecols=['id', 'total_distance', 'total_travel_time',  'number_of_steps'])\n",
    "fr2 = pd.read_csv('../input/new-york-city-taxi-with-osrm//fastest_routes_train_part_2.csv', usecols=['id', 'total_distance', 'total_travel_time', 'number_of_steps'])\n",
    "test_street_info = pd.read_csv('../input/new-york-city-taxi-with-osrm/fastest_routes_test.csv',\n",
    "                               usecols=['id', 'total_distance', 'total_travel_time', 'number_of_steps'])\n",
    "train_street_info = pd.concat((fr1, fr2))\n",
    "train = train.merge(train_street_info, how='left', on='id')\n",
    "test = test.merge(test_street_info, how='left', on='id')\n",
    "\n",
    "\n"
   ]
  },
  {
   "cell_type": "code",
   "execution_count": 12,
   "metadata": {
    "_cell_guid": "e577d3a7-2813-49b1-bd16-25f7c496f8e8",
    "_uuid": "989ec5b4871eadac9f097bf8d470358c9b902b8a"
   },
   "outputs": [
    {
     "name": "stdout",
     "output_type": "stream",
     "text": [
      "['avg_speed_h' 'avg_speed_m' 'check_trip_duration' 'dropoff_datetime'\n",
      " 'log_trip_duration' 'trip_duration']\n",
      "We have 62 features.\n",
      "Feature extraction time: 30 seconds\n"
     ]
    }
   ],
   "source": [
    "feature_names = list(train.columns)\n",
    "print(np.setdiff1d(train.columns, test.columns))\n",
    "do_not_use_for_training = ['id', 'log_trip_duration', 'pickup_datetime', 'dropoff_datetime', 'trip_duration', 'check_trip_duration',\n",
    "                           'pickup_date', 'avg_speed_h', 'avg_speed_m', 'pickup_lat_bin', 'pickup_long_bin',\n",
    "                           'center_lat_bin', 'center_long_bin', 'pickup_dt_bin', 'pickup_datetime_group']\n",
    "feature_names = [f for f in train.columns if f not in do_not_use_for_training]\n",
    "# print(feature_names)\n",
    "print('We have %i features.' % len(feature_names))\n",
    "train[feature_names].count()\n",
    "#ytrain = np.log(train['trip_duration'].values + 1)\n",
    "#ytrain = train[train['trip_duration'].notnull()]['trip_duration_log'].values\n",
    "\n",
    "\n",
    "t1 = dt.datetime.now()\n",
    "print('Feature extraction time: %i seconds' % (t1 - t0).seconds)"
   ]
  },
  {
   "cell_type": "markdown",
   "metadata": {
    "_cell_guid": "aecd2d05-b748-42f2-9383-f1b602f027ce",
    "_uuid": "8f03a44ff9f5a35ccc6b7d4886ad56017101fde2"
   },
   "source": [
    "****Feature check before modeling****"
   ]
  },
  {
   "cell_type": "code",
   "execution_count": 13,
   "metadata": {
    "_cell_guid": "acd51790-de3c-496f-94ed-1c2e09227f5a",
    "_uuid": "579ca306990e7173c892d40b18a2f32265954905"
   },
   "outputs": [
    {
     "name": "stderr",
     "output_type": "stream",
     "text": [
      "/opt/conda/lib/python3.6/site-packages/ipykernel_launcher.py:2: RuntimeWarning: Mean of empty slice\n",
      "  \n",
      "/opt/conda/lib/python3.6/site-packages/ipykernel_launcher.py:3: RuntimeWarning: Mean of empty slice\n",
      "  This is separate from the ipykernel package so we can avoid doing imports until\n",
      "/opt/conda/lib/python3.6/site-packages/numpy/lib/nanfunctions.py:1427: RuntimeWarning: Degrees of freedom <= 0 for slice.\n",
      "  keepdims=keepdims)\n"
     ]
    },
    {
     "data": {
      "text/html": [
       "<div>\n",
       "<style>\n",
       "    .dataframe thead tr:only-child th {\n",
       "        text-align: right;\n",
       "    }\n",
       "\n",
       "    .dataframe thead th {\n",
       "        text-align: left;\n",
       "    }\n",
       "\n",
       "    .dataframe tbody tr th {\n",
       "        vertical-align: top;\n",
       "    }\n",
       "</style>\n",
       "<table border=\"1\" class=\"dataframe\">\n",
       "  <thead>\n",
       "    <tr style=\"text-align: right;\">\n",
       "      <th></th>\n",
       "      <th>feature</th>\n",
       "      <th>train_test_mean_diff</th>\n",
       "    </tr>\n",
       "  </thead>\n",
       "  <tbody>\n",
       "    <tr>\n",
       "      <th>14</th>\n",
       "      <td>pca_manhattan</td>\n",
       "      <td>0.033898</td>\n",
       "    </tr>\n",
       "    <tr>\n",
       "      <th>51</th>\n",
       "      <td>cnt_pickup_hour_pickup_cluster</td>\n",
       "      <td>0.035090</td>\n",
       "    </tr>\n",
       "    <tr>\n",
       "      <th>53</th>\n",
       "      <td>cnt_pickup_hour_dropoff_cluster</td>\n",
       "      <td>0.038095</td>\n",
       "    </tr>\n",
       "    <tr>\n",
       "      <th>54</th>\n",
       "      <td>avg_speed_h_pickup_cluster_dropoff_cluster</td>\n",
       "      <td>NaN</td>\n",
       "    </tr>\n",
       "    <tr>\n",
       "      <th>55</th>\n",
       "      <td>cnt_pickup_cluster_dropoff_cluster</td>\n",
       "      <td>NaN</td>\n",
       "    </tr>\n",
       "  </tbody>\n",
       "</table>\n",
       "</div>"
      ],
      "text/plain": [
       "                                       feature  train_test_mean_diff\n",
       "14                               pca_manhattan              0.033898\n",
       "51              cnt_pickup_hour_pickup_cluster              0.035090\n",
       "53             cnt_pickup_hour_dropoff_cluster              0.038095\n",
       "54  avg_speed_h_pickup_cluster_dropoff_cluster                   NaN\n",
       "55          cnt_pickup_cluster_dropoff_cluster                   NaN"
      ]
     },
     "execution_count": 13,
     "metadata": {},
     "output_type": "execute_result"
    }
   ],
   "source": [
    "feature_stats = pd.DataFrame({'feature': feature_names})\n",
    "feature_stats.loc[:, 'train_mean'] = np.nanmean(train[feature_names].values, axis=0).round(4)\n",
    "feature_stats.loc[:, 'test_mean'] = np.nanmean(test[feature_names].values, axis=0).round(4)\n",
    "feature_stats.loc[:, 'train_std'] = np.nanstd(train[feature_names].values, axis=0).round(4)\n",
    "feature_stats.loc[:, 'test_std'] = np.nanstd(test[feature_names].values, axis=0).round(4)\n",
    "feature_stats.loc[:, 'train_nan'] = np.mean(np.isnan(train[feature_names].values), axis=0).round(3)\n",
    "feature_stats.loc[:, 'test_nan'] = np.mean(np.isnan(test[feature_names].values), axis=0).round(3)\n",
    "feature_stats.loc[:, 'train_test_mean_diff'] = np.abs(feature_stats['train_mean'] - feature_stats['test_mean']) / np.abs(feature_stats['train_std'] + feature_stats['test_std'])  * 2\n",
    "feature_stats.loc[:, 'train_test_nan_diff'] = np.abs(feature_stats['train_nan'] - feature_stats['test_nan'])\n",
    "feature_stats = feature_stats.sort_values(by='train_test_mean_diff')\n",
    "feature_stats[['feature', 'train_test_mean_diff']].tail()"
   ]
  },
  {
   "cell_type": "markdown",
   "metadata": {
    "_cell_guid": "88e7cecd-c924-49ce-9148-1c60caf7b158",
    "_execution_state": "idle",
    "_uuid": "284a903e1c8fdd77376dcb0ad40c80dda206375f"
   },
   "source": [
    "****Train a simple classifier****\n",
    "\n",
    "We use the TPOT package to handle the cross validation and hyperparameters for us"
   ]
  },
  {
   "cell_type": "code",
   "execution_count": 14,
   "metadata": {
    "_cell_guid": "fb6ae6a0-249a-42e3-9bd6-282505f9bf41",
    "_execution_state": "idle",
    "_uuid": "a78cf0849fb37f4f853863b9e2f9d44fdaf1f0e1",
    "collapsed": true
   },
   "outputs": [],
   "source": [
    "from tpot import TPOTRegressor\n",
    "auto_classifier = TPOTRegressor(generations=3, population_size=9, verbosity=2)\n",
    "from sklearn.model_selection import train_test_split"
   ]
  },
  {
   "cell_type": "markdown",
   "metadata": {
    "_cell_guid": "aa28099d-91cb-4f33-b802-193b83f94a8b",
    "_execution_state": "idle",
    "_uuid": "3aca2423d4e71da6603a3d9caa581df0abbae451"
   },
   "source": [
    "**Split the training data to train and validate**"
   ]
  },
  {
   "cell_type": "code",
   "execution_count": 15,
   "metadata": {
    "_cell_guid": "b7603ffe-f702-456a-821f-4f1d11f19533",
    "_execution_state": "idle",
    "_uuid": "4aa44f013328df33350cebc54c27169ef0e372a7"
   },
   "outputs": [
    {
     "name": "stdout",
     "output_type": "stream",
     "text": [
      "KFold(n_splits=10, random_state=None, shuffle=False)\n",
      "TRAIN: [ 4950  4951  4952 ..., 49497 49498 49499] TEST: [   0    1    2 ..., 4947 4948 4949]\n",
      "TRAIN: [    0     1     2 ..., 49497 49498 49499] TEST: [4950 4951 4952 ..., 9897 9898 9899]\n",
      "TRAIN: [    0     1     2 ..., 49497 49498 49499] TEST: [ 9900  9901  9902 ..., 14847 14848 14849]\n",
      "TRAIN: [    0     1     2 ..., 49497 49498 49499] TEST: [14850 14851 14852 ..., 19797 19798 19799]\n",
      "TRAIN: [    0     1     2 ..., 49497 49498 49499] TEST: [19800 19801 19802 ..., 24747 24748 24749]\n",
      "TRAIN: [    0     1     2 ..., 49497 49498 49499] TEST: [24750 24751 24752 ..., 29697 29698 29699]\n",
      "TRAIN: [    0     1     2 ..., 49497 49498 49499] TEST: [29700 29701 29702 ..., 34647 34648 34649]\n",
      "TRAIN: [    0     1     2 ..., 49497 49498 49499] TEST: [34650 34651 34652 ..., 39597 39598 39599]\n",
      "TRAIN: [    0     1     2 ..., 49497 49498 49499] TEST: [39600 39601 39602 ..., 44547 44548 44549]\n",
      "TRAIN: [    0     1     2 ..., 44547 44548 44549] TEST: [44550 44551 44552 ..., 49497 49498 49499]\n"
     ]
    }
   ],
   "source": [
    "# K Fold Cross Validation\n",
    "from sklearn.model_selection import KFold\n",
    "\n",
    "X = train[feature_names].values\n",
    "y = np.log(train['trip_duration'].values + 1)  \n",
    "\n",
    "\n",
    "kf = KFold(n_splits=10)\n",
    "kf.get_n_splits(X)\n",
    "\n",
    "print(kf)  \n",
    "\n",
    "KFold(n_splits=10, random_state=None, shuffle=False)\n",
    "for train_index, test_index in kf.split(X):\n",
    "    print(\"TRAIN:\", train_index, \"TEST:\", test_index)\n",
    "    X_train, X_valid = X[train_index], X[test_index]\n",
    "    y_train, y_valid = y[train_index], y[test_index]"
   ]
  },
  {
   "cell_type": "code",
   "execution_count": 16,
   "metadata": {
    "_cell_guid": "3daca28b-7ac0-4f0b-a235-f1929698c9a4",
    "_execution_state": "idle",
    "_uuid": "7512c52267292580a375a03f5bd973318c77c6cc"
   },
   "outputs": [
    {
     "name": "stdout",
     "output_type": "stream",
     "text": [
      "Imputing missing values in feature set\n"
     ]
    },
    {
     "name": "stderr",
     "output_type": "stream",
     "text": [
      "Optimization Progress:  50%|█████     | 18/36 [19:03<47:54, 159.71s/pipeline]"
     ]
    },
    {
     "name": "stdout",
     "output_type": "stream",
     "text": [
      "Generation 1 - Current best internal CV score: 0.1315671704013722\n"
     ]
    },
    {
     "name": "stderr",
     "output_type": "stream",
     "text": [
      "Optimization Progress:  75%|███████▌  | 27/36 [21:46<09:58, 66.49s/pipeline]"
     ]
    },
    {
     "name": "stdout",
     "output_type": "stream",
     "text": [
      "Generation 2 - Current best internal CV score: 0.1315671704013722\n"
     ]
    },
    {
     "name": "stderr",
     "output_type": "stream",
     "text": [
      "                                                                            \r"
     ]
    },
    {
     "name": "stdout",
     "output_type": "stream",
     "text": [
      "Generation 3 - Current best internal CV score: 0.1315671704013722\n",
      "\n",
      "Best pipeline: XGBRegressor(input_matrix, XGBRegressor__learning_rate=0.1, XGBRegressor__max_depth=DEFAULT, XGBRegressor__min_child_weight=13, XGBRegressor__n_estimators=DEFAULT, XGBRegressor__nthread=1, XGBRegressor__subsample=0.85)\n"
     ]
    },
    {
     "data": {
      "text/plain": [
       "TPOTRegressor(config_dict={'sklearn.linear_model.ElasticNetCV': {'l1_ratio': array([ 0.  ,  0.05,  0.1 ,  0.15,  0.2 ,  0.25,  0.3 ,  0.35,  0.4 ,\n",
       "        0.45,  0.5 ,  0.55,  0.6 ,  0.65,  0.7 ,  0.75,  0.8 ,  0.85,\n",
       "        0.9 ,  0.95,  1.  ]), 'tol': [1e-05, 0.0001, 0.001, 0.01, 0.1]}, 'sklearn.ensemble.ExtraT....45,\n",
       "        0.5 ,  0.55,  0.6 ,  0.65,  0.7 ,  0.75,  0.8 ,  0.85,  0.9 ,\n",
       "        0.95,  1.  ])}}}},\n",
       "       crossover_rate=0.1, cv=5, disable_update_check=False, generations=3,\n",
       "       max_eval_time_mins=5, max_time_mins=None, mutation_rate=0.9,\n",
       "       n_jobs=1, offspring_size=9, population_size=9, random_state=None,\n",
       "       scoring=None, subsample=1.0, verbosity=2, warm_start=False)"
      ]
     },
     "execution_count": 16,
     "metadata": {},
     "output_type": "execute_result"
    }
   ],
   "source": [
    "auto_classifier.fit(X_train, y_train)"
   ]
  },
  {
   "cell_type": "code",
   "execution_count": 17,
   "metadata": {
    "_cell_guid": "a760e6e4-ba80-4420-b046-3620c63d7680",
    "_execution_state": "idle",
    "_uuid": "d110174069ff841b8d69602022051c0c4ba09149",
    "collapsed": true
   },
   "outputs": [],
   "source": [
    "#print(\"The cross-validation MSE\")\n",
    "#print(auto_classifier.score(X_valid, y_valid))"
   ]
  },
  {
   "cell_type": "code",
   "execution_count": 18,
   "metadata": {
    "_cell_guid": "205919a7-80bb-477f-93c8-95f4f75ed399",
    "_execution_state": "idle",
    "_uuid": "eb674e18fcd03006bbe7bb7f70cba688e6ca349c"
   },
   "outputs": [
    {
     "name": "stdout",
     "output_type": "stream",
     "text": [
      "Imputing missing values in feature set\n"
     ]
    },
    {
     "data": {
      "text/html": [
       "<div>\n",
       "<style>\n",
       "    .dataframe thead tr:only-child th {\n",
       "        text-align: right;\n",
       "    }\n",
       "\n",
       "    .dataframe thead th {\n",
       "        text-align: left;\n",
       "    }\n",
       "\n",
       "    .dataframe tbody tr th {\n",
       "        vertical-align: top;\n",
       "    }\n",
       "</style>\n",
       "<table border=\"1\" class=\"dataframe\">\n",
       "  <thead>\n",
       "    <tr style=\"text-align: right;\">\n",
       "      <th></th>\n",
       "      <th>id</th>\n",
       "      <th>trip_duration</th>\n",
       "    </tr>\n",
       "  </thead>\n",
       "  <tbody>\n",
       "    <tr>\n",
       "      <th>0</th>\n",
       "      <td>id3004672</td>\n",
       "      <td>828.818909</td>\n",
       "    </tr>\n",
       "    <tr>\n",
       "      <th>1</th>\n",
       "      <td>id3505355</td>\n",
       "      <td>532.319641</td>\n",
       "    </tr>\n",
       "    <tr>\n",
       "      <th>2</th>\n",
       "      <td>id1217141</td>\n",
       "      <td>385.577026</td>\n",
       "    </tr>\n",
       "    <tr>\n",
       "      <th>3</th>\n",
       "      <td>id2150126</td>\n",
       "      <td>963.463806</td>\n",
       "    </tr>\n",
       "    <tr>\n",
       "      <th>4</th>\n",
       "      <td>id1598245</td>\n",
       "      <td>305.551208</td>\n",
       "    </tr>\n",
       "  </tbody>\n",
       "</table>\n",
       "</div>"
      ],
      "text/plain": [
       "          id  trip_duration\n",
       "0  id3004672     828.818909\n",
       "1  id3505355     532.319641\n",
       "2  id1217141     385.577026\n",
       "3  id2150126     963.463806\n",
       "4  id1598245     305.551208"
      ]
     },
     "execution_count": 18,
     "metadata": {},
     "output_type": "execute_result"
    }
   ],
   "source": [
    "# Now do the prediction\n",
    "test_result = auto_classifier.predict(test[feature_names].values)\n",
    "sub = pd.DataFrame()\n",
    "sub['id'] = test['id']\n",
    "sub['trip_duration'] = np.exp(test_result)\n",
    "sub.to_csv('NYCTaxi_TpotModels.csv', index=False)\n",
    "sub.head()"
   ]
  },
  {
   "cell_type": "code",
   "execution_count": 19,
   "metadata": {
    "_cell_guid": "573a2b82-cced-4424-9f10-7a8e2276cedf",
    "_execution_state": "idle",
    "_uuid": "30c05fa69862c8167d67220d5eaacc401d982db3",
    "collapsed": true
   },
   "outputs": [],
   "source": [
    "# Export the model\n",
    "auto_classifier.export('NYCTaxi_pipeline.py')"
   ]
  },
  {
   "cell_type": "markdown",
   "metadata": {
    "_cell_guid": "ff96a60b-c2ef-4731-a9eb-da327e63e697",
    "_execution_state": "idle",
    "_uuid": "433f20ca962f987564cf825e31a3bfead0967fea"
   },
   "source": [
    "That is it for now. You can run locally with more number of generations, population, etc. to get a better result. Because of Kaggle time limitations I could not choose parameters that take longer to run.\n",
    "\n",
    "I hope you like it. If so please up-vote. \n",
    "\n",
    "**Stay tuned !!!**"
   ]
  }
 ],
 "metadata": {
  "kernelspec": {
   "display_name": "Python 3",
   "language": "python",
   "name": "python3"
  },
  "language_info": {
   "codemirror_mode": {
    "name": "ipython",
    "version": 3
   },
   "file_extension": ".py",
   "mimetype": "text/x-python",
   "name": "python",
   "nbconvert_exporter": "python",
   "pygments_lexer": "ipython3",
   "version": "3.6.1"
  }
 },
 "nbformat": 4,
 "nbformat_minor": 1
}
