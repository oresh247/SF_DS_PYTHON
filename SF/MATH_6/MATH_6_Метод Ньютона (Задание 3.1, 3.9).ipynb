{
 "cells": [
  {
   "cell_type": "markdown",
   "metadata": {},
   "source": [
    "## Задание 3.1"
   ]
  },
  {
   "cell_type": "code",
   "execution_count": 1,
   "metadata": {},
   "outputs": [
    {
     "name": "stdout",
     "output_type": "stream",
     "text": [
      "0.6296335078534031\n",
      "0.6286680781673306\n",
      "0.6286669787778999\n",
      "0.6286669787764609\n",
      "4\n"
     ]
    }
   ],
   "source": [
    "def func1(x):\n",
    "    return 6*x**5-5*x**4-4*x**3+3*x**2\n",
    " \n",
    "def func2(x):\n",
    "    return 30*x**4-20*x**3-12*x**2+6*x\n",
    "init_value = 0.7\n",
    "iter_count = 0\n",
    "x_curr = init_value\n",
    "epsilon = 0.000001\n",
    "f = func1(x_curr)\n",
    " \n",
    "while (abs(f) > epsilon):\n",
    "    f = func1(x_curr)\n",
    "    f_prime = func2(x_curr)\n",
    "    x_curr = x_curr - (f)/(f_prime)\n",
    "    iter_count += 1\n",
    "    print(x_curr)\n",
    "print(iter_count)"
   ]
  },
  {
   "cell_type": "markdown",
   "metadata": {},
   "source": [
    "## Задание 3.9"
   ]
  },
  {
   "cell_type": "code",
   "execution_count": 1,
   "metadata": {},
   "outputs": [
    {
     "name": "stdout",
     "output_type": "stream",
     "text": [
      "21.041749502982107\n",
      "10.562707090133793\n",
      "5.323351550447383\n",
      "2.7040050774153417\n",
      "1.3949941413301903\n",
      "0.7418109325525483\n",
      "0.41784523900811205\n",
      "0.26096925221473555\n",
      "0.19169814030401197\n",
      "0.16955770984744145\n",
      "0.1667151339969682\n",
      "0.1666666807529666\n",
      "0.16666666666666785\n",
      "0.167\n",
      "-450.019\n"
     ]
    }
   ],
   "source": [
    "def func(x):\n",
    "    return 8*x**3-2*x**2-450\n",
    "def func1(x):\n",
    "    return 24*x**2 - 4*x \n",
    "def func2(x):\n",
    "    return 48*x -4\n",
    " \n",
    "init_value = 42\n",
    "iter_count = 0\n",
    "x_curr = init_value\n",
    "epsilon = 0.0001\n",
    "f = func1(x_curr)\n",
    " \n",
    "while (abs(f) > epsilon):\n",
    "    f = func1(x_curr)\n",
    "    f_prime = func2(x_curr)\n",
    "    x_curr = x_curr - (f)/(f_prime)\n",
    "    iter_count += 1\n",
    "    print(x_curr)\n",
    " \n",
    "print(round(x_curr, 3))\n",
    "print(round(func(x_curr),3))"
   ]
  }
 ],
 "metadata": {
  "kernelspec": {
   "display_name": "Python 3",
   "language": "python",
   "name": "python3"
  },
  "language_info": {
   "codemirror_mode": {
    "name": "ipython",
    "version": 3
   },
   "file_extension": ".py",
   "mimetype": "text/x-python",
   "name": "python",
   "nbconvert_exporter": "python",
   "pygments_lexer": "ipython3",
   "version": "3.13.1"
  }
 },
 "nbformat": 4,
 "nbformat_minor": 2
}
