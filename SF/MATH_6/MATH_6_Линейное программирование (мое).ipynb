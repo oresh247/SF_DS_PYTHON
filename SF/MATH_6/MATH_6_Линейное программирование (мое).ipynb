{
 "cells": [
  {
   "cell_type": "code",
   "execution_count": 6,
   "metadata": {},
   "outputs": [],
   "source": [
    "from sympy import Symbol, S\n",
    "from sympy.calculus.util import continuous_domain \n",
    "from sympy.calculus.util import function_range\n",
    "from sympy import solveset, Eq\n",
    "import sympy\n",
    "from sympy import diff\n",
    "from sympy import Symbol, limit, oo\n",
    "import pandas as pd # для работы с DataFrame \n",
    "import numpy as np # для работы с массивами"
   ]
  },
  {
   "cell_type": "code",
   "execution_count": 2,
   "metadata": {},
   "outputs": [
    {
     "name": "stdout",
     "output_type": "stream",
     "text": [
      "Максимальная прибыль: $460.00\n",
      "Количество проданных футбольных мячей: 40\n",
      "Количество проданных бейсбольных мячей: 40\n"
     ]
    }
   ],
   "source": [
    "from scipy.optimize import linprog\n",
    "\n",
    "# Коэффициенты целевой функции (максимизация прибыли)\n",
    "c = [-6, -5.5]  # Мы умножаем на -1, так как linprog минимизирует\n",
    "\n",
    "# Ограничения\n",
    "A = [\n",
    "    [1, 1],     # x + y <= 80\n",
    "]\n",
    "b = [80]\n",
    "\n",
    "# Ограничения на количество футбольных и бейсбольных мячей\n",
    "x_bounds = (35, 45)  # Ограничения для x\n",
    "y_bounds = (40, 55)  # Ограничения для y\n",
    "\n",
    "# Решаем задачу линейного программирования\n",
    "result = linprog(c, A_ub=A, b_ub=b, bounds=[x_bounds, y_bounds], method='highs')\n",
    "\n",
    "# Выводим результаты\n",
    "if result.success:\n",
    "    max_profit = -result.fun  # Максимальная прибыль\n",
    "    x_sold = result.x[0]      # Количество проданных футбольных мячей\n",
    "    y_sold = result.x[1]      # Количество проданных бейсбольных мячей\n",
    "\n",
    "    print(f\"Максимальная прибыль: ${max_profit:.2f}\")\n",
    "    print(f\"Количество проданных футбольных мячей: {int(x_sold)}\")\n",
    "    print(f\"Количество проданных бейсбольных мячей: {int(y_sold)}\")\n",
    "else:\n",
    "    print(\"Не удалось найти решение.\")"
   ]
  },
  {
   "cell_type": "code",
   "execution_count": 3,
   "metadata": {},
   "outputs": [
    {
     "name": "stdout",
     "output_type": "stream",
     "text": [
      "Максимальная прибыль: 17250.00 евро\n",
      "Количество свитшотов: 375\n",
      "Количество рубашек: 250\n"
     ]
    }
   ],
   "source": [
    "from scipy.optimize import linprog\n",
    "\n",
    "# Коэффициенты целевой функции (максимизация прибыли)\n",
    "c = [-30, -24]  # Умножаем на -1, так как linprog минимизирует\n",
    "\n",
    "# Ограничения\n",
    "A = [\n",
    "    [1, 1.5],    # Для хлопка\n",
    "    [2, 1]       # Для полиэстера\n",
    "]\n",
    "b = [750, 1000]  # Ограничения по ресурсам\n",
    "\n",
    "# Ограничения на количество свитшотов и рубашек (ненегативность)\n",
    "x_bounds = (0, None)  # Свитшоты\n",
    "y_bounds = (0, None)  # Рубашки\n",
    "\n",
    "# Решаем задачу линейного программирования\n",
    "result = linprog(c, A_ub=A, b_ub=b, bounds=[x_bounds, y_bounds], method='highs')\n",
    "\n",
    "# Выводим результаты\n",
    "if result.success:\n",
    "    max_profit = -result.fun  # Максимальная прибыль\n",
    "    x_produced = result.x[0]   # Количество свитшотов\n",
    "    y_produced = result.x[1]   # Количество рубашек\n",
    "\n",
    "    print(f\"Максимальная прибыль: {max_profit:.2f} евро\")\n",
    "    print(f\"Количество свитшотов: {int(x_produced)}\")\n",
    "    print(f\"Количество рубашек: {int(y_produced)}\")\n",
    "else:\n",
    "    print(\"Не удалось найти решение.\")"
   ]
  },
  {
   "cell_type": "code",
   "execution_count": 7,
   "metadata": {},
   "outputs": [],
   "source": [
    "values = [4, 2, 1, 7, 3, 6] #стоимости товаров\n",
    "weights = [5, 9, 8, 2, 6, 5] #вес товаров\n",
    "C = 15 #вместимость сумки\n",
    "n = 6 #количество товаров"
   ]
  },
  {
   "cell_type": "code",
   "execution_count": 8,
   "metadata": {},
   "outputs": [],
   "source": [
    "c = - np.array(values) #изменяем знак, чтобы перейти от задачи максимизации к задаче минимизации\n",
    "A = np.array(weights)  #конвертируем список с весами в массив\n",
    "A = np.expand_dims(A, 0) #преобразуем размерность массива\n",
    "b = np.array([C]) #конвертируем вместимость в массив"
   ]
  },
  {
   "cell_type": "code",
   "execution_count": 9,
   "metadata": {},
   "outputs": [
    {
     "data": {
      "text/plain": [
       "        message: Optimization terminated successfully. (HiGHS Status 7: Optimal)\n",
       "        success: True\n",
       "         status: 0\n",
       "            fun: -52.5\n",
       "              x: [ 0.000e+00  0.000e+00  0.000e+00  7.500e+00  0.000e+00\n",
       "                   0.000e+00]\n",
       "            nit: 0\n",
       "          lower:  residual: [ 0.000e+00  0.000e+00  0.000e+00  7.500e+00\n",
       "                              0.000e+00  0.000e+00]\n",
       "                 marginals: [ 1.350e+01  2.950e+01  2.700e+01  0.000e+00\n",
       "                              1.800e+01  1.150e+01]\n",
       "          upper:  residual: [       inf        inf        inf        inf\n",
       "                                    inf        inf]\n",
       "                 marginals: [ 0.000e+00  0.000e+00  0.000e+00  0.000e+00\n",
       "                              0.000e+00  0.000e+00]\n",
       "          eqlin:  residual: []\n",
       "                 marginals: []\n",
       "        ineqlin:  residual: [ 0.000e+00]\n",
       "                 marginals: [-3.500e+00]\n",
       " mip_node_count: 0\n",
       " mip_dual_bound: 0.0\n",
       "        mip_gap: 0.0"
      ]
     },
     "execution_count": 9,
     "metadata": {},
     "output_type": "execute_result"
    }
   ],
   "source": [
    "from scipy.optimize import linprog\n",
    "linprog(c=c, A_ub=A, b_ub=b)"
   ]
  },
  {
   "cell_type": "markdown",
   "metadata": {},
   "source": [
    "## будем решать задачу целочисленного линейного программирования"
   ]
  },
  {
   "cell_type": "code",
   "execution_count": 18,
   "metadata": {},
   "outputs": [
    {
     "data": {
      "text/plain": [
       "np.float64(-49.0)"
      ]
     },
     "execution_count": 18,
     "metadata": {},
     "output_type": "execute_result"
    }
   ],
   "source": [
    "import cvxpy\n",
    "x = cvxpy.Variable(shape=n, integer=True)\n",
    "constraint = cvxpy.sum(cvxpy.multiply(A, x)) <= C\n",
    "x_positive = x >= 0\n",
    "total_value = cvxpy.sum(cvxpy.multiply(x, c))\n",
    "\n",
    "problem = cvxpy.Problem(\n",
    "    cvxpy.Minimize(total_value), constraints=[constraint, x_positive]\n",
    ")\n",
    "\n",
    "problem.solve()\n",
    "\n"
   ]
  },
  {
   "cell_type": "code",
   "execution_count": null,
   "metadata": {},
   "outputs": [],
   "source": [
    "x.value"
   ]
  },
  {
   "cell_type": "code",
   "execution_count": 15,
   "metadata": {},
   "outputs": [
    {
     "data": {
      "text/plain": [
       "np.float64(-17.0)"
      ]
     },
     "execution_count": 15,
     "metadata": {},
     "output_type": "execute_result"
    }
   ],
   "source": [
    "x = cvxpy.Variable(shape=n, boolean=True)\n",
    "constraint = cvxpy.sum(cvxpy.multiply(A, x)) <= C\n",
    "x_positive = x >= 0\n",
    "total_value = cvxpy.sum(cvxpy.multiply(x, c))\n",
    "\n",
    "problem = cvxpy.Problem(\n",
    "    cvxpy.Minimize(total_value), constraints=[constraint, x_positive]\n",
    ")\n",
    "\n",
    "problem.solve()\n"
   ]
  },
  {
   "cell_type": "code",
   "execution_count": 16,
   "metadata": {},
   "outputs": [
    {
     "data": {
      "text/plain": [
       "array([1., 0., 0., 1., 0., 1.])"
      ]
     },
     "execution_count": 16,
     "metadata": {},
     "output_type": "execute_result"
    }
   ],
   "source": [
    "x.value"
   ]
  },
  {
   "cell_type": "code",
   "execution_count": 20,
   "metadata": {},
   "outputs": [
    {
     "name": "stdout",
     "output_type": "stream",
     "text": [
      "Количество автомобилей модели А:  1.0\n",
      "Количество автомобилей модели В:  4.0\n",
      "Суммарный доход:  200000.0\n"
     ]
    },
    {
     "name": "stderr",
     "output_type": "stream",
     "text": [
      "C:\\Users\\aoreshkin.IT-ONE\\AppData\\Roaming\\Python\\Python313\\site-packages\\pulp\\pulp.py:1298: UserWarning: Spaces are not permitted in the name. Converted to '_'\n",
      "  warnings.warn(\"Spaces are not permitted in the name. Converted to '_'\")\n"
     ]
    }
   ],
   "source": [
    "from pulp import *\n",
    "problem = LpProblem('Производство машин', LpMaximize)\n",
    "A = LpVariable('Автомобиль A', lowBound=0 , cat=LpInteger)\n",
    "B = LpVariable('Автомобиль B', lowBound=0 , cat=LpInteger)\n",
    "#Целевая функция\n",
    "problem += 20000*A + 45000*B \n",
    "#Ограничения\n",
    "problem += 4*A + 5*B <= 30 \n",
    "problem += 3*A + 6*B <=30\n",
    "problem += 2*A + 7*B <=30\n",
    "problem.solve()\n",
    "print(\"Количество автомобилей модели А: \", A.varValue)\n",
    "print(\"Количество автомобилей модели В: \", B.varValue)\n",
    "print(\"Суммарный доход: \", value(problem.objective))\n",
    "#Количество автомобилей модели А:  1.0\n",
    "#Количество автомобилей модели В:  4.0\n",
    "#Суммарный доход:  200000.0"
   ]
  },
  {
   "cell_type": "code",
   "execution_count": 22,
   "metadata": {},
   "outputs": [
    {
     "name": "stdout",
     "output_type": "stream",
     "text": [
      "Минимальная суммарная стоимость поставки: 1900\n"
     ]
    }
   ],
   "source": [
    "# Создание задачи\n",
    "problem = LpProblem(\"Transportation_Problem\", LpMinimize)\n",
    "\n",
    "# Переменные\n",
    "x11 = LpVariable(\"x11\", lowBound=0)\n",
    "x12 = LpVariable(\"x12\", lowBound=0)\n",
    "x13 = LpVariable(\"x13\", lowBound=0)\n",
    "x21 = LpVariable(\"x21\", lowBound=0)\n",
    "x22 = LpVariable(\"x22\", lowBound=0)\n",
    "x23 = LpVariable(\"x23\", lowBound=0)\n",
    "\n",
    "# Целевая функция\n",
    "problem += lpSum([2*x11, 5*x12, 3*x13, \n",
    "                  7*x21, 7*x22, 6*x23])\n",
    "\n",
    "# Ограничения\n",
    "problem += (x11 + x21 == 110) # для ТЦ1\n",
    "problem += (x12 + x22 == 150) # для ТЦ2\n",
    "problem += (x13 + x23 == 140) # для ТЦ3\n",
    "problem += (x11 + x12 + x13 <= 180) # для Склада1\n",
    "problem += (x21 + x22 + x23 <= 220) # для Склада2\n",
    "\n",
    "# Решение задачи\n",
    "problem.solve()\n",
    "\n",
    "# Вывод результатов\n",
    "total_cost = problem.objective.value()\n",
    "print(f\"Минимальная суммарная стоимость поставки: {round(total_cost)}\")"
   ]
  },
  {
   "cell_type": "code",
   "execution_count": 47,
   "metadata": {},
   "outputs": [
    {
     "name": "stdout",
     "output_type": "stream",
     "text": [
      "Минимальная стоимость работ: 32\n"
     ]
    }
   ],
   "source": [
    "import numpy as np\n",
    "from scipy.optimize import linprog\n",
    "\n",
    "# Затраты на выполнение задач\n",
    "costs = np.array([[1000, 12, 10, 19, 8],\n",
    "                  [12, 1000, 3, 7, 2],\n",
    "                  [10, 3, 1000, 6, 20],\n",
    "                  [19, 7, 6, 1000, 4],\n",
    "                  [8, 2, 20, 4, 1000]])\n",
    "\n",
    "# Преобразуем задачу в формат для линейного программирования\n",
    "# Целевая функция (затраты)\n",
    "c = costs.flatten()\n",
    "\n",
    "# Ограничения: каждая задача должна быть выполнена ровно одним исполнителем\n",
    "A_eq = []\n",
    "b_eq = []\n",
    "\n",
    "for j in range(5):\n",
    "    constraint = np.zeros(25)\n",
    "    for i in range(5):\n",
    "        constraint[i * 5 + j] = 1\n",
    "    A_eq.append(constraint)\n",
    "    b_eq.append(1)\n",
    "\n",
    "# Ограничения: каждый исполнитель может выполнить только одну задачу\n",
    "for i in range(5):\n",
    "    constraint = np.zeros(25)\n",
    "    for j in range(5):\n",
    "        constraint[i * 5 + j] = 1\n",
    "    A_eq.append(constraint)\n",
    "    b_eq.append(1)\n",
    "\n",
    "A_eq = np.array(A_eq)\n",
    "b_eq = np.array(b_eq)\n",
    "\n",
    "# Решение задачи линейного программирования\n",
    "result = linprog(c,\n",
    "                 A_eq=A_eq,\n",
    "                 b_eq=b_eq,\n",
    "                 bounds=(0, None),\n",
    "                 method='highs')\n",
    "\n",
    "# Вывод результатов\n",
    "if result.success:\n",
    "    print(f\"Минимальная стоимость работ: {round(result.fun)}\")\n",
    "else:\n",
    "    print(\"Не удалось найти решение.\")"
   ]
  },
  {
   "cell_type": "code",
   "execution_count": 50,
   "metadata": {},
   "outputs": [
    {
     "name": "stdout",
     "output_type": "stream",
     "text": [
      "Минимальная стоимость работ: 32\n",
      "Исполнитель 1 назначен на Задачу 5\n",
      "Исполнитель 2 назначен на Задачу 4\n",
      "Исполнитель 3 назначен на Задачу 2\n",
      "Исполнитель 4 назначен на Задачу 3\n",
      "Исполнитель 5 назначен на Задачу 1\n"
     ]
    }
   ],
   "source": [
    "import pulp\n",
    "\n",
    "# Создание модели\n",
    "problem = pulp.LpProblem(\"Task_Assignment\", pulp.LpMinimize)\n",
    "\n",
    "# Определение затрат\n",
    "costs = [\n",
    "    [1000, 12, 10, 19, 8],\n",
    "    [12, 1000, 3, 7, 2],\n",
    "    [10, 3, 1000, 6, 20],\n",
    "    [19, 7, 6, 1000, 4],\n",
    "    [8, 2, 20, 4, 1000]\n",
    "]\n",
    "\n",
    "# Определение переменных\n",
    "x = pulp.LpVariable.dicts(\"assign\", (range(5), range(5)), cat='Binary')\n",
    "\n",
    "# Целевая функция: минимизация общих затрат\n",
    "problem += pulp.lpSum(costs[i][j] * x[i][j] for i in range(5) for j in range(5))\n",
    "\n",
    "# Ограничения: каждая задача должна быть выполнена ровно одним исполнителем\n",
    "for j in range(5):\n",
    "    problem += pulp.lpSum(x[i][j] for i in range(5)) == 1\n",
    "\n",
    "# Ограничения: каждый исполнитель может выполнить только одну задачу\n",
    "for i in range(5):\n",
    "    problem += pulp.lpSum(x[i][j] for j in range(5)) == 1\n",
    "\n",
    "# Решение задачи\n",
    "problem.solve()\n",
    "\n",
    "# Вывод результатов\n",
    "print(f\"Минимальная стоимость работ: {round(pulp.value(problem.objective))}\")\n",
    "for i in range(5):\n",
    "    for j in range(5):\n",
    "        if x[i][j].varValue == 1:\n",
    "            print(f\"Исполнитель {i+1} назначен на Задачу {j+1}\")"
   ]
  },
  {
   "cell_type": "code",
   "execution_count": 51,
   "metadata": {},
   "outputs": [
    {
     "name": "stdout",
     "output_type": "stream",
     "text": [
      "Минимальная стоимость работ: 32\n",
      "Исполнитель 1 назначен на Задачу 5\n",
      "Исполнитель 2 назначен на Задачу 3\n",
      "Исполнитель 3 назначен на Задачу 1\n",
      "Исполнитель 4 назначен на Задачу 2\n",
      "Исполнитель 5 назначен на Задачу 4\n"
     ]
    }
   ],
   "source": [
    "import cvxpy as cp\n",
    "import numpy as np\n",
    "\n",
    "# Затраты на выполнение задач\n",
    "costs = np.array([[1000, 12, 10, 19, 8],\n",
    "                  [12, 1000, 3, 7, 2],\n",
    "                  [10, 3, 1000, 6, 20],\n",
    "                  [19, 7, 6, 1000, 4],\n",
    "                  [8, 2, 20, 4, 1000]])\n",
    "\n",
    "# Определение переменных\n",
    "x = cp.Variable((5, 5), boolean=True) # Бинарные переменные\n",
    "\n",
    "# Целевая функция: минимизация общих затрат\n",
    "objective = cp.Minimize(cp.sum(cp.multiply(costs, x)))\n",
    "\n",
    "# Ограничения: каждая задача должна быть выполнена ровно одним исполнителем\n",
    "constraints = []\n",
    "for j in range(5):\n",
    "    constraints.append(cp.sum(x[:, j]) == 1)\n",
    "\n",
    "# Ограничения: каждый исполнитель может выполнить только одну задачу\n",
    "for i in range(5):\n",
    "    constraints.append(cp.sum(x[i, :]) == 1)\n",
    "\n",
    "# Формулирование и решение задачи\n",
    "problem = cp.Problem(objective, constraints)\n",
    "problem.solve()\n",
    "\n",
    "# Вывод результатов\n",
    "print(f\"Минимальная стоимость работ: {round(problem.value)}\")\n",
    "for i in range(5):\n",
    "    for j in range(5):\n",
    "        if x.value[i][j] > 0.5: # Проверяем назначение\n",
    "            print(f\"Исполнитель {i + 1} назначен на Задачу {j + 1}\")"
   ]
  },
  {
   "cell_type": "code",
   "execution_count": 52,
   "metadata": {},
   "outputs": [
    {
     "name": "stdout",
     "output_type": "stream",
     "text": [
      "Минимальная длина пути: 16\n"
     ]
    }
   ],
   "source": [
    "import pulp\n",
    "\n",
    "# Создание модели\n",
    "problem = pulp.LpProblem(\"Traveling_Salesman_Problem\", pulp.LpMinimize)\n",
    "\n",
    "# Определение переменных\n",
    "x_AB = pulp.LpVariable(\"x_AB\", cat='Binary')\n",
    "x_AC = pulp.LpVariable(\"x_AC\", cat='Binary')\n",
    "x_AD = pulp.LpVariable(\"x_AD\", cat='Binary')\n",
    "x_AE = pulp.LpVariable(\"x_AE\", cat='Binary')\n",
    "\n",
    "x_BC = pulp.LpVariable(\"x_BC\", cat='Binary')\n",
    "x_BD = pulp.LpVariable(\"x_BD\", cat='Binary')\n",
    "x_BE = pulp.LpVariable(\"x_BE\", cat='Binary')\n",
    "\n",
    "x_CD = pulp.LpVariable(\"x_CD\", cat='Binary')\n",
    "x_CE = pulp.LpVariable(\"x_CE\", cat='Binary')\n",
    "\n",
    "x_DE = pulp.LpVariable(\"x_DE\", cat='Binary')\n",
    "\n",
    "# Целевая функция: минимизация общей длины маршрута\n",
    "problem += (12 * (x_AB) +\n",
    "            10 * (x_AC) +\n",
    "            19 * (x_AD) +\n",
    "            8 * (x_AE) +\n",
    "            3 * (x_BC) +\n",
    "            7 * (x_BD) +\n",
    "            2 * (x_BE) +\n",
    "            6 * (x_CD) +\n",
    "            20 * (x_CE) +\n",
    "            4 * (x_DE))\n",
    "\n",
    "# Ограничения: каждая точка должна быть посещена ровно один раз\n",
    "problem += (x_AB + x_AC + x_AD + x_AE == 1)   # A -> \n",
    "problem += (x_BC + x_BD + x_BE + (0 * (0)) == 1) # B -> \n",
    "problem += (x_AC + x_CD + x_CE + (0 * (0)) == 1) # C -> \n",
    "problem += (x_AD + x_BD + x_DE == 1) # D -> \n",
    "problem += (x_AE + x_BE + x_CE == 1) # E -> \n",
    "\n",
    "# Решение задачи\n",
    "problem.solve()\n",
    "\n",
    "# Вывод результатов\n",
    "print(f\"Минимальная длина пути: {round(pulp.value(problem.objective))}\")"
   ]
  }
 ],
 "metadata": {
  "kernelspec": {
   "display_name": "Python 3",
   "language": "python",
   "name": "python3"
  },
  "language_info": {
   "codemirror_mode": {
    "name": "ipython",
    "version": 3
   },
   "file_extension": ".py",
   "mimetype": "text/x-python",
   "name": "python",
   "nbconvert_exporter": "python",
   "pygments_lexer": "ipython3",
   "version": "3.13.1"
  }
 },
 "nbformat": 4,
 "nbformat_minor": 2
}
