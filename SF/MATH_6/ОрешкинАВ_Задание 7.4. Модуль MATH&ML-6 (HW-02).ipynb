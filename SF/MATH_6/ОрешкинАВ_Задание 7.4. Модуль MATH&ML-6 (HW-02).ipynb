{
  "cells": [
    {
      "cell_type": "code",
      "execution_count": 565,
      "metadata": {},
      "outputs": [],
      "source": [
        "from sklearn.linear_model import SGDRegressor  # Импортируем регрессор SGD\n",
        "from sklearn.model_selection import GridSearchCV  # Импортируем класс для поиска по сетке\n",
        "from sklearn.model_selection import train_test_split  # Импортируем функцию для разделения данных на обучающую и тестовую выборки\n",
        "from sklearn.metrics import mean_squared_error  # Импортируем функцию для вычисления среднеквадратичной ошибки\n",
        "import seaborn as sns  # Импортируем библиотеку Seaborn для визуализации данных\n",
        "import pandas as pd  # Импортируем библиотеку Pandas для работы с данными в формате DataFrame\n",
        "import numpy as np  # Импортируем библиотеку NumPy для работы с массивами\n",
        "import matplotlib.pyplot as plt # библиотека визуализации"
      ]
    },
    {
      "cell_type": "code",
      "execution_count": 566,
      "metadata": {},
      "outputs": [],
      "source": [
        "np.random.seed(42)"
      ]
    },
    {
      "cell_type": "markdown",
      "metadata": {
        "id": "NyHIGVhfa_Wf"
      },
      "source": [
        "# Стохастический градиентный и координатный спуски"
      ]
    },
    {
      "cell_type": "markdown",
      "metadata": {
        "id": "gn6lluIADUKa"
      },
      "source": [
        "Для каждого задания указано количество баллов (если они оцениваются отдельно) + 1 балл за аккуратное и полное выполнение всего задания"
      ]
    },
    {
      "cell_type": "markdown",
      "metadata": {
        "id": "txCccYvha_Wv"
      },
      "source": [
        "## Загрузка и подготовка данных"
      ]
    },
    {
      "cell_type": "markdown",
      "metadata": {
        "id": "NbyOzeZ6a_Wx"
      },
      "source": [
        "**Загрузите уже знакомый вам файл *Advertising.csv* как объект DataFrame.** "
      ]
    },
    {
      "cell_type": "code",
      "execution_count": 567,
      "metadata": {
        "id": "E1L4_xeDa_Wz"
      },
      "outputs": [
        {
          "data": {
            "text/html": [
              "<div>\n",
              "<style scoped>\n",
              "    .dataframe tbody tr th:only-of-type {\n",
              "        vertical-align: middle;\n",
              "    }\n",
              "\n",
              "    .dataframe tbody tr th {\n",
              "        vertical-align: top;\n",
              "    }\n",
              "\n",
              "    .dataframe thead th {\n",
              "        text-align: right;\n",
              "    }\n",
              "</style>\n",
              "<table border=\"1\" class=\"dataframe\">\n",
              "  <thead>\n",
              "    <tr style=\"text-align: right;\">\n",
              "      <th></th>\n",
              "      <th>TV</th>\n",
              "      <th>radio</th>\n",
              "      <th>newspaper</th>\n",
              "      <th>sales</th>\n",
              "    </tr>\n",
              "  </thead>\n",
              "  <tbody>\n",
              "    <tr>\n",
              "      <th>1</th>\n",
              "      <td>230.1</td>\n",
              "      <td>37.8</td>\n",
              "      <td>69.2</td>\n",
              "      <td>22.1</td>\n",
              "    </tr>\n",
              "    <tr>\n",
              "      <th>2</th>\n",
              "      <td>44.5</td>\n",
              "      <td>39.3</td>\n",
              "      <td>45.1</td>\n",
              "      <td>10.4</td>\n",
              "    </tr>\n",
              "    <tr>\n",
              "      <th>3</th>\n",
              "      <td>17.2</td>\n",
              "      <td>45.9</td>\n",
              "      <td>69.3</td>\n",
              "      <td>9.3</td>\n",
              "    </tr>\n",
              "    <tr>\n",
              "      <th>4</th>\n",
              "      <td>151.5</td>\n",
              "      <td>41.3</td>\n",
              "      <td>58.5</td>\n",
              "      <td>18.5</td>\n",
              "    </tr>\n",
              "    <tr>\n",
              "      <th>5</th>\n",
              "      <td>180.8</td>\n",
              "      <td>10.8</td>\n",
              "      <td>58.4</td>\n",
              "      <td>12.9</td>\n",
              "    </tr>\n",
              "  </tbody>\n",
              "</table>\n",
              "</div>"
            ],
            "text/plain": [
              "      TV  radio  newspaper  sales\n",
              "1  230.1   37.8       69.2   22.1\n",
              "2   44.5   39.3       45.1   10.4\n",
              "3   17.2   45.9       69.3    9.3\n",
              "4  151.5   41.3       58.5   18.5\n",
              "5  180.8   10.8       58.4   12.9"
            ]
          },
          "execution_count": 567,
          "metadata": {},
          "output_type": "execute_result"
        }
      ],
      "source": [
        "df = pd.read_csv('data/Advertising.csv',index_col=0)\n",
        "df.head()"
      ]
    },
    {
      "cell_type": "code",
      "execution_count": 568,
      "metadata": {},
      "outputs": [
        {
          "data": {
            "text/html": [
              "<div>\n",
              "<style scoped>\n",
              "    .dataframe tbody tr th:only-of-type {\n",
              "        vertical-align: middle;\n",
              "    }\n",
              "\n",
              "    .dataframe tbody tr th {\n",
              "        vertical-align: top;\n",
              "    }\n",
              "\n",
              "    .dataframe thead th {\n",
              "        text-align: right;\n",
              "    }\n",
              "</style>\n",
              "<table border=\"1\" class=\"dataframe\">\n",
              "  <thead>\n",
              "    <tr style=\"text-align: right;\">\n",
              "      <th></th>\n",
              "      <th>count</th>\n",
              "      <th>mean</th>\n",
              "      <th>std</th>\n",
              "      <th>min</th>\n",
              "      <th>25%</th>\n",
              "      <th>50%</th>\n",
              "      <th>75%</th>\n",
              "      <th>max</th>\n",
              "    </tr>\n",
              "  </thead>\n",
              "  <tbody>\n",
              "    <tr>\n",
              "      <th>TV</th>\n",
              "      <td>200.0</td>\n",
              "      <td>147.0425</td>\n",
              "      <td>85.854236</td>\n",
              "      <td>0.7</td>\n",
              "      <td>74.375</td>\n",
              "      <td>149.75</td>\n",
              "      <td>218.825</td>\n",
              "      <td>296.4</td>\n",
              "    </tr>\n",
              "    <tr>\n",
              "      <th>radio</th>\n",
              "      <td>200.0</td>\n",
              "      <td>23.2640</td>\n",
              "      <td>14.846809</td>\n",
              "      <td>0.0</td>\n",
              "      <td>9.975</td>\n",
              "      <td>22.90</td>\n",
              "      <td>36.525</td>\n",
              "      <td>49.6</td>\n",
              "    </tr>\n",
              "    <tr>\n",
              "      <th>newspaper</th>\n",
              "      <td>200.0</td>\n",
              "      <td>30.5540</td>\n",
              "      <td>21.778621</td>\n",
              "      <td>0.3</td>\n",
              "      <td>12.750</td>\n",
              "      <td>25.75</td>\n",
              "      <td>45.100</td>\n",
              "      <td>114.0</td>\n",
              "    </tr>\n",
              "    <tr>\n",
              "      <th>sales</th>\n",
              "      <td>200.0</td>\n",
              "      <td>14.0225</td>\n",
              "      <td>5.217457</td>\n",
              "      <td>1.6</td>\n",
              "      <td>10.375</td>\n",
              "      <td>12.90</td>\n",
              "      <td>17.400</td>\n",
              "      <td>27.0</td>\n",
              "    </tr>\n",
              "  </tbody>\n",
              "</table>\n",
              "</div>"
            ],
            "text/plain": [
              "           count      mean        std  min     25%     50%      75%    max\n",
              "TV         200.0  147.0425  85.854236  0.7  74.375  149.75  218.825  296.4\n",
              "radio      200.0   23.2640  14.846809  0.0   9.975   22.90   36.525   49.6\n",
              "newspaper  200.0   30.5540  21.778621  0.3  12.750   25.75   45.100  114.0\n",
              "sales      200.0   14.0225   5.217457  1.6  10.375   12.90   17.400   27.0"
            ]
          },
          "execution_count": 568,
          "metadata": {},
          "output_type": "execute_result"
        }
      ],
      "source": [
        "df.describe().T"
      ]
    },
    {
      "cell_type": "markdown",
      "metadata": {
        "id": "bf4aVFndDUKf"
      },
      "source": [
        "**Проверьте, есть ли в данных пропуски и, если они есть - удалите их**"
      ]
    },
    {
      "cell_type": "code",
      "execution_count": 569,
      "metadata": {
        "id": "tiVeFnR5DUKg"
      },
      "outputs": [
        {
          "data": {
            "text/plain": [
              "TV           0\n",
              "radio        0\n",
              "newspaper    0\n",
              "sales        0\n",
              "dtype: int64"
            ]
          },
          "execution_count": 569,
          "metadata": {},
          "output_type": "execute_result"
        }
      ],
      "source": [
        "# исследуйте данные на предмет пропусков. Где есть пропущенные значения? Сколько их?\n",
        "missing_values_count = df.isnull().sum()\n",
        "missing_values_count"
      ]
    },
    {
      "cell_type": "markdown",
      "metadata": {},
      "source": [
        "ВЫВОД: Пропусков нет"
      ]
    },
    {
      "cell_type": "markdown",
      "metadata": {},
      "source": [
        "**Построем в дополнение диаграмму рассеяния для проверки предположения о линейности между каждой независимой переменной (ТВ, Радио, Газета) и зависимой переменной (Продажи)**"
      ]
    },
    {
      "cell_type": "code",
      "execution_count": 570,
      "metadata": {},
      "outputs": [
        {
          "data": {
            "text/plain": [
              "<seaborn.axisgrid.PairGrid at 0x20f37f95ae0>"
            ]
          },
          "execution_count": 570,
          "metadata": {},
          "output_type": "execute_result"
        },
        {
          "data": {
            "image/png": "[encoded data removed]",
            "text/plain": [
              "<Figure size 750x250 with 3 Axes>"
            ]
          },
          "metadata": {},
          "output_type": "display_data"
        }
      ],
      "source": [
        "sns.pairplot(df, x_vars=[\"TV\", \"radio\", \"newspaper\"], y_vars=\"sales\", kind=\"reg\")"
      ]
    },
    {
      "cell_type": "markdown",
      "metadata": {},
      "source": [
        "**Также построим гистограммы для проверки распределения.**"
      ]
    },
    {
      "cell_type": "code",
      "execution_count": 571,
      "metadata": {},
      "outputs": [
        {
          "data": {
            "text/plain": [
              "array([[<Axes: title={'center': 'TV'}>,\n",
              "        <Axes: title={'center': 'radio'}>],\n",
              "       [<Axes: title={'center': 'newspaper'}>,\n",
              "        <Axes: title={'center': 'sales'}>]], dtype=object)"
            ]
          },
          "execution_count": 571,
          "metadata": {},
          "output_type": "execute_result"
        },
        {
          "data": {
            "image/png": "[encoded data removed]",
            "text/plain": [
              "<Figure size 640x480 with 4 Axes>"
            ]
          },
          "metadata": {},
          "output_type": "display_data"
        }
      ],
      "source": [
        "df.hist(bins=20)"
      ]
    },
    {
      "cell_type": "markdown",
      "metadata": {
        "id": "rTkiqPr_DUKh"
      },
      "source": [
        "**Преобразуйте ваши признаки в массивы NumPy и разделите их на переменные X (предикторы) и y(целевая переменная)** "
      ]
    },
    {
      "cell_type": "code",
      "execution_count": 572,
      "metadata": {
        "id": "R9OHIRB3a_Xa"
      },
      "outputs": [],
      "source": [
        "X = df.drop('sales', axis=1).values  # Преобразуем в массив NumPy\n",
        "y = df['sales'].values  # Преобразуем целевую переменную в массив NumPy"
      ]
    },
    {
      "cell_type": "markdown",
      "metadata": {
        "id": "KCvjSoHEDUKo"
      },
      "source": [
        "## Координатный спуск (3 балла)"
      ]
    },
    {
      "cell_type": "markdown",
      "metadata": {
        "id": "yjNm8dATDUKq"
      },
      "source": [
        "**Добавим единичный столбец для того, чтобы у нас был свободный коэффициент в уравнении регрессии:**"
      ]
    },
    {
      "cell_type": "code",
      "execution_count": 573,
      "metadata": {
        "id": "LMgq0fmKDUKr"
      },
      "outputs": [
        {
          "name": "stdout",
          "output_type": "stream",
          "text": [
            "(200, 4) (200, 1)\n"
          ]
        }
      ],
      "source": [
        "X = np.hstack([np.ones(X.shape[0]).reshape(-1, 1), X])\n",
        "y = y.reshape(-1, 1)\n",
        "print(X.shape, y.shape)"
      ]
    },
    {
      "cell_type": "markdown",
      "metadata": {
        "id": "R008OQwcDUKt"
      },
      "source": [
        "**Нормализуем данные: обычно это необходимо для корректной работы алгоритма**"
      ]
    },
    {
      "cell_type": "code",
      "execution_count": 574,
      "metadata": {
        "id": "2Sk7Wx-SDUKt"
      },
      "outputs": [],
      "source": [
        "X = X / np.sqrt(np.sum(np.square(X), axis=0))"
      ]
    },
    {
      "cell_type": "markdown",
      "metadata": {
        "id": "F_pHHbAdDUKu"
      },
      "source": [
        "**Реализуйте алгоритм координатного спуска:** (3 балла)\n",
        "\n",
        "Ниже приведен алгоритм координатного спуска для случая нормализованных данных:"
      ]
    },
    {
      "cell_type": "markdown",
      "metadata": {},
      "source": [
        "**Задано:**\n",
        "\n",
        "* $X=(x_{ij})$ - матрица наблюдений, размерностью $dim(X)=(m, n)$\n",
        "* $N=1000$ - количество итераций\n",
        "\n",
        "**Примечание:** *1000 итераций здесь указаны для этого задания, на самом деле их может быть намного больше, нет детерменированного значения.*\n",
        "\n",
        "**Алгоритм (математическая запись):**\n",
        "* Создать нулевой вектор параметров $w_0=(0, 0,..., 0)^T$\n",
        "* Для всех $t=1, 2, ..., N$ итераций:\n",
        "    * Для всех $k = 1, 2,..., n$:\n",
        "        * Фиксируем значение всех признаков, кроме $k$-ого и вычисляем прогноз модели линейной регрессии.Для этого исключаем признак $k$-ый из данных и $w_j$ из параметров при построении прогноза.\n",
        "        Математически это можно записать следующим образом:\n",
        "\n",
        "        $$h_i = \\sum_{j=1}^{k-1} x_{ij}w_{j} + \\sum_{j=k+1}^{n} x_{ij}w_j $$\n",
        "\n",
        "        **Примечание:**\n",
        "        \n",
        "        *Обратите, что в данной записи текущий признак под номером $k$ не участвует в сумме.Сравните эту запись с классической записью прогноза линейной регрессии в случае нормированных данных (когда участвуют все признаки):*\n",
        "\n",
        "        $$h_i = \\sum_{j=1}^{n} x_{ij}w_{j}$$ \n",
        "        \n",
        "        * Вычисляем новое значение параметра $k$-ого коэффициента: \n",
        "        $$w_k = \\sum_{i=1}^{m} x_{ik} (y_i - h_i) = x_k^T(y-h) $$\n",
        "\n",
        "    * Вычисляем значение функции потерь и сохраняем в историю изменения функции потерь (В оценке функции потерь участвуют все признаки):\n",
        "        $$\\hat{y_i} = \\sum_{j=1}^{n}x_{ij}w_j$$\n",
        "        $$Loss_t = \\frac{1}{n} \\sum_{i=1}^{m}(y_i-\\hat{y_i})^2$$\n",
        "        \n",
        "        или в векторном виде:\n",
        "        \n",
        "        $$\\hat{y} = Xw$$\n",
        "        $$Loss_t = \\frac{1}{n}(y-\\hat{y})^T(y-\\hat{y})$$\n",
        "    \n",
        "\n"
      ]
    },
    {
      "cell_type": "markdown",
      "metadata": {},
      "source": [
        "**Алгоритм (псевдокод):**\n",
        "```python\n",
        "\n",
        "num_iters = #количество итераций\n",
        "m = # количество строк в матрице X\n",
        "n = # количество столбцов в матрице X\n",
        "w = #вектор размера nx1, состояющий из нулей\n",
        "\n",
        "for i in range(num_iters):\n",
        "    for k in range(n):\n",
        "        # Вычисляем прогноз без k-ого фактора\n",
        "        h = (X[:,0:k] @ w[0:k]) + (X[:,k+1:] @ w[k+1:])\n",
        "        # Обновляем новое значение k-ого коэффициента\n",
        "        w[k] =  (X[:,k].T @ (y - h))\n",
        "        # Вычисляем функцию потерь\n",
        "        cost = sum((X @ w) - y) ** 2)/(len(y))\n",
        "\n",
        "```"
      ]
    },
    {
      "cell_type": "markdown",
      "metadata": {
        "id": "y3IdiHm9DUKv"
      },
      "source": [
        "Вам необходимо реализовать координатный спуск, и вывести веса в модели линейной регрессии."
      ]
    },
    {
      "cell_type": "code",
      "execution_count": 575,
      "metadata": {},
      "outputs": [
        {
          "name": "stdout",
          "output_type": "stream",
          "text": [
            "Параметры модели: [[ 41.56217205]\n",
            " [110.13144155]\n",
            " [ 73.52860638]\n",
            " [ -0.55006384]]\n",
            "Последнее значение функции потерь: 3.788110066871299e-29\n",
            "Среднеквадратичная ошибка: 2.784126314510936\n"
          ]
        }
      ],
      "source": [
        "# Реализация алгоритма координатного спуска\n",
        "num_iters = 1000  # количество итераций\n",
        "m, n = X.shape  # количество строк и столбцов в матрице X\n",
        "w = np.zeros((n, 1))  # создаем вектор w размера nx1, состоящий из нулей\n",
        "loss_history = []  # история значений функции потерь\n",
        "mse_history = [] # история среднеквадратичной ошибки\n",
        "\n",
        "for i in range(num_iters):\n",
        "    for k in range(n):\n",
        "        # Вычисляем прогноз без k-ого фактора\n",
        "        h = (X[:,0:k] @ w[0:k]) + (X[:,k+1:] @ w[k+1:])  # Убираем влияние k-ого фактора\n",
        "        # Обновляем новое значение k-ого коэффициента\n",
        "        w[k] =  (X[:,k].T @ (y - h))\n",
        "        # Вычисляем функцию потерь\n",
        "        cost = np.sum((X @ w) - y) ** 2 / len(y)\n",
        "        mse = np.mean((X @ w - y) ** 2)\n",
        "        loss_history.append(cost)\n",
        "        mse_history.append(mse)\n",
        "\n",
        "# Выводим параметры и значение функции потерь после всех итераций\n",
        "print(\"Параметры модели:\", w)\n",
        "print(\"Последнее значение функции потерь:\", loss_history[-1])\n",
        "print(\"Среднеквадратичная ошибка:\", mse_history[-1])"
      ]
    },
    {
      "cell_type": "markdown",
      "metadata": {
        "id": "a3jG-7UADUKx"
      },
      "source": [
        "Сравните результаты с реализацией линейной регрессии из библиотеки sklearn:"
      ]
    },
    {
      "cell_type": "code",
      "execution_count": 576,
      "metadata": {
        "id": "SBl-1Yb5DUKy"
      },
      "outputs": [
        {
          "name": "stdout",
          "output_type": "stream",
          "text": [
            "[[ 41.56217205 110.13144155  73.52860638  -0.55006384]]\n"
          ]
        }
      ],
      "source": [
        "from sklearn.linear_model import LinearRegression\n",
        " \n",
        "model = LinearRegression(fit_intercept=False)\n",
        "model.fit(X, y)\n",
        " \n",
        "print(model.coef_)"
      ]
    },
    {
      "cell_type": "markdown",
      "metadata": {
        "id": "hIl0AGLyDUKy"
      },
      "source": [
        "Если вы все сделали верно, они должны практически совпасть!"
      ]
    },
    {
      "cell_type": "markdown",
      "metadata": {
        "id": "VCGwFnPdDUKz"
      },
      "source": [
        "## Стохастический градиентный спуск (6 баллов)"
      ]
    },
    {
      "cell_type": "markdown",
      "metadata": {
        "id": "5u7Q2YJla_Xk"
      },
      "source": [
        "**Отмасштабируйте столбцы исходной матрицы *X* (которую мы не нормализовали еще!). Для того, чтобы это сделать, надо вычесть из каждого значения среднее и разделить на стандартное отклонение** (0.5 баллов)"
      ]
    },
    {
      "cell_type": "code",
      "execution_count": 577,
      "metadata": {
        "id": "9cEpV_5La_Xo"
      },
      "outputs": [
        {
          "name": "stdout",
          "output_type": "stream",
          "text": [
            "Исходные данные:\n",
            " [[230.1  37.8  69.2]\n",
            " [ 44.5  39.3  45.1]\n",
            " [ 17.2  45.9  69.3]\n",
            " [151.5  41.3  58.5]\n",
            " [180.8  10.8  58.4]\n",
            " [  8.7  48.9  75. ]\n",
            " [ 57.5  32.8  23.5]\n",
            " [120.2  19.6  11.6]\n",
            " [  8.6   2.1   1. ]\n",
            " [199.8   2.6  21.2]\n",
            " [ 66.1   5.8  24.2]\n",
            " [214.7  24.    4. ]\n",
            " [ 23.8  35.1  65.9]\n",
            " [ 97.5   7.6   7.2]\n",
            " [204.1  32.9  46. ]\n",
            " [195.4  47.7  52.9]\n",
            " [ 67.8  36.6 114. ]\n",
            " [281.4  39.6  55.8]\n",
            " [ 69.2  20.5  18.3]\n",
            " [147.3  23.9  19.1]\n",
            " [218.4  27.7  53.4]\n",
            " [237.4   5.1  23.5]\n",
            " [ 13.2  15.9  49.6]\n",
            " [228.3  16.9  26.2]\n",
            " [ 62.3  12.6  18.3]\n",
            " [262.9   3.5  19.5]\n",
            " [142.9  29.3  12.6]\n",
            " [240.1  16.7  22.9]\n",
            " [248.8  27.1  22.9]\n",
            " [ 70.6  16.   40.8]\n",
            " [292.9  28.3  43.2]\n",
            " [112.9  17.4  38.6]\n",
            " [ 97.2   1.5  30. ]\n",
            " [265.6  20.    0.3]\n",
            " [ 95.7   1.4   7.4]\n",
            " [290.7   4.1   8.5]\n",
            " [266.9  43.8   5. ]\n",
            " [ 74.7  49.4  45.7]\n",
            " [ 43.1  26.7  35.1]\n",
            " [228.   37.7  32. ]\n",
            " [202.5  22.3  31.6]\n",
            " [177.   33.4  38.7]\n",
            " [293.6  27.7   1.8]\n",
            " [206.9   8.4  26.4]\n",
            " [ 25.1  25.7  43.3]\n",
            " [175.1  22.5  31.5]\n",
            " [ 89.7   9.9  35.7]\n",
            " [239.9  41.5  18.5]\n",
            " [227.2  15.8  49.9]\n",
            " [ 66.9  11.7  36.8]\n",
            " [199.8   3.1  34.6]\n",
            " [100.4   9.6   3.6]\n",
            " [216.4  41.7  39.6]\n",
            " [182.6  46.2  58.7]\n",
            " [262.7  28.8  15.9]\n",
            " [198.9  49.4  60. ]\n",
            " [  7.3  28.1  41.4]\n",
            " [136.2  19.2  16.6]\n",
            " [210.8  49.6  37.7]\n",
            " [210.7  29.5   9.3]\n",
            " [ 53.5   2.   21.4]\n",
            " [261.3  42.7  54.7]\n",
            " [239.3  15.5  27.3]\n",
            " [102.7  29.6   8.4]\n",
            " [131.1  42.8  28.9]\n",
            " [ 69.    9.3   0.9]\n",
            " [ 31.5  24.6   2.2]\n",
            " [139.3  14.5  10.2]\n",
            " [237.4  27.5  11. ]\n",
            " [216.8  43.9  27.2]\n",
            " [199.1  30.6  38.7]\n",
            " [109.8  14.3  31.7]\n",
            " [ 26.8  33.   19.3]\n",
            " [129.4   5.7  31.3]\n",
            " [213.4  24.6  13.1]\n",
            " [ 16.9  43.7  89.4]\n",
            " [ 27.5   1.6  20.7]\n",
            " [120.5  28.5  14.2]\n",
            " [  5.4  29.9   9.4]\n",
            " [116.    7.7  23.1]\n",
            " [ 76.4  26.7  22.3]\n",
            " [239.8   4.1  36.9]\n",
            " [ 75.3  20.3  32.5]\n",
            " [ 68.4  44.5  35.6]\n",
            " [213.5  43.   33.8]\n",
            " [193.2  18.4  65.7]\n",
            " [ 76.3  27.5  16. ]\n",
            " [110.7  40.6  63.2]\n",
            " [ 88.3  25.5  73.4]\n",
            " [109.8  47.8  51.4]\n",
            " [134.3   4.9   9.3]\n",
            " [ 28.6   1.5  33. ]\n",
            " [217.7  33.5  59. ]\n",
            " [250.9  36.5  72.3]\n",
            " [107.4  14.   10.9]\n",
            " [163.3  31.6  52.9]\n",
            " [197.6   3.5   5.9]\n",
            " [184.9  21.   22. ]\n",
            " [289.7  42.3  51.2]\n",
            " [135.2  41.7  45.9]\n",
            " [222.4   4.3  49.8]\n",
            " [296.4  36.3 100.9]\n",
            " [280.2  10.1  21.4]\n",
            " [187.9  17.2  17.9]\n",
            " [238.2  34.3   5.3]\n",
            " [137.9  46.4  59. ]\n",
            " [ 25.   11.   29.7]\n",
            " [ 90.4   0.3  23.2]\n",
            " [ 13.1   0.4  25.6]\n",
            " [255.4  26.9   5.5]\n",
            " [225.8   8.2  56.5]\n",
            " [241.7  38.   23.2]\n",
            " [175.7  15.4   2.4]\n",
            " [209.6  20.6  10.7]\n",
            " [ 78.2  46.8  34.5]\n",
            " [ 75.1  35.   52.7]\n",
            " [139.2  14.3  25.6]\n",
            " [ 76.4   0.8  14.8]\n",
            " [125.7  36.9  79.2]\n",
            " [ 19.4  16.   22.3]\n",
            " [141.3  26.8  46.2]\n",
            " [ 18.8  21.7  50.4]\n",
            " [224.    2.4  15.6]\n",
            " [123.1  34.6  12.4]\n",
            " [229.5  32.3  74.2]\n",
            " [ 87.2  11.8  25.9]\n",
            " [  7.8  38.9  50.6]\n",
            " [ 80.2   0.    9.2]\n",
            " [220.3  49.    3.2]\n",
            " [ 59.6  12.   43.1]\n",
            " [  0.7  39.6   8.7]\n",
            " [265.2   2.9  43. ]\n",
            " [  8.4  27.2   2.1]\n",
            " [219.8  33.5  45.1]\n",
            " [ 36.9  38.6  65.6]\n",
            " [ 48.3  47.    8.5]\n",
            " [ 25.6  39.    9.3]\n",
            " [273.7  28.9  59.7]\n",
            " [ 43.   25.9  20.5]\n",
            " [184.9  43.9   1.7]\n",
            " [ 73.4  17.   12.9]\n",
            " [193.7  35.4  75.6]\n",
            " [220.5  33.2  37.9]\n",
            " [104.6   5.7  34.4]\n",
            " [ 96.2  14.8  38.9]\n",
            " [140.3   1.9   9. ]\n",
            " [240.1   7.3   8.7]\n",
            " [243.2  49.   44.3]\n",
            " [ 38.   40.3  11.9]\n",
            " [ 44.7  25.8  20.6]\n",
            " [280.7  13.9  37. ]\n",
            " [121.    8.4  48.7]\n",
            " [197.6  23.3  14.2]\n",
            " [171.3  39.7  37.7]\n",
            " [187.8  21.1   9.5]\n",
            " [  4.1  11.6   5.7]\n",
            " [ 93.9  43.5  50.5]\n",
            " [149.8   1.3  24.3]\n",
            " [ 11.7  36.9  45.2]\n",
            " [131.7  18.4  34.6]\n",
            " [172.5  18.1  30.7]\n",
            " [ 85.7  35.8  49.3]\n",
            " [188.4  18.1  25.6]\n",
            " [163.5  36.8   7.4]\n",
            " [117.2  14.7   5.4]\n",
            " [234.5   3.4  84.8]\n",
            " [ 17.9  37.6  21.6]\n",
            " [206.8   5.2  19.4]\n",
            " [215.4  23.6  57.6]\n",
            " [284.3  10.6   6.4]\n",
            " [ 50.   11.6  18.4]\n",
            " [164.5  20.9  47.4]\n",
            " [ 19.6  20.1  17. ]\n",
            " [168.4   7.1  12.8]\n",
            " [222.4   3.4  13.1]\n",
            " [276.9  48.9  41.8]\n",
            " [248.4  30.2  20.3]\n",
            " [170.2   7.8  35.2]\n",
            " [276.7   2.3  23.7]\n",
            " [165.6  10.   17.6]\n",
            " [156.6   2.6   8.3]\n",
            " [218.5   5.4  27.4]\n",
            " [ 56.2   5.7  29.7]\n",
            " [287.6  43.   71.8]\n",
            " [253.8  21.3  30. ]\n",
            " [205.   45.1  19.6]\n",
            " [139.5   2.1  26.6]\n",
            " [191.1  28.7  18.2]\n",
            " [286.   13.9   3.7]\n",
            " [ 18.7  12.1  23.4]\n",
            " [ 39.5  41.1   5.8]\n",
            " [ 75.5  10.8   6. ]\n",
            " [ 17.2   4.1  31.6]\n",
            " [166.8  42.    3.6]\n",
            " [149.7  35.6   6. ]\n",
            " [ 38.2   3.7  13.8]\n",
            " [ 94.2   4.9   8.1]\n",
            " [177.    9.3   6.4]\n",
            " [283.6  42.   66.2]\n",
            " [232.1   8.6   8.7]]\n",
            "Отмасштабированные данные:\n",
            " [[ 9.69852266e-01  9.81522472e-01  1.77894547e+00]\n",
            " [-1.19737623e+00  1.08280781e+00  6.69578760e-01]\n",
            " [-1.51615499e+00  1.52846331e+00  1.78354865e+00]\n",
            " [ 5.20496822e-02  1.21785493e+00  1.28640506e+00]\n",
            " [ 3.94182198e-01 -8.41613655e-01  1.28180188e+00]\n",
            " [-1.61540845e+00  1.73103399e+00  2.04592999e+00]\n",
            " [-1.04557682e+00  6.43904671e-01 -3.24708413e-01]\n",
            " [-3.13436589e-01 -2.47406325e-01 -8.72486994e-01]\n",
            " [-1.61657614e+00 -1.42906863e+00 -1.36042422e+00]\n",
            " [ 6.16042873e-01 -1.39530685e+00 -4.30581584e-01]\n",
            " [-9.45155670e-01 -1.17923146e+00 -2.92486143e-01]\n",
            " [ 7.90028350e-01  4.96973404e-02 -1.22232878e+00]\n",
            " [-1.43908760e+00  7.99208859e-01  1.62704048e+00]\n",
            " [-5.78501712e-01 -1.05768905e+00 -1.07502697e+00]\n",
            " [ 6.66253447e-01  6.50657027e-01  7.11007392e-01]\n",
            " [ 5.64664612e-01  1.65000572e+00  1.02862691e+00]\n",
            " [-9.25304978e-01  9.00494200e-01  3.84117072e+00]\n",
            " [ 1.56887609e+00  1.10306488e+00  1.16211917e+00]\n",
            " [-9.08957349e-01 -1.86635121e-01 -5.64073843e-01]\n",
            " [ 3.00679600e-03  4.29449843e-02 -5.27248393e-01]\n",
            " [ 8.33232798e-01  2.99534513e-01  1.05164281e+00]\n",
            " [ 1.05509347e+00 -1.22649795e+00 -3.24708413e-01]\n",
            " [-1.56286250e+00 -4.97243498e-01  8.76721921e-01]\n",
            " [ 9.48833887e-01 -4.29719938e-01 -2.00422516e-01]\n",
            " [-9.89527805e-01 -7.20071247e-01 -5.64073843e-01]\n",
            " [ 1.35285385e+00 -1.33453565e+00 -5.08835667e-01]\n",
            " [-4.83714657e-02  4.07572210e-01 -8.26455181e-01]\n",
            " [ 1.08662104e+00 -4.43224650e-01 -3.52327501e-01]\n",
            " [ 1.18820988e+00  2.59020377e-01 -3.52327501e-01]\n",
            " [-8.92609721e-01 -4.90491142e-01  4.71641962e-01]\n",
            " [ 1.70316018e+00  3.40048650e-01  5.82118314e-01]\n",
            " [-3.98677796e-01 -3.95958157e-01  3.70371972e-01]\n",
            " [-5.82004775e-01 -1.46958277e+00 -2.55016247e-02]\n",
            " [ 1.38438142e+00 -2.20396901e-01 -1.39264649e+00]\n",
            " [-5.99520091e-01 -1.47633512e+00 -1.06582061e+00]\n",
            " [ 1.67747105e+00 -1.29402151e+00 -1.01518562e+00]\n",
            " [ 1.39956136e+00  1.38666383e+00 -1.17629696e+00]\n",
            " [-8.44734522e-01  1.76479577e+00  6.97197848e-01]\n",
            " [-1.21372386e+00  2.32010953e-01  2.09260624e-01]\n",
            " [ 9.45330823e-01  9.74770116e-01  6.65620024e-02]\n",
            " [ 6.47570443e-01 -6.50927121e-02  4.81492770e-02]\n",
            " [ 3.49810063e-01  6.84418807e-01  3.74975153e-01]\n",
            " [ 1.71133400e+00  2.99534513e-01 -1.32359877e+00]\n",
            " [ 6.98948705e-01 -1.00367020e+00 -1.91216154e-01]\n",
            " [-1.42390765e+00  1.64487393e-01  5.86721496e-01]\n",
            " [ 3.27623995e-01 -5.15880000e-02  4.35460956e-02]\n",
            " [-6.69581357e-01 -9.02384859e-01  2.36879713e-01]\n",
            " [ 1.08428567e+00  1.23135965e+00 -5.54867481e-01]\n",
            " [ 9.35989321e-01 -5.03995854e-01  8.90531465e-01]\n",
            " [-9.35814168e-01 -7.80842451e-01  2.87514708e-01]\n",
            " [ 6.16042873e-01 -1.36154507e+00  1.86244718e-01]\n",
            " [-5.44638766e-01 -9.22641928e-01 -1.24074150e+00]\n",
            " [ 8.09879042e-01  1.24486436e+00  4.16403786e-01]\n",
            " [ 4.15200577e-01  1.54872038e+00  1.29561142e+00]\n",
            " [ 1.35051848e+00  3.73810430e-01 -6.74550196e-01]\n",
            " [ 6.05533683e-01  1.76479577e+00  1.35545278e+00]\n",
            " [-1.63175608e+00  3.26543937e-01  4.99261050e-01]\n",
            " [-1.26606546e-01 -2.74415749e-01 -6.42327927e-01]\n",
            " [ 7.44488528e-01  1.77830048e+00  3.28943340e-01]\n",
            " [ 7.43320840e-01  4.21076922e-01 -9.78360166e-01]\n",
            " [-1.09228433e+00 -1.43582099e+00 -4.21375221e-01]\n",
            " [ 1.33417085e+00  1.31238792e+00  1.11148417e+00]\n",
            " [ 1.07727954e+00 -5.24252922e-01 -1.49787521e-01]\n",
            " [-5.17781948e-01  4.27829278e-01 -1.01978880e+00]\n",
            " [-1.86158622e-01  1.31914027e+00 -7.61366196e-02]\n",
            " [-9.11292725e-01 -9.42898996e-01 -1.36502740e+00]\n",
            " [-1.34917564e+00  9.02114765e-02 -1.30518604e+00]\n",
            " [-9.04082253e-02 -5.91776482e-01 -9.36931533e-01]\n",
            " [ 1.05509347e+00  2.86029801e-01 -9.00106083e-01]\n",
            " [ 8.14549794e-01  1.39341619e+00 -1.54390703e-01]\n",
            " [ 6.07869059e-01  4.95352838e-01  3.74975153e-01]\n",
            " [-4.34876116e-01 -6.05281194e-01  5.27524584e-02]\n",
            " [-1.40405696e+00  6.57409383e-01 -5.18042030e-01]\n",
            " [-2.06009314e-01 -1.18598381e+00  3.43397329e-02]\n",
            " [ 7.74848409e-01  9.02114765e-02 -8.03439274e-01]\n",
            " [-1.51965805e+00  1.37991148e+00  2.70878810e+00]\n",
            " [-1.39588315e+00 -1.46283041e+00 -4.53597491e-01]\n",
            " [-3.09933525e-01  3.53553362e-01 -7.52804279e-01]\n",
            " [-1.65394214e+00  4.48086346e-01 -9.73756984e-01]\n",
            " [-3.62479475e-01 -1.05093669e+00 -3.43121138e-01]\n",
            " [-8.24883830e-01  2.32010953e-01 -3.79946589e-01]\n",
            " [ 1.08311798e+00 -1.29402151e+00  2.92117889e-01]\n",
            " [-8.37728396e-01 -2.00139833e-01  8.95779092e-02]\n",
            " [-9.18298852e-01  1.43393033e+00  2.32276531e-01]\n",
            " [ 7.76016097e-01  1.33264499e+00  1.49419267e-01]\n",
            " [ 5.38975481e-01 -3.28434597e-01  1.61783412e+00]\n",
            " [-8.26051518e-01  2.86029801e-01 -6.69947015e-01]\n",
            " [-4.24366926e-01  1.17058844e+00  1.50275459e+00]\n",
            " [-6.85928986e-01  1.50982681e-01  1.97227908e+00]\n",
            " [-4.34876116e-01  1.65675807e+00  9.59579186e-01]\n",
            " [-1.48792614e-01 -1.24000266e+00 -9.78360166e-01]\n",
            " [-1.38303858e+00 -1.46958277e+00  1.12593816e-01]\n",
            " [ 8.25058983e-01  6.91171163e-01  1.30942097e+00]\n",
            " [ 1.21273132e+00  8.93741844e-01  1.92164409e+00]\n",
            " [-4.62900623e-01 -6.25538262e-01 -9.04709264e-01]\n",
            " [ 1.89836839e-01  5.62876398e-01  1.02862691e+00]\n",
            " [ 5.90353742e-01 -1.33453565e+00 -1.13486833e+00]\n",
            " [ 4.42057396e-01 -1.52873340e-01 -3.93756133e-01]\n",
            " [ 1.66579418e+00  1.28537849e+00  9.50372823e-01]\n",
            " [-1.38283424e-01  1.24486436e+00  7.06404211e-01]\n",
            " [ 8.79940308e-01 -1.28051680e+00  8.85928284e-01]\n",
            " [ 1.74402926e+00  8.80237132e-01  3.23815396e+00]\n",
            " [ 1.55486384e+00 -8.88880147e-01 -4.21375221e-01]\n",
            " [ 4.77088029e-01 -4.09462869e-01 -5.82486569e-01]\n",
            " [ 1.06443498e+00  7.45190011e-01 -1.16248742e+00]\n",
            " [-1.06755854e-01  1.56222509e+00  1.30942097e+00]\n",
            " [-1.42507534e+00 -8.28108943e-01 -3.93111688e-02]\n",
            " [-6.61407543e-01 -1.55061104e+00 -3.38517957e-01]\n",
            " [-1.56403019e+00 -1.54385868e+00 -2.28041604e-01]\n",
            " [ 1.26527727e+00  2.45515665e-01 -1.15328106e+00]\n",
            " [ 9.19641692e-01 -1.01717491e+00  1.19434143e+00]\n",
            " [ 1.10530405e+00  9.95027184e-01 -3.38517957e-01]\n",
            " [ 3.34630122e-01 -5.31005278e-01 -1.29597968e+00]\n",
            " [ 7.30476274e-01 -1.79882765e-01 -9.13915627e-01]\n",
            " [-8.03865450e-01  1.58923451e+00  1.81641536e-01]\n",
            " [-8.40063771e-01  7.92456503e-01  1.01942054e+00]\n",
            " [-9.15759131e-02 -6.05281194e-01 -2.28041604e-01]\n",
            " [-8.24883830e-01 -1.51684926e+00 -7.25185191e-01]\n",
            " [-2.49213762e-01  9.20751268e-01  2.23926360e+00]\n",
            " [-1.49046586e+00 -4.90491142e-01 -3.79946589e-01]\n",
            " [-6.70544700e-02  2.38763309e-01  7.20213755e-01]\n",
            " [-1.49747198e+00 -1.05606848e-01  9.13547372e-01]\n",
            " [ 8.98623313e-01 -1.40881156e+00 -6.88359740e-01]\n",
            " [-2.79573643e-01  7.65447079e-01 -8.35661544e-01]\n",
            " [ 9.62846140e-01  6.10142891e-01  2.00910454e+00]\n",
            " [-6.98773552e-01 -7.74090095e-01 -2.14232060e-01]\n",
            " [-1.62591764e+00  1.05579839e+00  9.22753735e-01]\n",
            " [-7.80511695e-01 -1.57086811e+00 -9.82963347e-01]\n",
            " [ 8.55418865e-01  1.73778635e+00 -1.25915423e+00]\n",
            " [-1.02105537e+00 -7.60585383e-01  5.77515133e-01]\n",
            " [-1.70882347e+00  1.10306488e+00 -1.00597925e+00]\n",
            " [ 1.37971067e+00 -1.37504978e+00  5.72911952e-01]\n",
            " [-1.61891151e+00  2.65772733e-01 -1.30978922e+00]\n",
            " [ 8.49580427e-01  6.91171163e-01  6.69578760e-01]\n",
            " [-1.28612050e+00  1.03554132e+00  1.61323094e+00]\n",
            " [-1.15300409e+00  1.60273923e+00 -1.01518562e+00]\n",
            " [-1.41806922e+00  1.06255074e+00 -9.78360166e-01]\n",
            " [ 1.47896413e+00  3.80562786e-01  1.34164324e+00]\n",
            " [-1.21489154e+00  1.77992105e-01 -4.62803854e-01]\n",
            " [ 4.42057396e-01  1.39341619e+00 -1.32820195e+00]\n",
            " [-8.59914463e-01 -4.22967582e-01 -8.12645637e-01]\n",
            " [ 5.44813920e-01  8.19465927e-01  2.07354907e+00]\n",
            " [ 8.57754241e-01  6.70914095e-01  3.38149702e-01]\n",
            " [-4.95595880e-01 -1.18598381e+00  1.77038355e-01]\n",
            " [-5.93681653e-01 -5.71519414e-01  3.84181516e-01]\n",
            " [-7.87313476e-02 -1.44257334e+00 -9.92169710e-01]\n",
            " [ 1.08662104e+00 -1.07794612e+00 -1.00597925e+00]\n",
            " [ 1.12281936e+00  1.73778635e+00  6.32753309e-01]\n",
            " [-1.27327593e+00  1.15033137e+00 -8.58677450e-01]\n",
            " [-1.19504085e+00  1.71239749e-01 -4.58200672e-01]\n",
            " [ 1.56070228e+00 -6.32290618e-01  2.96721070e-01]\n",
            " [-3.04095087e-01 -1.00367020e+00  8.35293289e-01]\n",
            " [ 5.90353742e-01  2.43084817e-03 -7.52804279e-01]\n",
            " [ 2.83251860e-01  1.10981724e+00  3.28943340e-01]\n",
            " [ 4.75920341e-01 -1.46120984e-01 -9.69153803e-01]\n",
            " [-1.66912209e+00 -7.87594807e-01 -1.14407469e+00]\n",
            " [-6.20538471e-01  1.36640677e+00  9.18150553e-01]\n",
            " [ 3.21989902e-02 -1.48308748e+00 -2.87882962e-01]\n",
            " [-1.58037782e+00  9.20751268e-01  6.74181942e-01]\n",
            " [-1.79152496e-01 -3.28434597e-01  1.86244718e-01]\n",
            " [ 2.97264113e-01 -3.48691665e-01  6.72064478e-03]\n",
            " [-7.16288868e-01  8.46475352e-01  8.62912377e-01]\n",
            " [ 4.82926468e-01 -3.48691665e-01 -2.28041604e-01]\n",
            " [ 1.92172214e-01  9.13998912e-01 -1.06582061e+00]\n",
            " [-3.48467222e-01 -5.78271770e-01 -1.15788424e+00]\n",
            " [ 1.02123053e+00 -1.34128800e+00  2.49704176e+00]\n",
            " [-1.50798117e+00  9.68017760e-01 -4.12168859e-01]\n",
            " [ 6.97781017e-01 -1.21974559e+00 -5.13438849e-01]\n",
            " [ 7.98202165e-01  2.26879163e-02  1.24497643e+00]\n",
            " [ 1.60273904e+00 -8.55118367e-01 -1.11185242e+00]\n",
            " [-1.13315340e+00 -7.87594807e-01 -5.59470662e-01]\n",
            " [ 2.03849092e-01 -1.59625696e-01  7.75451931e-01]\n",
            " [-1.48813048e+00 -2.13644545e-01 -6.23915201e-01]\n",
            " [ 2.49388915e-01 -1.09145083e+00 -8.17248818e-01]\n",
            " [ 8.79940308e-01 -1.34128800e+00 -8.03439274e-01]\n",
            " [ 1.51633014e+00  1.73103399e+00  5.17673775e-01]\n",
            " [ 1.18353913e+00  4.68343414e-01 -4.72010216e-01]\n",
            " [ 2.70407294e-01 -1.04418434e+00  2.13863806e-01]\n",
            " [ 1.51399477e+00 -1.41556392e+00 -3.15502050e-01]\n",
            " [ 2.16693657e-01 -8.95632503e-01 -5.96296113e-01]\n",
            " [ 1.11601758e-01 -1.39530685e+00 -1.02439198e+00]\n",
            " [ 8.34400486e-01 -1.20624088e+00 -1.45184340e-01]\n",
            " [-1.06075676e+00 -1.18598381e+00 -3.93111688e-02]\n",
            " [ 1.64127273e+00  1.33264499e+00  1.89862818e+00]\n",
            " [ 1.24659427e+00 -1.32616272e-01 -2.55016247e-02]\n",
            " [ 6.76762637e-01  1.47444446e+00 -5.04232486e-01]\n",
            " [-8.80728498e-02 -1.42906863e+00 -1.82009791e-01]\n",
            " [ 5.14454038e-01  3.67058074e-01 -5.68677025e-01]\n",
            " [ 1.62258973e+00 -6.32290618e-01 -1.23613832e+00]\n",
            " [-1.49863967e+00 -7.53833027e-01 -3.29311594e-01]\n",
            " [-1.25576062e+00  1.20435022e+00 -1.13947151e+00]\n",
            " [-8.35393020e-01 -8.41613655e-01 -1.13026515e+00]\n",
            " [-1.51615499e+00 -1.29402151e+00  4.81492770e-02]\n",
            " [ 2.30705910e-01  1.26512143e+00 -1.24074150e+00]\n",
            " [ 3.10313024e-02  8.32970639e-01 -1.13026515e+00]\n",
            " [-1.27094056e+00 -1.32103093e+00 -7.71217005e-01]\n",
            " [-6.17035408e-01 -1.24000266e+00 -1.03359834e+00]\n",
            " [ 3.49810063e-01 -9.42898996e-01 -1.11185242e+00]\n",
            " [ 1.59456522e+00  1.26512143e+00  1.64085003e+00]\n",
            " [ 9.93206022e-01 -9.90165488e-01 -1.00597925e+00]]\n"
          ]
        }
      ],
      "source": [
        "X = df.drop('sales', axis=1).values  # Преобразуем в массив NumPy\n",
        "y = df['sales'].values  # Преобразуем целевую переменную в массив NumPy\n",
        "\n",
        "# Масштабирование (стандартизация) данных\n",
        "mean = X.mean(axis=0)  # Вычисляем среднее по каждому столбцу axis=0. Если axis не указан, по умолчанию используется значение None, что означает, что функция будет применяться ко всему массиву, и результат будет возвращен как скаляр.\n",
        "std = X.std(axis=0)    # Вычисляем стандартное отклонение по каждому столбцу\n",
        "\n",
        "# Стандартизация: вычитаем среднее и делим на стандартное отклонение\n",
        "X_scaled = (X - mean) / std\n",
        "\n",
        "# Проверка результатов\n",
        "print(\"Исходные данные:\\n\", X)\n",
        "print(\"Отмасштабированные данные:\\n\", X_scaled)"
      ]
    },
    {
      "cell_type": "markdown",
      "metadata": {
        "id": "8WkNYILHDUK1"
      },
      "source": [
        "**Добавим единичный столбец**"
      ]
    },
    {
      "cell_type": "code",
      "execution_count": 578,
      "metadata": {
        "id": "EVl5tEGtDUK1"
      },
      "outputs": [],
      "source": [
        "X = np.hstack([np.ones(X_scaled.shape[0]).reshape(-1, 1), X_scaled])"
      ]
    },
    {
      "cell_type": "markdown",
      "metadata": {
        "id": "m53tZA5fDUK1"
      },
      "source": [
        "**Создайте функцию mse_error для вычисления среднеквадратичной ошибки, принимающую два аргумента: реальные значения и предсказывающие, и возвращающую значение mse** (0.5 балла)"
      ]
    },
    {
      "cell_type": "code",
      "execution_count": 579,
      "metadata": {
        "id": "0cvtC08Aa_YK"
      },
      "outputs": [],
      "source": [
        "def mse_error(y_true, y_pred):\n",
        "    \"\"\"\n",
        "    Вычисляет среднеквадратичную ошибку (MSE) между реальными и предсказанными значениями.\n",
        "\n",
        "    :param y_true: Реальные значения (numpy array)\n",
        "    :param y_pred: Предсказанные значения (numpy array)\n",
        "    :return: Значение MSE\n",
        "    \"\"\"\n",
        "    # Вычисляем MSE\n",
        "    mse = np.mean((y_true - y_pred) ** 2)\n",
        "    return mse"
      ]
    },
    {
      "cell_type": "markdown",
      "metadata": {
        "id": "lpOLhdvBDUK2"
      },
      "source": [
        "**Сделайте наивный прогноз: предскажите продажи средним значением. После этого рассчитайте среднеквадратичную ошибку для этого прогноза** (0.5 балла)"
      ]
    },
    {
      "cell_type": "code",
      "execution_count": 580,
      "metadata": {
        "id": "kLV_XljVa_YZ"
      },
      "outputs": [
        {
          "name": "stdout",
          "output_type": "stream",
          "text": [
            "Среднее значение продаж: 14.0225\n",
            "Среднеквадратичная ошибка (MSE) для наивного прогноза: 27.085743750000002\n"
          ]
        }
      ],
      "source": [
        "# Наивный прогноз: предсказание на основе среднего значения\n",
        "mean_sales = np.mean(y)  # Вычисляем среднее значение продаж\n",
        "y_pred_naive = np.full_like(y, mean_sales)  # Создаем массив предсказанных значений\n",
        "\n",
        "# Рассчитываем среднеквадратичную ошибку для наивного прогноза\n",
        "mse_naive = mse_error(y, y_pred_naive)\n",
        "\n",
        "# Выводим результаты\n",
        "print(\"Среднее значение продаж:\", mean_sales)\n",
        "print(\"Среднеквадратичная ошибка (MSE) для наивного прогноза:\", mse_naive)"
      ]
    },
    {
      "cell_type": "markdown",
      "metadata": {
        "id": "BbybL2ola_ZM"
      },
      "source": [
        "**Создайте функцию *lin_pred*, которая может по матрице предикторов *X* и вектору весов линейной модели *w* получить вектор прогнозов** (0.5 балла)"
      ]
    },
    {
      "cell_type": "code",
      "execution_count": 581,
      "metadata": {
        "id": "1Cyz-Luaa_ZO"
      },
      "outputs": [],
      "source": [
        "def lin_pred(X, w):\n",
        "    \"\"\"\n",
        "    Функция для получения вектора прогнозов на основе матрицы предикторов и вектора весов.\n",
        "\n",
        "    :param X: Матрица предикторов (numpy array)\n",
        "    :param w: Вектор весов (numpy array)\n",
        "    :return: Вектор прогнозов (numpy array)\n",
        "    \"\"\"\n",
        "    # Проверка на совместимость размеров\n",
        "    if X.shape[1] != w.shape[0]:\n",
        "        raise ValueError(\"Количество столбцов в X должно совпадать с количеством элементов в w.\")\n",
        "    \n",
        "    # Вычисляем прогнозы\n",
        "    predictions = X @ w  # Линейное предсказание\n",
        "    return predictions"
      ]
    },
    {
      "cell_type": "markdown",
      "metadata": {
        "id": "BU4adBrya_Zm"
      },
      "source": [
        "**Создайте функцию *stoch_grad_step* для реализации шага стохастического градиентного спуска. (1.5 балла) \n",
        "Функция должна принимать на вход следующие аргументы:**\n",
        "* матрицу *X*\n",
        "* вектора *y* и *w*\n",
        "* число *train_ind* - индекс объекта обучающей выборки (строки матрицы *X*), по которому считается изменение весов\n",
        "* число *$\\eta$* (eta) - шаг градиентного спуска\n",
        "\n",
        "Результатом будет вектор обновленных весов"
      ]
    },
    {
      "cell_type": "markdown",
      "metadata": {
        "id": "dyLY-P02DUK5"
      },
      "source": [
        "Шаг для стохастического градиентного спуска выглядит следующим образом:"
      ]
    },
    {
      "cell_type": "markdown",
      "metadata": {
        "id": "ORsAyIKNDUK5"
      },
      "source": [
        "$$\\Large w_j \\leftarrow w_j - \\frac{2\\eta}{\\ell} \\sum_{i=1}^\\ell{{x_{ij}((w_0 + w_1x_{i1} + w_2x_{i2} +  w_3x_{i3}) - y_i)}}$$"
      ]
    },
    {
      "cell_type": "markdown",
      "metadata": {
        "id": "CQl2FrpuDUK6"
      },
      "source": [
        "Для того, чтобы написать функцию, нужно сделать следующее:\n",
        "    \n",
        "*  посчитать направление изменения: умножить объект обучающей выборки на 2 и на разницу между предсказанным значением и реальным, а потом поделить на количество элементов в выборке.\n",
        "* вернуть разницу между вектором весов и направлением изменения, умноженным на шаг градиентного спуска"
      ]
    },
    {
      "cell_type": "code",
      "execution_count": 582,
      "metadata": {
        "id": "YUhVQGsja_Zn"
      },
      "outputs": [],
      "source": [
        "def stoch_grad_step(X, y, w, train_ind, eta):\n",
        "    \"\"\"\n",
        "    Выполняет один шаг стохастического градиентного спуска.\n",
        "\n",
        "    :param X: Матрица предикторов (numpy array)\n",
        "    :param y: Вектор реальных значений (numpy array)\n",
        "    :param w: Вектор весов (numpy array)\n",
        "    :param train_ind: Индекс объекта обучающей выборки (строки матрицы X)\n",
        "    :param eta: Шаг градиентного спуска\n",
        "    :return: Обновленный вектор весов (numpy array)\n",
        "    \"\"\"\n",
        "\n",
        "    # Предсказанное значение для объекта обучающей выборки\n",
        "    y_pred = X[train_ind]@w\n",
        "\n",
        "    # Вычисляем направление изменения весов\n",
        "    gradient = (2 * X[train_ind] * (y_pred - y[train_ind])) / y[train_ind].size\n",
        "\n",
        "    # Обновляем веса\n",
        "    w_updated = w - eta * gradient\n",
        "\n",
        "    return w_updated"
      ]
    },
    {
      "cell_type": "markdown",
      "metadata": {
        "id": "pXwIFd0Ma_Zx"
      },
      "source": [
        "**Создайте функцию *stochastic_gradient_descent*, для реализации стохастического градиентного спуска (2.5 балла)**\n",
        "\n",
        "**Функция принимает на вход следующие аргументы:**\n",
        "- Матрицу признаков X\n",
        "- Целевую переменнную\n",
        "- Изначальную точку (веса модели)\n",
        "- Параметр, определяющий темп обучения\n",
        "- Максимальное число итераций\n",
        "- Евклидово расстояние между векторами весов на соседних итерациях градиентного спуска,при котором алгоритм прекращает работу \n",
        "\n",
        "**На каждой итерации в вектор (список) должно записываться текущее значение среднеквадратичной ошибки. Функция должна возвращать вектор весов $w$, а также вектор (список) ошибок.**"
      ]
    },
    {
      "cell_type": "markdown",
      "metadata": {
        "id": "ZVeoNF1JDUK7"
      },
      "source": [
        "Алгоритм сследующий:\n",
        "    \n",
        "* Инициализируйте расстояние между векторами весов на соседних итерациях большим числом (можно бесконечностью)\n",
        "* Создайте пустой список для фиксации ошибок\n",
        "* Создайте счетчик итераций\n",
        "* Реализуйте оновной цикл обучения пока расстояние между векторами весов больше того, при котором надо прекратить работу (когда расстояния станут слишком маленькими - значит, мы застряли в одном месте) и количество итераций меньше максимально разрешенного: сгенерируйте случайный индекс, запишите текущую ошибку в вектор ошибок, запишите в переменную текущий шаг стохастического спуска с использованием функции, написанной ранее. Далее рассчитайте текущее расстояние между векторами весов и прибавьте к счетчику итераций 1.\n",
        "* Верните вектор весов и вектор ошибок"
      ]
    },
    {
      "cell_type": "code",
      "execution_count": 583,
      "metadata": {
        "id": "CD_xcFNfa_Zy"
      },
      "outputs": [],
      "source": [
        "def stochastic_gradient_descent(X, y, initial_w, eta, max_iter, tol):\n",
        "    \"\"\"\n",
        "    Реализует стохастический градиентный спуск.\n",
        "\n",
        "    :param X: Матрица признаков (numpy array)\n",
        "    :param y: Целевая переменная (numpy array)\n",
        "    :param initial_w: Изначальная точка (веса модели) (numpy array)\n",
        "    :param eta: Темп обучения\n",
        "    :param max_iter: Максимальное число итераций\n",
        "    :param tol: Евклидово расстояние для прекращения работы\n",
        "    :return: Вектор весов и список ошибок\n",
        "    \"\"\"\n",
        "    \n",
        "    # Инициализация\n",
        "    w = initial_w.copy()  # Копируем начальные веса\n",
        "    error_list = []  # Список для хранения ошибок\n",
        "    distance = np.inf  # Начальное значение расстояния между векторами весов\n",
        "    iter_count = 0  # Счетчик итераций\n",
        "\n",
        "    while distance > tol and iter_count < max_iter:\n",
        "        # Генерируем случайный индекс для стохастического градиентного спуска\n",
        "        train_ind = np.random.randint(len(y))\n",
        "        \n",
        "        # Записываем текущую ошибку в список\n",
        "        y_pred = lin_pred(X, w)  # Предсказание с текущими весами\n",
        "        current_error = mse_error(y, y_pred) # Среднеквадратичная ошибка\n",
        "        error_list.append(current_error)\n",
        "\n",
        "        # Обновляем веса с помощью стохастического градиентного спуска\n",
        "        new_w = stoch_grad_step(X, y, w, train_ind, eta)\n",
        "\n",
        "        # Вычисляем евклидово расстояние между новыми и старыми весами\n",
        "        distance = np.linalg.norm(new_w - w)\n",
        "\n",
        "        # Обновляем вектор весов на новые значения\n",
        "        w = new_w\n",
        "        \n",
        "        # Увеличиваем счетчик итераций\n",
        "        iter_count += 1\n",
        "\n",
        "    return w, error_list"
      ]
    },
    {
      "cell_type": "markdown",
      "metadata": {
        "id": "0OqHO1Rta_Z7"
      },
      "source": [
        " **Запустите $10^5$ итераций стохастического градиентного спуска. Укажите вектор начальных весов, состоящий из нулей. Можете поэкспериментировать с параметром, отвечающим за темп обучения.**"
      ]
    },
    {
      "cell_type": "markdown",
      "metadata": {
        "id": "N6fHHT6vDUK8"
      },
      "source": [
        "**Постройте график зависимости ошибки от номера итерации**"
      ]
    },
    {
      "cell_type": "code",
      "execution_count": 588,
      "metadata": {},
      "outputs": [
        {
          "name": "stdout",
          "output_type": "stream",
          "text": [
            "Лучший темп обучения (eta): 0.0010909090909090903\n",
            "Минимальная ошибка: 2.791340649525978\n",
            "Финальные веса: [14.07418625  3.97287169  2.78265511 -0.06267778]\n"
          ]
        },
        {
          "data": {
            "image/png": "[encoded data removed]",
            "text/plain": [
              "<Figure size 1000x600 with 1 Axes>"
            ]
          },
          "metadata": {},
          "output_type": "display_data"
        }
      ],
      "source": [
        "# Параметры для стохастического градиентного спуска\n",
        "initial_w = np.zeros(X.shape[1])  # Изначальные веса нулями\n",
        "max_iter = int(1e5)   # Максимальное число итераций (10^5)\n",
        "tol = 1e-6            # Евклидово расстояние для прекращения работы\n",
        "\n",
        "# Поиск минимальной ошибки при изменении eta от 0.01 до 0.001\n",
        "best_eta = None\n",
        "min_error = np.inf\n",
        "best_weights = None\n",
        "error_history = []\n",
        "all_errors = {}  # Словарь для хранения ошибок для каждого значения eta\n",
        "\n",
        "# Изменяем eta от 0.01 до 0.001\n",
        "for eta in np.linspace(0.01, 0.001, num=100):\n",
        "    #np.random.seed(42)\n",
        "    final_weights, errors = stochastic_gradient_descent(X, y, initial_w, eta, max_iter, tol)\n",
        "    \n",
        "    # Сохраняем историю ошибок для графика\n",
        "    error_history.append(errors[-1])\n",
        "    \n",
        "    # Сохраняем все ошибки для текущего значения eta\n",
        "    all_errors[eta] = errors\n",
        "    \n",
        "    # Проверяем наименьшую ошибку\n",
        "    if errors[-1] < min_error:\n",
        "        min_error = errors[-1]\n",
        "        best_eta = eta\n",
        "        best_weights = final_weights\n",
        "\n",
        "# Выводим результаты\n",
        "print(\"Лучший темп обучения (eta):\", best_eta)\n",
        "print(\"Минимальная ошибка:\", min_error)\n",
        "print(\"Финальные веса:\", best_weights)\n",
        "\n",
        "# Построение графика зависимости ошибки от номера итерации для наилучшего eta\n",
        "plt.figure(figsize=(10, 6))\n",
        "plt.plot(all_errors[best_eta], label='Ошибка (MSE)')\n",
        "\n",
        "# Добавляем линию для минимального MSE\n",
        "min_mse = min_error  # Находим минимальное значение MSE\n",
        "plt.axhline(y=min_mse, color='r', linestyle='--', label=f'Минимальный MSE: {min_mse:.4f}')\n",
        "\n",
        "plt.title('Зависимость ошибки от номера итерации (оптимальный eta)')\n",
        "plt.xlabel('Номер итерации')\n",
        "plt.ylabel('Среднеквадратичная ошибка')\n",
        "plt.grid()\n",
        "plt.legend()\n",
        "plt.show()"
      ]
    },
    {
      "cell_type": "markdown",
      "metadata": {
        "id": "O-MVOcJ6a_aY"
      },
      "source": [
        "**Выведите вектор весов, к которому сошелся метод.**"
      ]
    },
    {
      "cell_type": "code",
      "execution_count": 590,
      "metadata": {
        "id": "MPjVkXe4DUK9"
      },
      "outputs": [
        {
          "name": "stdout",
          "output_type": "stream",
          "text": [
            "Финальные веса при оптимальном eta: [14.07418625  3.97287169  2.78265511 -0.06267778]\n"
          ]
        }
      ],
      "source": [
        "print(\"Финальные веса при оптимальном eta:\", best_weights)"
      ]
    },
    {
      "cell_type": "markdown",
      "metadata": {
        "id": "qabzMc3Qa_a5"
      },
      "source": [
        "**Выведите среднеквадратичную ошибку на последней итерации.**"
      ]
    },
    {
      "cell_type": "code",
      "execution_count": 589,
      "metadata": {
        "id": "7tPWleMIa_a7"
      },
      "outputs": [
        {
          "name": "stdout",
          "output_type": "stream",
          "text": [
            "Минимальная ошибка при оптимальном eta: 2.791340649525978\n"
          ]
        }
      ],
      "source": [
        "print(\"Минимальная ошибка при оптимальном eta:\", min_error)"
      ]
    },
    {
      "cell_type": "markdown",
      "metadata": {},
      "source": [
        "ВЫВОД:\n",
        "1) Эффективность моделей: Координатный спуск продемонстрировал наилучшие результаты по сравнению с наивным прогнозом и стохастическим градиентным спуском по критерию MSE.\n",
        "2) Сравнение методов: Хотя стохастический градиентный спуск показал немного более высокую ошибку по сравнению с координатным спуском, он все же обеспечивает хорошую производительность и может быть предпочтительным в сценариях с большими объемами данных из-за своей скорости.\n",
        "3) Применимость моделей: Выбор метода зависит от конкретной задачи и доступных ресурсов: координатный спуск может быть более точным, но более медленным, тогда как стохастический градиентный спуск может быть быстрее при достаточной точности."
      ]
    }
  ],
  "metadata": {
    "colab": {
      "collapsed_sections": [],
      "name": "Практика_Оптимизация.ipynb",
      "provenance": [],
      "toc_visible": true
    },
    "kernelspec": {
      "display_name": "Python 3",
      "language": "python",
      "name": "python3"
    },
    "language_info": {
      "codemirror_mode": {
        "name": "ipython",
        "version": 3
      },
      "file_extension": ".py",
      "mimetype": "text/x-python",
      "name": "python",
      "nbconvert_exporter": "python",
      "pygments_lexer": "ipython3",
      "version": "3.13.1"
    }
  },
  "nbformat": 4,
  "nbformat_minor": 0
}
