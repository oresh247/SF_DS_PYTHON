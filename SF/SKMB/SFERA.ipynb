{
 "cells": [
  {
   "cell_type": "code",
   "execution_count": 1,
   "metadata": {},
   "outputs": [
    {
     "name": "stderr",
     "output_type": "stream",
     "text": [
      "c:\\Python311\\Lib\\site-packages\\urllib3\\connectionpool.py:1045: InsecureRequestWarning: Unverified HTTPS request is being made to host 'sfera.inno.local'. Adding certificate verification is strongly advised. See: https://urllib3.readthedocs.io/en/1.26.x/advanced-usage.html#ssl-warnings\n",
      "  warnings.warn(\n"
     ]
    },
    {
     "data": {
      "text/plain": [
       "<Response [200]>"
      ]
     },
     "execution_count": 1,
     "metadata": {},
     "output_type": "execute_result"
    }
   ],
   "source": [
    "import json\n",
    "import requests\n",
    "import csv\n",
    "import configparser\n",
    "import warnings\n",
    "import uuid\n",
    "import pandas as pd\n",
    "import sqlite3 as sl\n",
    "import re\n",
    "\n",
    "\n",
    "\n"
   ]
  },
  {
   "cell_type": "code",
   "execution_count": 108,
   "metadata": {},
   "outputs": [],
   "source": [
    "my_data  = pd.read_csv('my_data.secret', sep=',',index_col='parameters')\n",
    "my_data.astype(str)\n",
    "\n",
    "devUser=my_data.loc['devUser'].values [0]\n",
    "devPassword=my_data.loc['devPassword'].values [0]\n",
    "sferaUrlLogin=my_data.loc['sferaUrlLogin'].values [0]\n",
    "sferaUrl=my_data.loc['sferaUrl'].values [0]\n",
    "sferaTestCaseUrl=my_data.loc['sferaTestCaseUrl'].values [0]\n",
    "sferaTSectionsUrl=my_data.loc['sferaTSectionsUrl'].values [0]\n",
    "sferaSprintUrl=my_data.loc['sferaSprintUrl'].values [0]\n",
    "sferaUrlSearch=my_data.loc['sferaUrlSearch'].values [0]\n",
    "\n",
    "\n",
    "\n"
   ]
  },
  {
   "cell_type": "code",
   "execution_count": 107,
   "metadata": {},
   "outputs": [
    {
     "name": "stdout",
     "output_type": "stream",
     "text": [
      "vtb4068421@corp.dev.vtb\n"
     ]
    }
   ],
   "source": [
    "print(devUser)"
   ]
  },
  {
   "cell_type": "code",
   "execution_count": 109,
   "metadata": {},
   "outputs": [
    {
     "name": "stderr",
     "output_type": "stream",
     "text": [
      "c:\\Python311\\Lib\\site-packages\\urllib3\\connectionpool.py:1045: InsecureRequestWarning: Unverified HTTPS request is being made to host 'sfera.inno.local'. Adding certificate verification is strongly advised. See: https://urllib3.readthedocs.io/en/1.26.x/advanced-usage.html#ssl-warnings\n",
      "  warnings.warn(\n"
     ]
    },
    {
     "data": {
      "text/plain": [
       "<Response [200]>"
      ]
     },
     "execution_count": 109,
     "metadata": {},
     "output_type": "execute_result"
    }
   ],
   "source": [
    "session = requests.Session()\n",
    "session.post(sferaUrlLogin, json={\"username\": devUser, \"password\": devPassword}, verify=False)"
   ]
  },
  {
   "cell_type": "code",
   "execution_count": 38,
   "metadata": {},
   "outputs": [
    {
     "name": "stderr",
     "output_type": "stream",
     "text": [
      "c:\\Python311\\Lib\\site-packages\\urllib3\\connectionpool.py:1045: InsecureRequestWarning: Unverified HTTPS request is being made to host 'sfera.inno.local'. Adding certificate verification is strongly advised. See: https://urllib3.readthedocs.io/en/1.26.x/advanced-usage.html#ssl-warnings\n",
      "  warnings.warn(\n"
     ]
    },
    {
     "name": "stdout",
     "output_type": "stream",
     "text": [
      "         number                                               name  \\\n",
      "0    SKOKR-5977  Кастомизация комментариев по причинам отказов ...   \n",
      "1    SKOKR-5976  Кастомизация комментариев по причинам отказов ...   \n",
      "2    SKOKR-5975  Кастомизация комментариев по причинам отказов ...   \n",
      "3    SKOKR-5974  Кастомизация комментариев по причинам отказов ...   \n",
      "4    SKOKR-5973  Кастомизация комментариев по причинам отказов ...   \n",
      "..          ...                                                ...   \n",
      "214  SKOKR-5763  Бизнес мониторинг. СКМБ. Разработка - (Аналитика)   \n",
      "215  SKOKR-5762  Внедрены в промышленную эксплуатацию новые ант...   \n",
      "216  SKOKR-5761  Внедрены в промышленную эксплуатацию новые ант...   \n",
      "217  SKOKR-5760              Внедрение ПВР-модели - (Планирование)   \n",
      "218  SKOKR-5759  Бизнес мониторинг. СКМБ. Разработка - (Планиро...   \n",
      "\n",
      "     estimation                             sprint       epic  \\\n",
      "0             1  Спринт 2024.2.6.NPP Shared Sprint  SCOR-2927   \n",
      "1             1  Спринт 2024.2.5.NPP Shared Sprint  SCOR-2927   \n",
      "2             2  Спринт 2024.2.4.NPP Shared Sprint  SCOR-2927   \n",
      "3             2  Спринт 2024.2.3.NPP Shared Sprint  SCOR-2927   \n",
      "4             2  Спринт 2024.2.2.NPP Shared Sprint  SCOR-2927   \n",
      "..          ...                                ...        ...   \n",
      "214           3  Спринт 2024.2.1.NPP Shared Sprint  SCOR-2933   \n",
      "215           1  Спринт 2024.2.1.NPP Shared Sprint  SCOR-2929   \n",
      "216           1  Спринт 2024.2.1.NPP Shared Sprint  SCOR-2929   \n",
      "217           1  Спринт 2024.2.1.NPP Shared Sprint  SCOR-2949   \n",
      "218           1  Спринт 2024.2.1.NPP Shared Sprint  SCOR-2933   \n",
      "\n",
      "                         type  \n",
      "0    [Новая функциональность]  \n",
      "1    [Новая функциональность]  \n",
      "2    [Новая функциональность]  \n",
      "3    [Новая функциональность]  \n",
      "4    [Новая функциональность]  \n",
      "..                        ...  \n",
      "214    [Архитектурная задача]  \n",
      "215  [Новая функциональность]  \n",
      "216  [Новая функциональность]  \n",
      "217  [Новая функциональность]  \n",
      "218    [Архитектурная задача]  \n",
      "\n",
      "[219 rows x 6 columns]\n"
     ]
    }
   ],
   "source": [
    "def getSuperSprintTasks(lst):\n",
    "    # формируем список спринтов для запроса\n",
    "    query_sprints = ''\n",
    "    for sprint in lst:\n",
    "        query_add = '%2C%27'\n",
    "        query_end = '%27'\n",
    "        if query_sprints == '':\n",
    "            query_add = '%28%27'\n",
    "        query_sprints += query_add + str(sprint) + query_end\n",
    "    query_sprints += '%29'\n",
    "    query = 'area%3D%27SKOKR%27%20and%20statusCategory%21%3D%27Done%27%20and%20type%20in%20%28%27task%27%29%20and%20sprint%20in%20' + query_sprints + '&size=1000&page=0&attributesToReturn=checkbox%2Cnumber%2Cname%2CactualSprint%2Cpriority%2Cstatus%2Cestimation%2Cspent%2Cassignee%2Cowner%2CdueDate%2CupdateDate%2CcreateDate%2CworkGroup'\n",
    "    urlQuery = sferaUrlSearch + \"?query=\" + query\n",
    "    #urlQuery = 'https://sfera.inno.local/app/tasks/api/v0.1/entities?query=area%3D%27SKOKR%27%20and%20statusCategory%21%3D%27Done%27%20and%20type%20in%20%28%27task%27%29%20and%20sprint%20in%20%28%274246%27%2C%274247%27%2C%274248%27%2C%274249%27%2C%274250%27%2C%274251%27%29&size=1000&page=0'\n",
    "    response = session.get(urlQuery, verify=False)\n",
    "    if response.ok != True:\n",
    "        raise Exception(\"Error get sprint data \" + response)\n",
    "\n",
    "    tasks = json.loads(response.text)\n",
    "    return tasks\n",
    "\n",
    "def checkTasksEstimation(tasks):\n",
    "    number = []\n",
    "    name = []\n",
    "    estimation = []\n",
    "    sprint = []\n",
    "    epic = []\n",
    "    type = []\n",
    "    for task in tasks['content']:\n",
    "        number.append(task['number'])\n",
    "        name.append(task['name'])\n",
    "        estimation.append(int(task['estimation']/28800))\n",
    "        sprint.append(task['actualSprint']['name'])\n",
    "        type.append(task['workGroup'])\n",
    "        if 'parentNumber' in task:\n",
    "            epic.append(task['parentNumber'])\n",
    "    tasks_df = pd.DataFrame({\n",
    "        'number': number,\n",
    "        'name': name,\n",
    "        'estimation': estimation,\n",
    "        'sprint': sprint,\n",
    "        'epic': epic,\n",
    "        'type': type\n",
    "    })\n",
    "    return tasks_df\n",
    "\n",
    "\n",
    "tasks = getSuperSprintTasks(['4246', '4247', '4248', '4249', '4250', '4251'])\n",
    "tasks_df = checkTasksEstimation(tasks)\n",
    "print(tasks_df)"
   ]
  },
  {
   "cell_type": "code",
   "execution_count": 39,
   "metadata": {},
   "outputs": [
    {
     "name": "stdout",
     "output_type": "stream",
     "text": [
      "<class 'pandas.core.frame.DataFrame'>\n",
      "RangeIndex: 219 entries, 0 to 218\n",
      "Data columns (total 6 columns):\n",
      " #   Column      Non-Null Count  Dtype \n",
      "---  ------      --------------  ----- \n",
      " 0   number      219 non-null    object\n",
      " 1   name        219 non-null    object\n",
      " 2   estimation  219 non-null    int64 \n",
      " 3   sprint      219 non-null    object\n",
      " 4   epic        219 non-null    object\n",
      " 5   type        219 non-null    object\n",
      "dtypes: int64(1), object(5)\n",
      "memory usage: 10.4+ KB\n"
     ]
    }
   ],
   "source": [
    "tasks_df.info()"
   ]
  },
  {
   "cell_type": "code",
   "execution_count": 40,
   "metadata": {},
   "outputs": [],
   "source": [
    "tasks_df['type'] = tasks_df['type'].astype(str)"
   ]
  },
  {
   "cell_type": "code",
   "execution_count": 41,
   "metadata": {},
   "outputs": [],
   "source": [
    "tasks_df['name'] = tasks_df['name'].astype(str)"
   ]
  },
  {
   "cell_type": "code",
   "execution_count": 29,
   "metadata": {},
   "outputs": [
    {
     "data": {
      "text/plain": [
       "<bound method NDFrame.tail of 0      ['Новая функциональность']\n",
       "1      ['Новая функциональность']\n",
       "2      ['Новая функциональность']\n",
       "3      ['Новая функциональность']\n",
       "4      ['Новая функциональность']\n",
       "                  ...            \n",
       "214      ['Архитектурная задача']\n",
       "215    ['Новая функциональность']\n",
       "216    ['Новая функциональность']\n",
       "217    ['Новая функциональность']\n",
       "218      ['Архитектурная задача']\n",
       "Name: type, Length: 219, dtype: object>"
      ]
     },
     "execution_count": 29,
     "metadata": {},
     "output_type": "execute_result"
    }
   ],
   "source": [
    "tasks_df['type'].tail"
   ]
  },
  {
   "cell_type": "code",
   "execution_count": 42,
   "metadata": {},
   "outputs": [
    {
     "data": {
      "text/html": [
       "<div>\n",
       "<style scoped>\n",
       "    .dataframe tbody tr th:only-of-type {\n",
       "        vertical-align: middle;\n",
       "    }\n",
       "\n",
       "    .dataframe tbody tr th {\n",
       "        vertical-align: top;\n",
       "    }\n",
       "\n",
       "    .dataframe thead th {\n",
       "        text-align: right;\n",
       "    }\n",
       "</style>\n",
       "<table border=\"1\" class=\"dataframe\">\n",
       "  <thead>\n",
       "    <tr style=\"text-align: right;\">\n",
       "      <th>type</th>\n",
       "      <th>['Архитектурная задача']</th>\n",
       "      <th>['Линейная деятельность']</th>\n",
       "      <th>['Новая функциональность']</th>\n",
       "      <th>Total</th>\n",
       "    </tr>\n",
       "    <tr>\n",
       "      <th>sprint</th>\n",
       "      <th></th>\n",
       "      <th></th>\n",
       "      <th></th>\n",
       "      <th></th>\n",
       "    </tr>\n",
       "  </thead>\n",
       "  <tbody>\n",
       "    <tr>\n",
       "      <th>Спринт 2024.2.1.NPP Shared Sprint</th>\n",
       "      <td>24</td>\n",
       "      <td>11</td>\n",
       "      <td>43</td>\n",
       "      <td>78</td>\n",
       "    </tr>\n",
       "    <tr>\n",
       "      <th>Спринт 2024.2.2.NPP Shared Sprint</th>\n",
       "      <td>24</td>\n",
       "      <td>10</td>\n",
       "      <td>44</td>\n",
       "      <td>78</td>\n",
       "    </tr>\n",
       "    <tr>\n",
       "      <th>Спринт 2024.2.3.NPP Shared Sprint</th>\n",
       "      <td>25</td>\n",
       "      <td>10</td>\n",
       "      <td>43</td>\n",
       "      <td>78</td>\n",
       "    </tr>\n",
       "    <tr>\n",
       "      <th>Спринт 2024.2.4.NPP Shared Sprint</th>\n",
       "      <td>25</td>\n",
       "      <td>8</td>\n",
       "      <td>45</td>\n",
       "      <td>78</td>\n",
       "    </tr>\n",
       "    <tr>\n",
       "      <th>Спринт 2024.2.5.NPP Shared Sprint</th>\n",
       "      <td>23</td>\n",
       "      <td>9</td>\n",
       "      <td>45</td>\n",
       "      <td>77</td>\n",
       "    </tr>\n",
       "    <tr>\n",
       "      <th>Спринт 2024.2.6.NPP Shared Sprint</th>\n",
       "      <td>19</td>\n",
       "      <td>7</td>\n",
       "      <td>50</td>\n",
       "      <td>76</td>\n",
       "    </tr>\n",
       "    <tr>\n",
       "      <th>Total</th>\n",
       "      <td>140</td>\n",
       "      <td>55</td>\n",
       "      <td>270</td>\n",
       "      <td>465</td>\n",
       "    </tr>\n",
       "  </tbody>\n",
       "</table>\n",
       "</div>"
      ],
      "text/plain": [
       "type                               ['Архитектурная задача']  \\\n",
       "sprint                                                        \n",
       "Спринт 2024.2.1.NPP Shared Sprint                        24   \n",
       "Спринт 2024.2.2.NPP Shared Sprint                        24   \n",
       "Спринт 2024.2.3.NPP Shared Sprint                        25   \n",
       "Спринт 2024.2.4.NPP Shared Sprint                        25   \n",
       "Спринт 2024.2.5.NPP Shared Sprint                        23   \n",
       "Спринт 2024.2.6.NPP Shared Sprint                        19   \n",
       "Total                                                   140   \n",
       "\n",
       "type                               ['Линейная деятельность']  \\\n",
       "sprint                                                         \n",
       "Спринт 2024.2.1.NPP Shared Sprint                         11   \n",
       "Спринт 2024.2.2.NPP Shared Sprint                         10   \n",
       "Спринт 2024.2.3.NPP Shared Sprint                         10   \n",
       "Спринт 2024.2.4.NPP Shared Sprint                          8   \n",
       "Спринт 2024.2.5.NPP Shared Sprint                          9   \n",
       "Спринт 2024.2.6.NPP Shared Sprint                          7   \n",
       "Total                                                     55   \n",
       "\n",
       "type                               ['Новая функциональность']  Total  \n",
       "sprint                                                                \n",
       "Спринт 2024.2.1.NPP Shared Sprint                          43     78  \n",
       "Спринт 2024.2.2.NPP Shared Sprint                          44     78  \n",
       "Спринт 2024.2.3.NPP Shared Sprint                          43     78  \n",
       "Спринт 2024.2.4.NPP Shared Sprint                          45     78  \n",
       "Спринт 2024.2.5.NPP Shared Sprint                          45     77  \n",
       "Спринт 2024.2.6.NPP Shared Sprint                          50     76  \n",
       "Total                                                     270    465  "
      ]
     },
     "execution_count": 42,
     "metadata": {},
     "output_type": "execute_result"
    }
   ],
   "source": [
    "tasks_df.pivot_table(\n",
    "    values='estimation',\n",
    "    index='sprint',\n",
    "    columns='type',\n",
    "    aggfunc='sum',\n",
    "    fill_value=0,\n",
    "    margins=True, \n",
    "    margins_name='Total'\n",
    ")"
   ]
  },
  {
   "cell_type": "code",
   "execution_count": null,
   "metadata": {},
   "outputs": [],
   "source": [
    "tasks_df['type']"
   ]
  }
 ],
 "metadata": {
  "kernelspec": {
   "display_name": "Python 3",
   "language": "python",
   "name": "python3"
  },
  "language_info": {
   "codemirror_mode": {
    "name": "ipython",
    "version": 3
   },
   "file_extension": ".py",
   "mimetype": "text/x-python",
   "name": "python",
   "nbconvert_exporter": "python",
   "pygments_lexer": "ipython3",
   "version": "3.11.0"
  }
 },
 "nbformat": 4,
 "nbformat_minor": 2
}
