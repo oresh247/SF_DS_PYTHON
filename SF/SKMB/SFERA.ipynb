{
 "cells": [
  {
   "cell_type": "code",
   "execution_count": null,
   "metadata": {},
   "outputs": [],
   "source": [
    "import json\n",
    "import requests\n",
    "import csv\n",
    "import configparser\n",
    "import warnings\n",
    "import uuid\n",
    "import pandas as pd\n",
    "import sqlite3 as sl\n",
    "import re\n",
    "import html\n",
    "\n",
    "# Импортируем субмодуль chardet.universal\n",
    "from chardet.universaldetector import UniversalDetector\n",
    "from pprint import pprint\n",
    "import requests # Импортируем библиотеку requests\n",
    "from bs4 import BeautifulSoup # Импортируем библиотеку BeautifulSoup\n",
    "import time # Импортируем модуль time\n",
    "from bs4 import BeautifulSoup"
   ]
  },
  {
   "cell_type": "code",
   "execution_count": null,
   "metadata": {},
   "outputs": [],
   "source": [
    "my_data  = pd.read_csv('my_data.secret', sep=',',index_col='parameters')\n",
    "my_data.astype(str)\n",
    "\n",
    "devUser=my_data.loc['devUser'].values [0]\n",
    "devPassword=my_data.loc['devPassword'].values [0]\n",
    "sferaUrlLogin=my_data.loc['sferaUrlLogin'].values [0]\n",
    "sferaUrl=my_data.loc['sferaUrl'].values [0]\n",
    "sferaTestCaseUrl=my_data.loc['sferaTestCaseUrl'].values [0]\n",
    "sferaTSectionsUrl=my_data.loc['sferaTSectionsUrl'].values [0]\n",
    "sferaSprintUrl=my_data.loc['sferaSprintUrl'].values [0]\n",
    "sferaUrlSearch=my_data.loc['sferaUrlSearch'].values [0]\n",
    "\n",
    "\n",
    "\n"
   ]
  },
  {
   "cell_type": "code",
   "execution_count": null,
   "metadata": {},
   "outputs": [],
   "source": [
    "session = requests.Session()\n",
    "session.post(sferaUrlLogin, json={\"username\": devUser, \"password\": devPassword}, verify=False)"
   ]
  },
  {
   "cell_type": "code",
   "execution_count": null,
   "metadata": {},
   "outputs": [],
   "source": [
    "def getSuperSprintTasks(lst):\n",
    "    # формируем список спринтов для запроса\n",
    "    query_sprints = ''\n",
    "    for sprint in lst:\n",
    "        query_add = '%2C%27'\n",
    "        query_end = '%27'\n",
    "        if query_sprints == '':\n",
    "            query_add = '%28%27'\n",
    "        query_sprints += query_add + str(sprint) + query_end\n",
    "    query_sprints += '%29'\n",
    "    query = 'area%3D%27SKOKR%27%20and%20statusCategory%21%3D%27Done%27%20and%20type%20in%20%28%27task%27%2C%27defect%27%29%20and%20sprint%20in%20' + query_sprints + '&size=1000&page=0&attributesToReturn=checkbox%2Cnumber%2Cname%2CactualSprint%2Cpriority%2Cstatus%2Cestimation%2Cspent%2Cassignee%2Cowner%2CdueDate%2CupdateDate%2CcreateDate%2CworkGroup'\n",
    "    urlQuery = sferaUrlSearch + \"?query=\" + query\n",
    "    #urlQuery = 'https://sfera.inno.local/app/tasks/api/v0.1/entities?query=area%3D%27SKOKR%27%20and%20statusCategory%21%3D%27Done%27%20and%20type%20in%20%28%27task%27%29%20and%20sprint%20in%20%28%274246%27%2C%274247%27%2C%274248%27%2C%274249%27%2C%274250%27%2C%274251%27%29&size=1000&page=0'\n",
    "    response = session.get(urlQuery, verify=False)\n",
    "    if response.ok != True:\n",
    "        raise Exception(\"Error get sprint data \" + response)\n",
    "\n",
    "    tasks = json.loads(response.text)\n",
    "    return tasks\n",
    "\n",
    "def checkTasksEstimation(tasks):\n",
    "    number = []\n",
    "    name = []\n",
    "    estimation = []\n",
    "    sprint = []\n",
    "    epic = []\n",
    "    type = []\n",
    "    for task in tasks['content']:\n",
    "        number.append(task['number'])\n",
    "        name.append(task['name'])\n",
    "        estimation.append(int(task['estimation']/28800))\n",
    "        sprint.append(task['actualSprint']['name'])\n",
    "        if 'workGroup' in task:\n",
    "            type.append(task['workGroup'][0])\n",
    "        else:\n",
    "            type.append('Дефект')\n",
    "        if 'parentNumber' in task:\n",
    "            epic.append(task['parentNumber'])\n",
    "        else:\n",
    "            epic.append('Дефект') \n",
    "\n",
    "    tasks_df = pd.DataFrame({\n",
    "        'number': number,\n",
    "        'name': name,\n",
    "        'estimation': estimation,\n",
    "        'sprint': sprint,\n",
    "        'epic': epic,\n",
    "        'type': type\n",
    "    })\n",
    "    return tasks_df\n",
    "\n",
    "\n",
    "tasks = getSuperSprintTasks(['4246', '4247', '4248', '4249', '4250', '4251'])\n",
    "tasks_df = checkTasksEstimation(tasks)\n",
    "tasks_df['type'] = tasks_df['type'].astype(str)\n",
    "tasks_df['name'] = tasks_df['name'].astype(str)\n"
   ]
  },
  {
   "cell_type": "code",
   "execution_count": null,
   "metadata": {},
   "outputs": [],
   "source": [
    "tasks_df.pivot_table(\n",
    "    values='estimation',\n",
    "    index='sprint',\n",
    "    columns='type',\n",
    "    aggfunc='sum',\n",
    "    fill_value=0,\n",
    "    margins=True, \n",
    "    margins_name='Total'\n",
    ")"
   ]
  },
  {
   "cell_type": "code",
   "execution_count": null,
   "metadata": {},
   "outputs": [],
   "source": [
    "pivot_df = tasks_df.pivot_table(\n",
    "    values='estimation',\n",
    "    index=['sprint','epic'],\n",
    "    columns='type',\n",
    "    aggfunc='sum',\n",
    "    fill_value=0,\n",
    "    margins=True, \n",
    "    margins_name='Total'\n",
    ")\n",
    "#pivot_df.to_csv('pivot_table_results.csv', index=True)\n",
    "pivot_df.to_excel('pivot_table_results.xlsx', index=True)"
   ]
  },
  {
   "cell_type": "code",
   "execution_count": null,
   "metadata": {},
   "outputs": [],
   "source": [
    "df = pd.read_json('data/OKR_Group.json') \n"
   ]
  },
  {
   "cell_type": "code",
   "execution_count": null,
   "metadata": {},
   "outputs": [],
   "source": [
    "df"
   ]
  },
  {
   "cell_type": "code",
   "execution_count": null,
   "metadata": {},
   "outputs": [],
   "source": [
    "df.info()"
   ]
  },
  {
   "cell_type": "code",
   "execution_count": null,
   "metadata": {},
   "outputs": [],
   "source": [
    "df.to_excel('data/OKR_Group.xlsx', sheet_name='ingredients', index=False)"
   ]
  },
  {
   "cell_type": "markdown",
   "metadata": {},
   "source": [
    "Собираем HTML страницу для поставки"
   ]
  },
  {
   "cell_type": "code",
   "execution_count": null,
   "metadata": {},
   "outputs": [],
   "source": [
    "# Задаем константы\n",
    "release = 'OKR_20240623_ATM' # Метка релиза\n",
    "service = 'skmb-pledge-adapter' # Метка сервиса\n",
    "new_version = '2402.5.0'"
   ]
  },
  {
   "cell_type": "code",
   "execution_count": null,
   "metadata": {},
   "outputs": [],
   "source": [
    "prod = pd.read_csv('data/prod.csv', header=None,  names=['data'])\n",
    "def get_service(value):\n",
    "    lst = str.split(value, ' ')\n",
    "    return lst[0]\n",
    "\n",
    "def get_version(value):\n",
    "    lst = str.split(value, ' ')\n",
    "    return lst[-1]\n",
    "\n",
    "prod['service'] = prod['data'].map(get_service)\n",
    "prod['version'] = prod['data'].map(get_version)\n",
    "prod.drop(columns=['data'], inplace=True)"
   ]
  },
  {
   "cell_type": "code",
   "execution_count": null,
   "metadata": {},
   "outputs": [],
   "source": [
    "# Формируем запрос\n",
    "query = 'label%20%3D%20%27' + release + '%27&size=1000&page=0&attributesToReturn=checkbox%2Cnumber%2Cname%2CactualSprint%2Cpriority%2Cstatus%2Cassignee%2Cowner%2CdueDate%2Clabel%2CparentNumber%2Ccomponent'\n",
    "url= sferaUrlSearch + \"?query=\" + query\n",
    "# Делаем запрос задач по фильтру"
   ]
  },
  {
   "cell_type": "code",
   "execution_count": null,
   "metadata": {},
   "outputs": [],
   "source": [
    "response = session.get(url, verify=False)\n",
    "if response.ok != True:\n",
    "    raise Exception(\"Error get sprint data \" + response)\n",
    "\n",
    "tasks = json.loads(response.text)"
   ]
  },
  {
   "cell_type": "code",
   "execution_count": null,
   "metadata": {},
   "outputs": [],
   "source": [
    "tasks"
   ]
  },
  {
   "cell_type": "code",
   "execution_count": null,
   "metadata": {},
   "outputs": [],
   "source": [
    "# Обрабатываем запрос, проходя по всем задачам и формируя списки\n",
    "component_lst = []\n",
    "task_directLink_lst = []\n",
    "prod_version_lst = []\n",
    "# task_name_lst = []\n",
    "# task_number = []\n",
    "\n",
    "counter = 10\n",
    "for task in tasks['content']:\n",
    "    for component in task['component']:\n",
    "        component_name = component['name']\n",
    "        if component_name not in component_lst:\n",
    "            component_lst.append(component['name'])           \n",
    "            template = f\"\"\"\n",
    "    <p>  <macro class=is-locked data-name=SferaTasks id=SferaTasks-mce_{counter} contenteditable=false    data-rtc-uid=16cce9cf-5572-4a48-a85b-3375c3c8ed6d><macro-parameter data-name=query      data-rtc-uid=d2a03405-badc-4db9-b558-c63defb0c191>label = '{release}' and      component='{component_name}'</macro-parameter><macro-parameter data-name=name      data-rtc-uid=299855c1-a21a-4a91-88b3-99539008e3c6>{release}_{component_name}</macro-parameter><macro-parameter      data-name=maxTasks data-rtc-uid=4a9ba1c3-6e18-4939-a108-7890b7347054>20</macro-parameter><macro-parameter      data-name=attributes      data-rtc-uid=150ff77e-2639-48fa-bba0-32dd06b4104f>[{{'name':'Ключ','code':'number'}},{{'name':'Название','code':'name'}},{{'name':'Статус','code':'status'}},{{'name':'Исполнитель','code':'assignee'}}]</macro-parameter><macro-parameter      data-name=createdDate      data-rtc-uid=05fa3e33-7799-4ddc-bc7e-316a518aeeaa>1716579558662</macro-parameter><macro-parameter      data-name=isLocked      data-rtc-uid=3ba10cb8-4865-45c1-aae9-0e8c5437f9c8>false</macro-parameter><macro-rich-text      data-rtc-uid=5dfe052c-765d-4974-8d5d-4d3e356f9bd9></macro-rich-text></macro></p>\n",
    "    \"\"\"\n",
    "            counter+=1\n",
    "            task_directLink_lst.append(template)\n",
    "            if component_name in prod['service'].values:\n",
    "                version = prod.loc[prod['service'] == component_name, 'version'].values[0]\n",
    "                prod_version_lst.append(version)\n",
    "            else:\n",
    "                prod_version_lst.append('')\n",
    "            \n",
    "\n",
    "\n",
    "tasks_df = pd.DataFrame({\n",
    "    'Сервис': component_lst,\n",
    "    'Задачи в сфере': task_directLink_lst,   \n",
    "    'Версия поставки Новый цод': new_version,\n",
    "    'Версия для откатки': prod_version_lst,\n",
    "    'Требует выкатку связанный сервис': '',\n",
    "    'Версия еДТО': '',\n",
    "    'Тест-кейсы': '',\n",
    "    'БЛОК': '',\n",
    "    'Комментарии': ''\n",
    "})"
   ]
  },
  {
   "cell_type": "code",
   "execution_count": null,
   "metadata": {},
   "outputs": [],
   "source": [
    "# Генерируем HTML-код\n",
    "html_code = tasks_df.to_html(index=False)\n",
    "\n",
    "# Декодируем HTML-спецсимволы\n",
    "decoded_html = html.unescape(html_code)\n",
    "decoded_html = str.replace(decoded_html,'\\n','')\n",
    "decoded_html = str.replace(decoded_html,'\\\\n','')\n",
    "decoded_html = str.replace(decoded_html,'\"','')\n",
    "decoded_html = str.replace(decoded_html,\"'\",'\"')\n",
    "decoded_html = str.replace(decoded_html,'class=sfera-link sfera-task sfera-link-style','class=\"sfera-link sfera-task sfera-link-style\"')\n"
   ]
  },
  {
   "cell_type": "code",
   "execution_count": null,
   "metadata": {},
   "outputs": [],
   "source": [
    "url = 'https://sfera.inno.local/app/knowledge/api/page/v2/pages'\n",
    "data = {\n",
    "\"spaceId\": \"cbbcfa0b-0542-4407-9e49-61c6aa7caf1b\",\n",
    "\"parentCid\": 426943,\n",
    "\"name\": \"Test new page 32\",\n",
    "\"content\": decoded_html\n",
    "}\n",
    "response = session.post(url, json=data, verify=False)\n",
    "if response.ok != True:\n",
    "    raise Exception(\"Error creating story \" + response)\n",
    "result = json.loads(response.text)"
   ]
  },
  {
   "cell_type": "code",
   "execution_count": null,
   "metadata": {},
   "outputs": [],
   "source": [
    "url = 'https://sfera.inno.local/app/knowledge/api/page/v1/pages/cid/1258887'\n",
    "response = session.get(url, verify=False)\n",
    "if response.ok != True:\n",
    "    raise Exception(\"Error get sprint data \" + response)\n",
    "\n",
    "page = json.loads(response.text)\n"
   ]
  },
  {
   "cell_type": "code",
   "execution_count": null,
   "metadata": {},
   "outputs": [],
   "source": [
    "html_table = page['payload']['content']\n",
    "\n",
    "# Используем BeautifulSoup для парсинга HTML-таблицы\n",
    "soup = BeautifulSoup(html_table, 'html.parser')\n",
    "table = soup.find('table')\n",
    "\n",
    "# Получаем заголовки столбцов\n",
    "headers = [header.get_text() for header in table.find_all('th')]\n",
    "\n",
    "# Инициализируем список для данных\n",
    "data = []\n",
    "\n",
    "# Получаем данные из строк таблицы\n",
    "for row in table.find_all('tr')[1:]:\n",
    "    row_data = [cell.get_text() for cell in row.find_all('td')]\n",
    "    data.append(row_data)\n",
    "\n",
    "# Создаем DataFrame\n",
    "df = pd.DataFrame(data, columns=headers)\n",
    "\n"
   ]
  },
  {
   "cell_type": "code",
   "execution_count": null,
   "metadata": {},
   "outputs": [],
   "source": [
    "df1 = tasks_df.copy()\n",
    "df2 = df.copy()"
   ]
  },
  {
   "cell_type": "code",
   "execution_count": null,
   "metadata": {},
   "outputs": [],
   "source": [
    "# Сравниваем строки по полю 'key'\n",
    "missing_rows = df1[~df1['Сервис'].isin(df2['Сервис'])]\n",
    "missing_rows "
   ]
  },
  {
   "cell_type": "code",
   "execution_count": null,
   "metadata": {},
   "outputs": [],
   "source": [
    "# Перезаписываем df1 значениями из df2 без учета индекса\n",
    "df1.set_index('Сервис', inplace=True)\n",
    "df2.set_index('Сервис', inplace=True)\n",
    "\n",
    "df2.update(df1[['Задачи в сфере']], overwrite=True)\n",
    "\n",
    "# Сбрасываем индекс для восстановления изначальной структуры\n",
    "df2.reset_index(inplace=True)"
   ]
  },
  {
   "cell_type": "code",
   "execution_count": null,
   "metadata": {},
   "outputs": [],
   "source": [
    "# Добавляем отсутствующие строки из df1 в df2\n",
    "df2 = pd.concat([df2, missing_rows], ignore_index=True)"
   ]
  },
  {
   "cell_type": "code",
   "execution_count": null,
   "metadata": {},
   "outputs": [],
   "source": [
    "df2"
   ]
  },
  {
   "cell_type": "code",
   "execution_count": null,
   "metadata": {},
   "outputs": [],
   "source": [
    "# Генерируем HTML-код\n",
    "html_code = df2.to_html(index=False)\n",
    "\n",
    "# Декодируем HTML-спецсимволы\n",
    "decoded_html = html.unescape(html_code)\n",
    "decoded_html = str.replace(decoded_html,'\\n','')\n",
    "decoded_html = str.replace(decoded_html,'\\\\n','')\n",
    "decoded_html = str.replace(decoded_html,'\"','')\n",
    "decoded_html = str.replace(decoded_html,\"'\",'\"')\n",
    "decoded_html = str.replace(decoded_html,'class=sfera-link sfera-task sfera-link-style','class=\"sfera-link sfera-task sfera-link-style\"')"
   ]
  },
  {
   "cell_type": "code",
   "execution_count": null,
   "metadata": {},
   "outputs": [],
   "source": [
    "url = 'https://sfera.inno.local/app/knowledge/api/page/v2/pages'\n",
    "data = {\n",
    "\"spaceId\": \"cbbcfa0b-0542-4407-9e49-61c6aa7caf1b\",\n",
    "\"parentCid\": 426943,\n",
    "\"name\": \"Test new page 36\",\n",
    "\"content\": decoded_html\n",
    "}\n",
    "response = session.post(url, json=data, verify=False)\n",
    "if response.ok != True:\n",
    "    raise Exception(\"Error creating story \" + response)\n",
    "result = json.loads(response.text)"
   ]
  },
  {
   "cell_type": "code",
   "execution_count": null,
   "metadata": {},
   "outputs": [],
   "source": [
    "# Пример HTML-таблицы\n",
    "html_table = \"\"\"\n",
    "<table id=\"myTable\">\n",
    "  <tr>\n",
    "    <th>Name</th>\n",
    "    <th>Age</th>\n",
    "    <th>City</th>\n",
    "  </tr>\n",
    "  <tr>\n",
    "    <td>Ramesh</td>\n",
    "    <td>25</td>\n",
    "    <td>Delhi</td>\n",
    "  </tr>\n",
    "  <tr>\n",
    "    <td>Suresh</td>\n",
    "    <td>30</td>\n",
    "    <td>Mumbai</td>\n",
    "  </tr>\n",
    "</table>\n",
    "\"\"\"\n",
    "\n",
    "# Парсим HTML-таблицу с помощью BeautifulSoup\n",
    "soup = BeautifulSoup(html_table, 'html.parser')\n",
    "table = soup.find('table')\n",
    "\n",
    "# Создаем новую строку\n",
    "new_row = soup.new_tag('tr')\n",
    "\n",
    "# Добавляем новые данные в новую строку\n",
    "new_data = ['Neha', '28', 'Chennai']\n",
    "for data in new_data:\n",
    "    new_cell = soup.new_tag('td')\n",
    "    new_cell.string = data\n",
    "    new_row.append(new_cell)\n",
    "\n",
    "# Вставляем новую строку в таблицу\n",
    "table.append(new_row)\n",
    "\n",
    "# Выводим обновленную HTML-таблицу\n",
    "print(soup.prettify())"
   ]
  },
  {
   "cell_type": "code",
   "execution_count": null,
   "metadata": {},
   "outputs": [],
   "source": [
    "url = 'https://sfera.inno.local/app/knowledge/api/page/v1/pages/cid/1258887'\n",
    "response = session.get(url, verify=False)\n",
    "if response.ok != True:\n",
    "    raise Exception(\"Error get sprint data \" + response)\n",
    "\n",
    "page = json.loads(response.text)\n"
   ]
  },
  {
   "cell_type": "code",
   "execution_count": null,
   "metadata": {},
   "outputs": [],
   "source": [
    "html_table = page['payload']['content']\n",
    "\n",
    "# Используем BeautifulSoup для парсинга HTML-таблицы\n",
    "soup = BeautifulSoup(html_table, 'html.parser')\n",
    "table = soup.find('table')\n",
    "\n"
   ]
  },
  {
   "cell_type": "code",
   "execution_count": null,
   "metadata": {},
   "outputs": [],
   "source": [
    "# Создаем новую строку\n",
    "new_row = soup.new_tag('tr')\n",
    "\n",
    "# Добавляем новые данные в новую строку\n",
    "new_data = ['Neha', '28', 'Chennai']\n",
    "for data in new_data:\n",
    "    new_cell = soup.new_tag('td')\n",
    "    new_cell.string = data\n",
    "    new_row.append(new_cell)\n",
    "\n",
    "# Вставляем новую строку в таблицу\n",
    "table.append(new_row)\n",
    "\n",
    "# Выводим обновленную HTML-таблицу\n",
    "print(soup.prettify())"
   ]
  }
 ],
 "metadata": {
  "kernelspec": {
   "display_name": "Python 3",
   "language": "python",
   "name": "python3"
  },
  "language_info": {
   "codemirror_mode": {
    "name": "ipython",
    "version": 3
   },
   "file_extension": ".py",
   "mimetype": "text/x-python",
   "name": "python",
   "nbconvert_exporter": "python",
   "pygments_lexer": "ipython3",
   "version": "3.11.0"
  }
 },
 "nbformat": 4,
 "nbformat_minor": 2
}
