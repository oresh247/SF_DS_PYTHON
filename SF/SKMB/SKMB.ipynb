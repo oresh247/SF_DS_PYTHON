{
 "cells": [
  {
   "cell_type": "code",
   "execution_count": null,
   "metadata": {},
   "outputs": [],
   "source": [
    "import psycopg2\n",
    "conn = psycopg2.connect(database=\"skmb_db4\", user=\"skmb_db\",\n",
    "    password=\"NxGm1GiVwBzG\", host=\"stskmb-pgc004lk.corp.dev.vtb\", port=5432)"
   ]
  },
  {
   "cell_type": "code",
   "execution_count": null,
   "metadata": {},
   "outputs": [],
   "source": [
    "cur = conn.cursor()"
   ]
  },
  {
   "cell_type": "markdown",
   "metadata": {},
   "source": [
    "wave_id, agreement_rk, legal_entity_id, accept_flg, agreement_id, agreement_type_cd, application_id, apply_liability_flg, balance_amt, balance_amt_nc, close_f\n",
    "act_dt, close_plan_dt, collateral_repayment_flg, contract_status_cd, credit_program_cd, currency_iso_id, customer_mdm_id, customer_rk, customer_type_cd, delinq_close_31_60_cnt, delinq_close_5_cnt, delinq_close_61_90_cnt, delinq_close_6_30_cnt, delinq_close_91_cnt, full_sale_flg, guarantee_purpose_nm, layer_id, liability_type_cd, links_flg, load_id, loan_amt, loan_amt_nc, max_overdue_amt, max_overdue_days_cnt, monthly_payment_amt, monthly_payment_amt_nc, open_dt, overdue_amt, overdue_amt_nc, overdue_days_cnt, parent_agreement_id, payment_discipline_84m, payment_discipline_84m_2, payment_discipline_start_dt, principal_repayment_rate, processed_dttm, product_group_cd, product_operational_id, product_sub_id, prolongation_cnt, realty_category_cd, reduced_document_set_flg, repaiment_speed_rate, restructure_flg, root_agreement_id, secured_flg, source_system_cd, system_id, technology_nm, type_cd, unused_limit_amt, master_scale_rating_cd, agreement_source_id, agreement_type_name, calendar_dt, contract_closure_reason, currency_exchange_rate, next_payment_date, other_obligations_amt, penalties_amt, type_name\n"
   ]
  },
  {
   "cell_type": "code",
   "execution_count": null,
   "metadata": {},
   "outputs": [],
   "source": [
    "cur.execute(\"SELECT * FROM skmb_db.liability_dedup_int_legal_entity WHERE wave_id = 690\")\n",
    "i = 0\n",
    "for row in cur:\n",
    "    i +=1\n",
    "    print(row)\n",
    "    if i == 10:\n",
    "        break"
   ]
  },
  {
   "cell_type": "code",
   "execution_count": null,
   "metadata": {},
   "outputs": [],
   "source": [
    "import pandas as pd"
   ]
  },
  {
   "cell_type": "code",
   "execution_count": null,
   "metadata": {},
   "outputs": [],
   "source": [
    "sql = \"SELECT * FROM skmb_db.liability_dedup_int_legal_entity WHERE wave_id = 690;\"\n",
    "dat = pd.read_sql_query(sql, conn, mdtype= {})"
   ]
  },
  {
   "cell_type": "code",
   "execution_count": null,
   "metadata": {},
   "outputs": [],
   "source": [
    "dat['legal_entity_id'].unique()\n",
    "legal_entity_id_list = dat['legal_entity_id'].value_counts().nlargest().index"
   ]
  },
  {
   "cell_type": "code",
   "execution_count": null,
   "metadata": {},
   "outputs": [],
   "source": [
    "print(legal_entity_id_list)"
   ]
  },
  {
   "cell_type": "code",
   "execution_count": null,
   "metadata": {},
   "outputs": [],
   "source": [
    "dat['legal_entity_id'] = dat['legal_entity_id'].astype('int16')"
   ]
  },
  {
   "cell_type": "code",
   "execution_count": null,
   "metadata": {},
   "outputs": [],
   "source": [
    "dat.info()"
   ]
  },
  {
   "cell_type": "code",
   "execution_count": 5,
   "metadata": {},
   "outputs": [
    {
     "name": "stdout",
     "output_type": "stream",
     "text": [
      "[['wave_id', 'numeric(10)'], ['agreement_rk', 'numeric(50)'], ['legal_entity_id', 'numeric(20)'], ['accept_flg', 'bpchar(1)'], ['agreement_id', 'varchar(50)'], ['agreement_type_cd', 'varchar(50)'], ['application_id', 'varchar(50)'], ['apply_liability_flg', 'bpchar(3)'], ['balance_amt', 'numeric(23,', '5)'], ['balance_amt_nc', 'numeric(23,', '5)'], ['close_fact_dt', 'date'], ['close_plan_dt', 'date'], ['collateral_repayment_flg', 'bpchar(1)'], ['contract_status_cd', 'numeric(3)'], ['credit_program_cd', 'varchar(10)'], ['currency_iso_id', 'varchar(3)'], ['customer_mdm_id', 'varchar(100)'], ['customer_rk', 'numeric'], ['customer_type_cd', 'bpchar(1)'], ['delinq_close_31_60_cnt', 'numeric'], ['delinq_close_5_cnt', 'numeric'], ['delinq_close_61_90_cnt', 'numeric'], ['delinq_close_6_30_cnt', 'numeric'], ['delinq_close_91_cnt', 'numeric'], ['full_sale_flg', 'bpchar(1)'], ['guarantee_purpose_nm', 'varchar(255)'], ['layer_id', 'numeric'], ['liability_type_cd', 'varchar(4)'], ['links_flg', 'numeric'], ['load_id', 'numeric'], ['loan_amt', 'numeric(23,', '5)'], ['loan_amt_nc', 'numeric(23,', '5)'], ['max_overdue_amt', 'numeric(23,', '5)'], ['max_overdue_days_cnt', 'numeric'], ['monthly_payment_amt', 'numeric(23,', '5)'], ['monthly_payment_amt_nc', 'numeric(23,', '5)'], ['open_dt', 'date'], ['overdue_amt', 'numeric(23,', '5)'], ['overdue_amt_nc', 'numeric(23,', '5)'], ['overdue_days_cnt', 'numeric'], ['parent_agreement_id', 'varchar(50)'], ['payment_discipline_84m', 'varchar(100)'], ['payment_discipline_84m_2', 'varchar(100)'], ['payment_discipline_start_dt', 'date'], ['principal_repayment_rate', 'numeric(23,', '5)'], ['processed_dttm', 'timestamp(0)'], ['product_group_cd', 'varchar(100)'], ['product_operational_id', 'varchar(20)'], ['product_sub_id', 'varchar(100)'], ['prolongation_cnt', 'numeric'], ['realty_category_cd', 'varchar(10)'], ['reduced_document_set_flg', 'bpchar(1)'], ['repaiment_speed_rate', 'numeric(23,', '5)'], ['restructure_flg', 'bpchar(1)'], ['root_agreement_id', 'varchar(200)'], ['secured_flg', 'bpchar(1)'], ['source_system_cd', 'varchar(10)'], ['system_id', 'varchar(20)'], ['technology_nm', 'varchar(100)'], ['type_cd', 'numeric'], ['unused_limit_amt', 'numeric(23,', '5)'], ['master_scale_rating_cd', 'bpchar(3)'], ['agreement_source_id', 'varchar(50)'], ['agreement_type_name', 'varchar(400)'], ['calendar_dt', 'date'], ['contract_closure_reason', 'numeric(22)'], ['currency_exchange_rate', 'numeric(22)'], ['next_payment_date', 'date'], ['other_obligations_amt', 'numeric(22)'], ['penalties_amt', 'numeric(22)'], ['type_name', 'varchar(100)']]\n"
     ]
    }
   ],
   "source": [
    "types = \"\"\"wave_id numeric(10) NOT NULL,\n",
    "agreement_rk numeric(50) NOT NULL,\n",
    "legal_entity_id numeric(20) NOT NULL,\n",
    "accept_flg bpchar(1) NULL,\n",
    "agreement_id varchar(50) NOT NULL,\n",
    "agreement_type_cd varchar(50) NULL,\n",
    "application_id varchar(50) NULL,\n",
    "apply_liability_flg bpchar(3) NULL,\n",
    "balance_amt numeric(23, 5) NULL,\n",
    "balance_amt_nc numeric(23, 5) NULL,\n",
    "close_fact_dt date NULL,\n",
    "close_plan_dt date NULL,\n",
    "collateral_repayment_flg bpchar(1) NULL,\n",
    "contract_status_cd numeric(3) NULL,\n",
    "credit_program_cd varchar(10) NULL,\n",
    "currency_iso_id varchar(3) NULL,\n",
    "customer_mdm_id varchar(100) NOT NULL,\n",
    "customer_rk numeric NOT NULL,\n",
    "customer_type_cd bpchar(1) NULL,\n",
    "delinq_close_31_60_cnt numeric NULL,\n",
    "delinq_close_5_cnt numeric NULL,\n",
    "delinq_close_61_90_cnt numeric NULL,\n",
    "delinq_close_6_30_cnt numeric NULL,\n",
    "delinq_close_91_cnt numeric NULL,\n",
    "full_sale_flg bpchar(1) NULL,\n",
    "guarantee_purpose_nm varchar(255) NULL,\n",
    "layer_id numeric NULL,\n",
    "liability_type_cd varchar(4) NULL,\n",
    "links_flg numeric NULL,\n",
    "load_id numeric NULL,\n",
    "loan_amt numeric(23, 5) NULL,\n",
    "loan_amt_nc numeric(23, 5) NULL,\n",
    "max_overdue_amt numeric(23, 5) NULL,\n",
    "max_overdue_days_cnt numeric NULL,\n",
    "monthly_payment_amt numeric(23, 5) NULL,\n",
    "monthly_payment_amt_nc numeric(23, 5) NULL,\n",
    "open_dt date NULL,\n",
    "overdue_amt numeric(23, 5) NULL,\n",
    "overdue_amt_nc numeric(23, 5) NULL,\n",
    "overdue_days_cnt numeric NULL,\n",
    "parent_agreement_id varchar(50) NULL,\n",
    "payment_discipline_84m varchar(100) NULL,\n",
    "payment_discipline_84m_2 varchar(100) NULL,\n",
    "payment_discipline_start_dt date NULL,\n",
    "principal_repayment_rate numeric(23, 5) NULL,\n",
    "processed_dttm timestamp(0) NULL,\n",
    "product_group_cd varchar(100) NULL,\n",
    "product_operational_id varchar(20) NULL,\n",
    "product_sub_id varchar(100) NULL,\n",
    "prolongation_cnt numeric NULL,\n",
    "realty_category_cd varchar(10) NULL,\n",
    "reduced_document_set_flg bpchar(1) NULL,\n",
    "repaiment_speed_rate numeric(23, 5) NULL,\n",
    "restructure_flg bpchar(1) NULL,\n",
    "root_agreement_id varchar(200) NULL,\n",
    "secured_flg bpchar(1) NULL,\n",
    "source_system_cd varchar(10) NOT NULL,\n",
    "system_id varchar(20) NULL,\n",
    "technology_nm varchar(100) NULL,\n",
    "type_cd numeric NOT NULL,\n",
    "unused_limit_amt numeric(23, 5) NULL,\n",
    "master_scale_rating_cd bpchar(3) NULL,\n",
    "agreement_source_id varchar(50) NULL,\n",
    "agreement_type_name varchar(400) NULL,\n",
    "calendar_dt date NULL,\n",
    "contract_closure_reason numeric(22) NULL,\n",
    "currency_exchange_rate numeric(22) NULL,\n",
    "next_payment_date date NULL,\n",
    "other_obligations_amt numeric(22) NULL,\n",
    "penalties_amt numeric(22) NULL,\n",
    "type_name varchar(100) NULL,\"\"\"\n",
    "\n",
    "types_lst = types.split('\\n')\n",
    "new_types_lst = [(i.split(' ')) for i in types_lst]\n",
    "new_types_lst = list(map(lambda s: list(filter(lambda c: c != 'NOT' and c != 'NULL,',s)),new_types_lst))\n",
    "#new_types_lst = list(map(lambda s: ,new_types_lst))\n",
    "print(new_types_lst)"
   ]
  }
 ],
 "metadata": {
  "kernelspec": {
   "display_name": "Python 3",
   "language": "python",
   "name": "python3"
  },
  "language_info": {
   "codemirror_mode": {
    "name": "ipython",
    "version": 3
   },
   "file_extension": ".py",
   "mimetype": "text/x-python",
   "name": "python",
   "nbconvert_exporter": "python",
   "pygments_lexer": "ipython3",
   "version": "3.11.0"
  }
 },
 "nbformat": 4,
 "nbformat_minor": 2
}
