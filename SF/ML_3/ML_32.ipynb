{
 "cells": [
  {
   "cell_type": "code",
   "execution_count": 1,
   "metadata": {},
   "outputs": [],
   "source": [
    "import numpy as np #для матричных вычислений\n",
    "import pandas as pd #для анализа и предобработки данных\n",
    "import matplotlib.pyplot as plt #для визуализации\n",
    "import seaborn as sns #для визуализации\n",
    "\n",
    "from sklearn import metrics #метрики\n",
    "\n",
    "from sklearn import ensemble #ансамбли"
   ]
  },
  {
   "cell_type": "markdown",
   "metadata": {},
   "source": [
    "Подготовим данные к бинарной классификации"
   ]
  },
  {
   "cell_type": "code",
   "execution_count": 2,
   "metadata": {},
   "outputs": [],
   "source": [
    "wine_data = pd.read_csv('data/winequality-red.csv', sep=';')\n",
    "wine_data['quality'] = wine_data['quality'].apply(lambda x: 1 if x>=6 else 0)\n",
    "X = wine_data.drop('quality', axis=1)\n",
    "y = wine_data['quality']"
   ]
  },
  {
   "cell_type": "markdown",
   "metadata": {},
   "source": [
    "Разделим выборку на тренировочную и тестовую"
   ]
  },
  {
   "cell_type": "code",
   "execution_count": 3,
   "metadata": {},
   "outputs": [],
   "source": [
    "from sklearn.model_selection import train_test_split\n",
    " \n",
    "X_train, X_test, y_train, y_test = train_test_split(X, y, test_size=0.2, random_state=42)"
   ]
  },
  {
   "cell_type": "code",
   "execution_count": 6,
   "metadata": {},
   "outputs": [
    {
     "name": "stdout",
     "output_type": "stream",
     "text": [
      "              precision    recall  f1-score   support\n",
      "\n",
      "           0       0.82      0.86      0.84       603\n",
      "           1       0.87      0.84      0.85       676\n",
      "\n",
      "    accuracy                           0.85      1279\n",
      "   macro avg       0.85      0.85      0.85      1279\n",
      "weighted avg       0.85      0.85      0.85      1279\n",
      "\n"
     ]
    }
   ],
   "source": [
    "#Создаём объект класса RanndomForest\n",
    "rf_clf_full = ensemble.RandomForestClassifier(\n",
    "    n_estimators=500, #число деревьев\n",
    "    criterion='gini', #критерий эффективности\n",
    "    max_depth=8, #максимальная глубина дерева\n",
    "    max_features='sqrt', #число признаков из метода случайных подространств\n",
    "    random_state=42, #генератор случайных чисел\n",
    "    min_samples_leaf=10\n",
    ")\n",
    "\n",
    "\n",
    "#Обучаем модель \n",
    "rf_clf_full.fit(X_train, y_train)\n",
    "\n",
    "#Делаем предсказание класса\n",
    "y_pred = rf_clf_full.predict(X_train)\n",
    "\n",
    "#Выводим отчёт о метриках\n",
    "print(metrics.classification_report(y_train, y_pred))"
   ]
  },
  {
   "cell_type": "code",
   "execution_count": 7,
   "metadata": {},
   "outputs": [
    {
     "name": "stdout",
     "output_type": "stream",
     "text": [
      "              precision    recall  f1-score   support\n",
      "\n",
      "           0       0.70      0.74      0.72       141\n",
      "           1       0.79      0.75      0.77       179\n",
      "\n",
      "    accuracy                           0.75       320\n",
      "   macro avg       0.75      0.75      0.75       320\n",
      "weighted avg       0.75      0.75      0.75       320\n",
      "\n"
     ]
    }
   ],
   "source": [
    "#Делаем предсказание класса\n",
    "y_pred = rf_clf_full.predict(X_test)\n",
    "\n",
    "#Выводим отчёт о метриках\n",
    "print(metrics.classification_report(y_test, y_pred))"
   ]
  }
 ],
 "metadata": {
  "kernelspec": {
   "display_name": "Python 3",
   "language": "python",
   "name": "python3"
  },
  "language_info": {
   "codemirror_mode": {
    "name": "ipython",
    "version": 3
   },
   "file_extension": ".py",
   "mimetype": "text/x-python",
   "name": "python",
   "nbconvert_exporter": "python",
   "pygments_lexer": "ipython3",
   "version": "3.11.0"
  }
 },
 "nbformat": 4,
 "nbformat_minor": 2
}
