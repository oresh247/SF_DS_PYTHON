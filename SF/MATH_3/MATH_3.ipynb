{
 "cells": [
  {
   "cell_type": "code",
   "execution_count": 1,
   "metadata": {},
   "outputs": [],
   "source": [
    "# Загрузка библиотек\n",
    "import numpy as np # для работы с массивами\n",
    "import pandas as pd # для работы с DataFrame \n",
    "from sklearn import datasets # для импорта данных\n",
    "import seaborn as sns # для визуализации статистических данных\n",
    "import matplotlib.pyplot as plt # для построения графиков"
   ]
  },
  {
   "cell_type": "code",
   "execution_count": 12,
   "metadata": {},
   "outputs": [
    {
     "name": "stdout",
     "output_type": "stream",
     "text": [
      "[[ 1  2]\n",
      " [-1  0]\n",
      " [ 2  1]]\n",
      "[1 1]\n"
     ]
    },
    {
     "data": {
      "text/plain": [
       "array([ 3, -1,  3])"
      ]
     },
     "execution_count": 12,
     "metadata": {},
     "output_type": "execute_result"
    }
   ],
   "source": [
    "# создадим вырожденную матрицу А\n",
    "A = np.array([\n",
    "    [1, 2], \n",
    "    [-1, 0], \n",
    "    [2, 1]]\n",
    ")\n",
    "y = np.array([1, 1])\n",
    "print(A)\n",
    "print(y)\n",
    "A@y\n",
    "\n"
   ]
  },
  {
   "cell_type": "code",
   "execution_count": 22,
   "metadata": {},
   "outputs": [],
   "source": [
    "v = np.array([1, 2, 3])\n",
    "F = np.array([\n",
    "    [1, 0, 0], \n",
    "    [0, 0, 1], \n",
    "    [0, -1, 0]]\n",
    ")"
   ]
  },
  {
   "cell_type": "code",
   "execution_count": 24,
   "metadata": {},
   "outputs": [
    {
     "name": "stdout",
     "output_type": "stream",
     "text": [
      "[ 1  3 -2]\n",
      "3.7416573867739413\n",
      "3.7416573867739413\n"
     ]
    }
   ],
   "source": [
    "# Умножение матрицы на вектор\n",
    "image_v = np.dot(F, v)\n",
    "print(image_v)\n",
    "\n",
    "# Вычисление длины вектора image_v\n",
    "length = np.linalg.norm(image_v)\n",
    "print(length)\n",
    "\n",
    "# Вычисление длины вектора v\n",
    "length_v = np.linalg.norm(v)\n",
    "print(length_v)"
   ]
  },
  {
   "cell_type": "code",
   "execution_count": 25,
   "metadata": {},
   "outputs": [
    {
     "name": "stdout",
     "output_type": "stream",
     "text": [
      "image_v = [3 3]\n",
      "image_u = [ 1 -1]\n"
     ]
    }
   ],
   "source": [
    "u = np.array([1, -1])\n",
    "v = np.array([1, 1])\n",
    "F = np.array([\n",
    "    [2, 1], \n",
    "    [1, 2]]\n",
    ")\n",
    "\n",
    "image_v = np.dot(F, v)\n",
    "image_u = np.dot(F, u)\n",
    "\n",
    "print(f'image_v = {image_v}')\n",
    "print(f'image_u = {image_u}')"
   ]
  },
  {
   "cell_type": "code",
   "execution_count": 26,
   "metadata": {},
   "outputs": [
    {
     "name": "stdout",
     "output_type": "stream",
     "text": [
      "length_v = 1.4142135623730951\n",
      "length_u = 1.4142135623730951\n",
      "length_image_v = 4.242640687119285\n",
      "length_image_u = 1.4142135623730951\n"
     ]
    }
   ],
   "source": [
    "# Вычисление длины вектора v\n",
    "length_v = np.linalg.norm(v)\n",
    "\n",
    "# Вычисление длины вектора u\n",
    "length_u = np.linalg.norm(u)\n",
    "\n",
    "# Вычисление длины вектора image_v\n",
    "length_image_v = np.linalg.norm(image_v)\n",
    "\n",
    "# Вычисление длины вектора image_u\n",
    "length_image_u = np.linalg.norm(image_u)\n",
    "\n",
    "print(f'length_v = {length_v}')\n",
    "print(f'length_u = {length_u}')\n",
    "print(f'length_image_v = {length_image_v}')\n",
    "print(f'length_image_u = {length_image_u}')"
   ]
  },
  {
   "cell_type": "code",
   "execution_count": 28,
   "metadata": {},
   "outputs": [
    {
     "name": "stdout",
     "output_type": "stream",
     "text": [
      "sum_uv = [2 0]\n",
      "[4 2]\n"
     ]
    }
   ],
   "source": [
    "# Создание векторов\n",
    "u = np.array([1, -1])\n",
    "v = np.array([1, 1])\n",
    "\n",
    "# Создание матрицы оператора\n",
    "F = np.array([\n",
    "    [2, 1],\n",
    "    [1, 2]\n",
    "])\n",
    "\n",
    "# Вычисление суммы векторов\n",
    "sum_uv = u + v\n",
    "print(f'sum_uv = {sum_uv}')\n",
    "\n",
    "# Проверка условия для собственного вектора\n",
    "result = np.dot(F, sum_uv)\n",
    "print(result)"
   ]
  },
  {
   "cell_type": "code",
   "execution_count": 32,
   "metadata": {},
   "outputs": [
    {
     "name": "stdout",
     "output_type": "stream",
     "text": [
      "[4 0]\n"
     ]
    }
   ],
   "source": [
    "print(2*sum_uv)"
   ]
  },
  {
   "cell_type": "code",
   "execution_count": 29,
   "metadata": {},
   "outputs": [
    {
     "name": "stdout",
     "output_type": "stream",
     "text": [
      "[ 1 -1]\n"
     ]
    }
   ],
   "source": [
    "result = np.dot(F, u)\n",
    "print(result)"
   ]
  },
  {
   "cell_type": "code",
   "execution_count": 30,
   "metadata": {},
   "outputs": [
    {
     "name": "stdout",
     "output_type": "stream",
     "text": [
      "[ 5 -5]\n"
     ]
    }
   ],
   "source": [
    "print(5*u)"
   ]
  },
  {
   "cell_type": "code",
   "execution_count": 31,
   "metadata": {},
   "outputs": [
    {
     "name": "stdout",
     "output_type": "stream",
     "text": [
      "[ 1 -1]\n"
     ]
    }
   ],
   "source": [
    "print(1*u)"
   ]
  },
  {
   "cell_type": "code",
   "execution_count": 33,
   "metadata": {},
   "outputs": [
    {
     "name": "stdout",
     "output_type": "stream",
     "text": [
      "0\n"
     ]
    }
   ],
   "source": [
    "dot_product = np.dot(u, v)\n",
    "print(dot_product)"
   ]
  },
  {
   "cell_type": "code",
   "execution_count": 34,
   "metadata": {},
   "outputs": [
    {
     "data": {
      "text/plain": [
       "np.float64(54.00000000000001)"
      ]
     },
     "execution_count": 34,
     "metadata": {},
     "output_type": "execute_result"
    }
   ],
   "source": [
    "F = np.array([\n",
    "    [7, 2],\n",
    "    [1, 8]\n",
    "])\n",
    "\n",
    "np.linalg.det(F)"
   ]
  },
  {
   "cell_type": "code",
   "execution_count": 35,
   "metadata": {},
   "outputs": [
    {
     "data": {
      "text/plain": [
       "np.int64(3)"
      ]
     },
     "execution_count": 35,
     "metadata": {},
     "output_type": "execute_result"
    }
   ],
   "source": [
    "u = np.array([-2, 1])\n",
    "v = np.array([-1, 1])\n",
    "\n",
    "np.dot(u, v)"
   ]
  },
  {
   "cell_type": "code",
   "execution_count": 36,
   "metadata": {},
   "outputs": [
    {
     "data": {
      "text/plain": [
       "np.int64(-1)"
      ]
     },
     "execution_count": 36,
     "metadata": {},
     "output_type": "execute_result"
    }
   ],
   "source": [
    "u = np.array([-2, 1])\n",
    "v = np.array([1, 1])\n",
    "\n",
    "np.dot(u, v)"
   ]
  },
  {
   "cell_type": "code",
   "execution_count": 37,
   "metadata": {},
   "outputs": [
    {
     "data": {
      "text/plain": [
       "np.int64(1)"
      ]
     },
     "execution_count": 37,
     "metadata": {},
     "output_type": "execute_result"
    }
   ],
   "source": [
    "u = np.array([2, -1])\n",
    "v = np.array([1, 1])\n",
    "\n",
    "np.dot(u, v)"
   ]
  },
  {
   "cell_type": "code",
   "execution_count": 38,
   "metadata": {},
   "outputs": [
    {
     "data": {
      "text/plain": [
       "np.int64(0)"
      ]
     },
     "execution_count": 38,
     "metadata": {},
     "output_type": "execute_result"
    }
   ],
   "source": [
    "u = np.array([-1, 1])\n",
    "v = np.array([1, 1])\n",
    "\n",
    "np.dot(u, v)"
   ]
  },
  {
   "cell_type": "code",
   "execution_count": 39,
   "metadata": {},
   "outputs": [
    {
     "name": "stdout",
     "output_type": "stream",
     "text": [
      "[6. 9.]\n"
     ]
    }
   ],
   "source": [
    "# Характеристическое уравнение (собственные числа)\n",
    "eigenvalues = np.linalg.eigvals(F)\n",
    "print(eigenvalues)"
   ]
  },
  {
   "cell_type": "code",
   "execution_count": 40,
   "metadata": {},
   "outputs": [
    {
     "name": "stdout",
     "output_type": "stream",
     "text": [
      "Проверка для u:\n",
      "Результат: [-12   6]\n",
      "Ожидаемый результат: [-12   6]\n",
      "\n",
      "Проверка для v:\n",
      "Результат: [9 9]\n",
      "Ожидаемый результат: [9 9]\n"
     ]
    }
   ],
   "source": [
    "# Матрица F\n",
    "F = np.array([\n",
    "    [7, 2],\n",
    "    [1, 8]\n",
    "])\n",
    "\n",
    "# Векторы для проверки\n",
    "u = np.array([-2, 1])\n",
    "v = np.array([1, 1])\n",
    "\n",
    "# Собственные числа\n",
    "lambda_u = 6\n",
    "lambda_v = 9\n",
    "\n",
    "# Проверка уравнения для собственного вектора u\n",
    "result_u = np.dot(F, u)\n",
    "expected_u = lambda_u * u\n",
    "\n",
    "print(\"Проверка для u:\")\n",
    "print(\"Результат:\", result_u)\n",
    "print(\"Ожидаемый результат:\", expected_u)\n",
    "\n",
    "# Проверка уравнения для собственного вектора v\n",
    "result_v = np.dot(F, v)\n",
    "expected_v = lambda_v * v\n",
    "\n",
    "print(\"\\nПроверка для v:\")\n",
    "print(\"Результат:\", result_v)\n",
    "print(\"Ожидаемый результат:\", expected_v)"
   ]
  },
  {
   "cell_type": "code",
   "execution_count": 44,
   "metadata": {},
   "outputs": [
    {
     "name": "stdout",
     "output_type": "stream",
     "text": [
      "Проверка для u:\n",
      "Результат: [-1 -1]\n",
      "Ожидаемый результат: [-1 -1]\n",
      "\n",
      "Проверка для v:\n",
      "Результат: [ 5 10]\n",
      "Ожидаемый результат: [ 5 10]\n"
     ]
    }
   ],
   "source": [
    "# Матрица F\n",
    "F = np.array([\n",
    "    [-7, 6],\n",
    "    [-12, 11]\n",
    "])\n",
    "\n",
    "# Векторы для проверки\n",
    "v = np.array([1, 2])\n",
    "u = np.array([1, 1])\n",
    "\n",
    "# Собственные числа\n",
    "lambda_u = -1\n",
    "lambda_v = 5\n",
    "\n",
    "# Проверка уравнения для собственного вектора u\n",
    "result_u = np.dot(F, u)\n",
    "expected_u = lambda_u * u\n",
    "\n",
    "print(\"Проверка для u:\")\n",
    "print(\"Результат:\", result_u)\n",
    "print(\"Ожидаемый результат:\", expected_u)\n",
    "\n",
    "# Проверка уравнения для собственного вектора v\n",
    "result_v = np.dot(F, v)\n",
    "expected_v = lambda_v * v\n",
    "\n",
    "print(\"\\nПроверка для v:\")\n",
    "print(\"Результат:\", result_v)\n",
    "print(\"Ожидаемый результат:\", expected_v)"
   ]
  },
  {
   "cell_type": "code",
   "execution_count": 46,
   "metadata": {},
   "outputs": [
    {
     "name": "stdout",
     "output_type": "stream",
     "text": [
      "Собственные значения: [6. 4.]\n",
      "Собственные векторы:\n",
      " [[ 0.70710678 -0.70710678]\n",
      " [ 0.70710678  0.70710678]]\n"
     ]
    }
   ],
   "source": [
    "# Матрица F\n",
    "F = np.array([\n",
    "    [5, 1],\n",
    "    [1, 5]\n",
    "])\n",
    "# Находим собственные значения и векторы\n",
    "eigenvalues, eigenvectors = np.linalg.eig(F)\n",
    "\n",
    "# Выводим результаты\n",
    "print(\"Собственные значения:\", eigenvalues)\n",
    "print(\"Собственные векторы:\\n\", eigenvectors)"
   ]
  },
  {
   "cell_type": "code",
   "execution_count": 47,
   "metadata": {},
   "outputs": [
    {
     "name": "stdout",
     "output_type": "stream",
     "text": [
      "Собственные числа: \n",
      " [4. 1.]\n",
      "Собственные векторы: \n",
      " [[ 0.89442719 -0.70710678]\n",
      " [ 0.4472136   0.70710678]]\n"
     ]
    }
   ],
   "source": [
    "# создаем матрицу А\n",
    "A = np.array([\n",
    "    [3, 1],\n",
    "    [2, 2]\n",
    "]).T\n",
    "# вычисляем собственные числа и собственные векторы\n",
    "eig_values, eig_vectors = np.linalg.eig(A)\n",
    "print('Собственные числа: \\n', eig_values)\n",
    "print('Собственные векторы: \\n', eig_vectors)"
   ]
  },
  {
   "cell_type": "code",
   "execution_count": 48,
   "metadata": {},
   "outputs": [
    {
     "name": "stdout",
     "output_type": "stream",
     "text": [
      "Собственные числа: \n",
      " [13.59373746  5.03209301  1.37416954]\n",
      "Собственные векторы: \n",
      " [[ 0.45145779  0.83661458  0.10258363]\n",
      " [ 0.62348353  0.44632316 -0.77299039]\n",
      " [ 0.63832135  0.31760303  0.62606905]]\n"
     ]
    }
   ],
   "source": [
    "# создаем матрицу А\n",
    "A = np.array([\n",
    "    [1, -5, -6],\n",
    "    [4, 8, 7],\n",
    "    [5, 9, 11]\n",
    "]).T\n",
    "# вычисляем собственные числа и собственные векторы\n",
    "eig_values, eig_vectors = np.linalg.eig(A)\n",
    "print('Собственные числа: \\n', eig_values)\n",
    "print('Собственные векторы: \\n', eig_vectors)"
   ]
  },
  {
   "cell_type": "code",
   "execution_count": 49,
   "metadata": {},
   "outputs": [
    {
     "name": "stdout",
     "output_type": "stream",
     "text": [
      "Собственные числа: \n",
      " [ 2.54687092e+01  1.53129080e+00  1.63252001e-14 -1.00000000e+00]\n",
      "Собственные векторы: \n",
      " [[-0.33176532 -0.6739195   0.5479715  -0.5312532 ]\n",
      " [-0.75622544 -0.67703635  0.72006173 -0.64930947]\n",
      " [-0.42446012 -0.00311685 -0.00452869 -0.11805627]\n",
      " [-0.37133334  0.2957103  -0.42569687  0.5312532 ]]\n"
     ]
    }
   ],
   "source": [
    "# создаем матрицу А\n",
    "A = np.array([\n",
    "    [1, -4, -5, -6],\n",
    "    [4, 12, 8, 7],\n",
    "    [5, 14, 9, 11],    [8, 15, 7, 4]\n",
    "]).T\n",
    "# вычисляем собственные числа и собственные векторы\n",
    "eig_values, eig_vectors = np.linalg.eig(A)\n",
    "print('Собственные числа: \\n', eig_values)\n",
    "print('Собственные векторы: \\n', eig_vectors)"
   ]
  },
  {
   "cell_type": "code",
   "execution_count": 50,
   "metadata": {},
   "outputs": [
    {
     "name": "stdout",
     "output_type": "stream",
     "text": [
      "Собственные числа: \n",
      " [0.+1.j 0.-1.j]\n",
      "Собственные векторы: \n",
      " [[0.70710678+0.j         0.70710678-0.j        ]\n",
      " [0.        -0.70710678j 0.        +0.70710678j]]\n"
     ]
    }
   ],
   "source": [
    "# создаем матрицу А\n",
    "A = np.array([\n",
    "    [0, 1],\n",
    "    [-1, 0],\n",
    "]).T\n",
    "# вычисляем собственные числа и собственные векторы\n",
    "eig_values, eig_vectors = np.linalg.eig(A)\n",
    "print('Собственные числа: \\n', eig_values)\n",
    "print('Собственные векторы: \\n', eig_vectors)"
   ]
  }
 ],
 "metadata": {
  "kernelspec": {
   "display_name": "Python 3",
   "language": "python",
   "name": "python3"
  },
  "language_info": {
   "codemirror_mode": {
    "name": "ipython",
    "version": 3
   },
   "file_extension": ".py",
   "mimetype": "text/x-python",
   "name": "python",
   "nbconvert_exporter": "python",
   "pygments_lexer": "ipython3",
   "version": "3.13.1"
  }
 },
 "nbformat": 4,
 "nbformat_minor": 2
}
