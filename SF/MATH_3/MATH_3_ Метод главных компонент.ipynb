{
 "cells": [
  {
   "cell_type": "code",
   "execution_count": 2,
   "metadata": {},
   "outputs": [],
   "source": [
    "# Загрузка библиотек\n",
    "import numpy as np # для работы с массивами\n",
    "import pandas as pd # для работы с DataFrame \n",
    "from sklearn import datasets # для импорта данных\n",
    "import seaborn as sns # для визуализации статистических данных\n",
    "import matplotlib.pyplot as plt # для построения графиков"
   ]
  },
  {
   "cell_type": "code",
   "execution_count": 10,
   "metadata": {},
   "outputs": [],
   "source": [
    "x1 = np.array([1, 2, 1, 1]).T\n",
    "x2 = np.array([70, 130, 65, 60]).T\n",
    "C = np.array([[1, 0.9922], [0.9922, 1]])"
   ]
  },
  {
   "cell_type": "code",
   "execution_count": 11,
   "metadata": {},
   "outputs": [
    {
     "name": "stdout",
     "output_type": "stream",
     "text": [
      "[-0.24  0.86 -0.29 -0.33]\n"
     ]
    }
   ],
   "source": [
    "eig_values, eig_vectors = np.linalg.eig(C)\n",
    "\n",
    "# При составлении нового фактора нужно брать именно стандартизированные признаки: центрированные и нормированные к единичной длине:\n",
    "x1_norm = (x1 - x1.mean()) / np.linalg.norm(x1)\n",
    "x2_norm = (x2 - x2.mean()) / np.linalg.norm(x2)\n",
    "\n",
    "# Координаты собственного вектора будут коэффициентами для линейной комбинации старых признаков\n",
    "x_new = x1_norm * eig_vectors[0][0] + x2_norm * eig_vectors[1][0]\n",
    "\n",
    "# необходимо нормировать полученный фактор:\n",
    "x_new_norm = (x_new - x_new.mean()) / np.linalg.norm(x_new)\n",
    "\n",
    "print(np.round(x_new_norm, 2))"
   ]
  }
 ],
 "metadata": {
  "kernelspec": {
   "display_name": "Python 3",
   "language": "python",
   "name": "python3"
  },
  "language_info": {
   "codemirror_mode": {
    "name": "ipython",
    "version": 3
   },
   "file_extension": ".py",
   "mimetype": "text/x-python",
   "name": "python",
   "nbconvert_exporter": "python",
   "pygments_lexer": "ipython3",
   "version": "3.13.1"
  }
 },
 "nbformat": 4,
 "nbformat_minor": 2
}
